{
 "cells": [
  {
   "cell_type": "markdown",
   "id": "1604c4f9",
   "metadata": {},
   "source": [
    "<div style=\" background-color: RGB(0,114,200);\" >\n",
    "<h1 style=\"margin: auto; padding: 20px 0; color:#fff; text-align: center\">PROJET DATA ANALYST</h1>\n",
    "<h2 style=\"margin: auto; padding: 20px 0; color:#fff; text-align: center\">Conduct a public health study\n",
    "</h2>\n",
    "</div>"
   ]
  },
  {
   "cell_type": "markdown",
   "id": "9dad8326",
   "metadata": {},
   "source": [
    "<div style=\"background-color: RGB(0,150,250);\" >\n",
    "<h2 style=\"margin: auto; padding: 20px; color:#fff; \">Step 1 - Importing libraries and loading files</h2>\n",
    "</div>"
   ]
  },
  {
   "cell_type": "markdown",
   "id": "4ee69457",
   "metadata": {},
   "source": [
    "<div style=\"border: 1px solid RGB(0,150,250);\" >\n",
    "<h3 style=\"margin: auto; padding: 20px; color: RGB(0,150,250); \">1.1 - Importing libraries</h3>\n",
    "</div>"
   ]
  },
  {
   "cell_type": "code",
   "execution_count": 89,
   "id": "ffe62b56",
   "metadata": {
    "is_executing": true,
    "tags": []
   },
   "outputs": [],
   "source": [
    "import pandas as pd\n",
    "import numpy as np\n",
    "import matplotlib.pyplot as plt\n",
    "import seaborn as sns\n",
    "import matplotlib.cm as cm"
   ]
  },
  {
   "cell_type": "markdown",
   "id": "8bd8e7ed",
   "metadata": {},
   "source": [
    "<div style=\"border: 1px solid RGB(0,150,250);\" >\n",
    "<h3 style=\"margin: auto; padding: 20px; color: RGB(0,150,250); \">1.2 - Loading files Excel</h3>\n",
    "</div>"
   ]
  },
  {
   "cell_type": "code",
   "execution_count": 90,
   "id": "b9b3e448",
   "metadata": {
    "ExecuteTime": {
     "end_time": "2023-09-04T19:19:00.263850600Z",
     "start_time": "2023-09-04T19:18:59.901955500Z"
    },
    "tags": []
   },
   "outputs": [],
   "source": [
    "pop = pd.read_csv('population.csv')\n",
    "da = pd.read_csv('dispo_alimentaire.csv')\n",
    "aa = pd.read_csv('aide_alimentaire.csv')\n",
    "sn = pd.read_csv('sous_nutrition.csv')\n"
   ]
  },
  {
   "cell_type": "markdown",
   "id": "1249847a",
   "metadata": {},
   "source": [
    "<div style=\"background-color: RGB(0,150,250);\" >\n",
    "<h2 style=\"margin: auto; padding: 20px; color:#fff; \">Step 2 - Exploratory file analysis</h2>\n",
    "</div>"
   ]
  },
  {
   "cell_type": "markdown",
   "id": "235e6e91",
   "metadata": {},
   "source": [
    "<div style=\"border: 1px solid RGB(0,150,250);\" >\n",
    "<h3 style=\"margin: auto; padding: 20px; color: RGB(0,150,250); \">2.1 - Exploratory analysis of the population file</h3>\n",
    "</div>"
   ]
  },
  {
   "cell_type": "code",
   "execution_count": 91,
   "id": "e6b639d2",
   "metadata": {
    "ExecuteTime": {
     "end_time": "2023-09-04T19:19:00.342092500Z",
     "start_time": "2023-09-04T19:19:00.268837500Z"
    },
    "scrolled": true,
    "tags": []
   },
   "outputs": [
    {
     "name": "stdout",
     "output_type": "stream",
     "text": [
      "The table contains 1416 comment(s) or item(s)\n",
      "The table has 3 column(s)\n"
     ]
    }
   ],
   "source": [
    "#Display dataset dimensions\n",
    "print(\"The table contains {} comment(s) or item(s)\".format(pop.shape[0]))\n",
    "print(\"The table has {} column(s)\".format(pop.shape[1]))"
   ]
  },
  {
   "cell_type": "code",
   "execution_count": 92,
   "id": "fbbdfd5c",
   "metadata": {
    "ExecuteTime": {
     "end_time": "2023-09-04T19:19:00.839828300Z",
     "start_time": "2023-09-04T19:19:00.306187300Z"
    },
    "tags": []
   },
   "outputs": [
    {
     "name": "stdout",
     "output_type": "stream",
     "text": [
      "The number of columns is 3\n",
      "The nature of the data for column Zone is object\n",
      "The nature of the data for column Année is int64\n",
      "The nature of the data for column Valeur is float64\n"
     ]
    }
   ],
   "source": [
    "#View number of columns\n",
    "#The type of data in each column\n",
    "#Number of values in each column\n",
    "\n",
    "#Consult the number of columns\n",
    "print(f\"The number of columns is {pop.shape[1]}\")\n",
    "#The type of data in each column\n",
    "print(f\"The nature of the data for column {pop.columns[0]} is {pop.dtypes[0]}\")\n",
    "print(f\"The nature of the data for column {pop.columns[1]} is {pop.dtypes[1]}\")\n",
    "print(f\"The nature of the data for column {pop.columns[2]} is {pop.dtypes[2]}\")\n",
    "#The number of values in each column"
   ]
  },
  {
   "cell_type": "code",
   "execution_count": 93,
   "id": "3e50d9e6",
   "metadata": {
    "ExecuteTime": {
     "end_time": "2023-09-04T19:19:01.029045200Z",
     "start_time": "2023-09-04T19:19:00.843818500Z"
    },
    "tags": []
   },
   "outputs": [
    {
     "data": {
      "text/html": [
       "<div>\n",
       "<style scoped>\n",
       "    .dataframe tbody tr th:only-of-type {\n",
       "        vertical-align: middle;\n",
       "    }\n",
       "\n",
       "    .dataframe tbody tr th {\n",
       "        vertical-align: top;\n",
       "    }\n",
       "\n",
       "    .dataframe thead th {\n",
       "        text-align: right;\n",
       "    }\n",
       "</style>\n",
       "<table border=\"1\" class=\"dataframe\">\n",
       "  <thead>\n",
       "    <tr style=\"text-align: right;\">\n",
       "      <th></th>\n",
       "      <th>Zone</th>\n",
       "      <th>Année</th>\n",
       "      <th>Valeur</th>\n",
       "    </tr>\n",
       "  </thead>\n",
       "  <tbody>\n",
       "    <tr>\n",
       "      <th>0</th>\n",
       "      <td>Afghanistan</td>\n",
       "      <td>2013</td>\n",
       "      <td>32269.589</td>\n",
       "    </tr>\n",
       "    <tr>\n",
       "      <th>1</th>\n",
       "      <td>Afghanistan</td>\n",
       "      <td>2014</td>\n",
       "      <td>33370.794</td>\n",
       "    </tr>\n",
       "    <tr>\n",
       "      <th>2</th>\n",
       "      <td>Afghanistan</td>\n",
       "      <td>2015</td>\n",
       "      <td>34413.603</td>\n",
       "    </tr>\n",
       "    <tr>\n",
       "      <th>3</th>\n",
       "      <td>Afghanistan</td>\n",
       "      <td>2016</td>\n",
       "      <td>35383.032</td>\n",
       "    </tr>\n",
       "    <tr>\n",
       "      <th>4</th>\n",
       "      <td>Afghanistan</td>\n",
       "      <td>2017</td>\n",
       "      <td>36296.113</td>\n",
       "    </tr>\n",
       "  </tbody>\n",
       "</table>\n",
       "</div>"
      ],
      "text/plain": [
       "          Zone  Année     Valeur\n",
       "0  Afghanistan   2013  32269.589\n",
       "1  Afghanistan   2014  33370.794\n",
       "2  Afghanistan   2015  34413.603\n",
       "3  Afghanistan   2016  35383.032\n",
       "4  Afghanistan   2017  36296.113"
      ]
     },
     "execution_count": 93,
     "metadata": {},
     "output_type": "execute_result"
    }
   ],
   "source": [
    "#Display the first 5 rows of the table\n",
    "pop.head()"
   ]
  },
  {
   "cell_type": "code",
   "execution_count": 94,
   "id": "ab1a4af4",
   "metadata": {
    "ExecuteTime": {
     "end_time": "2023-09-04T19:19:01.300733800Z",
     "start_time": "2023-09-04T19:19:00.963223100Z"
    },
    "tags": []
   },
   "outputs": [],
   "source": [
    "#Units harmonization by multiplying the population by 1000\n",
    "#Multiply value column by 1000\n",
    "pop[\"Valeur\"] *=1000"
   ]
  },
  {
   "cell_type": "code",
   "execution_count": 95,
   "id": "38836b61",
   "metadata": {
    "ExecuteTime": {
     "end_time": "2023-09-04T19:19:01.826214600Z",
     "start_time": "2023-09-04T19:19:01.124197800Z"
    },
    "tags": []
   },
   "outputs": [],
   "source": [
    "#change column name from \"Valeur\" to \"Population\"\n",
    "pop.rename(columns={\"Valeur\":\"Population\"},inplace = True)"
   ]
  },
  {
   "cell_type": "code",
   "execution_count": 96,
   "id": "ff707561",
   "metadata": {
    "ExecuteTime": {
     "end_time": "2023-09-04T19:19:02.039503700Z",
     "start_time": "2023-09-04T19:19:01.321527100Z"
    },
    "tags": []
   },
   "outputs": [
    {
     "data": {
      "text/html": [
       "<div>\n",
       "<style scoped>\n",
       "    .dataframe tbody tr th:only-of-type {\n",
       "        vertical-align: middle;\n",
       "    }\n",
       "\n",
       "    .dataframe tbody tr th {\n",
       "        vertical-align: top;\n",
       "    }\n",
       "\n",
       "    .dataframe thead th {\n",
       "        text-align: right;\n",
       "    }\n",
       "</style>\n",
       "<table border=\"1\" class=\"dataframe\">\n",
       "  <thead>\n",
       "    <tr style=\"text-align: right;\">\n",
       "      <th></th>\n",
       "      <th>Zone</th>\n",
       "      <th>Année</th>\n",
       "      <th>Population</th>\n",
       "    </tr>\n",
       "  </thead>\n",
       "  <tbody>\n",
       "    <tr>\n",
       "      <th>0</th>\n",
       "      <td>Afghanistan</td>\n",
       "      <td>2013</td>\n",
       "      <td>32269589.0</td>\n",
       "    </tr>\n",
       "    <tr>\n",
       "      <th>1</th>\n",
       "      <td>Afghanistan</td>\n",
       "      <td>2014</td>\n",
       "      <td>33370794.0</td>\n",
       "    </tr>\n",
       "    <tr>\n",
       "      <th>2</th>\n",
       "      <td>Afghanistan</td>\n",
       "      <td>2015</td>\n",
       "      <td>34413603.0</td>\n",
       "    </tr>\n",
       "    <tr>\n",
       "      <th>3</th>\n",
       "      <td>Afghanistan</td>\n",
       "      <td>2016</td>\n",
       "      <td>35383032.0</td>\n",
       "    </tr>\n",
       "    <tr>\n",
       "      <th>4</th>\n",
       "      <td>Afghanistan</td>\n",
       "      <td>2017</td>\n",
       "      <td>36296113.0</td>\n",
       "    </tr>\n",
       "  </tbody>\n",
       "</table>\n",
       "</div>"
      ],
      "text/plain": [
       "          Zone  Année  Population\n",
       "0  Afghanistan   2013  32269589.0\n",
       "1  Afghanistan   2014  33370794.0\n",
       "2  Afghanistan   2015  34413603.0\n",
       "3  Afghanistan   2016  35383032.0\n",
       "4  Afghanistan   2017  36296113.0"
      ]
     },
     "execution_count": 96,
     "metadata": {},
     "output_type": "execute_result"
    }
   ],
   "source": [
    "#Display the first 5 rows of the table to see changes\n",
    "pop.head()"
   ]
  },
  {
   "cell_type": "markdown",
   "id": "4224b896",
   "metadata": {},
   "source": [
    "<div style=\"border: 1px solid RGB(0,150,250);\" >\n",
    "<h3 style=\"margin: auto; padding: 20px; color: RGB(0,150,250); \">2.2 - Exploratory analysis of the food availability file</h3>\n",
    "</div>"
   ]
  },
  {
   "cell_type": "code",
   "execution_count": 97,
   "id": "38f5b838",
   "metadata": {
    "ExecuteTime": {
     "end_time": "2023-09-04T19:19:02.041500800Z",
     "start_time": "2023-09-04T19:19:01.649324100Z"
    },
    "tags": []
   },
   "outputs": [
    {
     "name": "stdout",
     "output_type": "stream",
     "text": [
      "The table contains 15605 observation(s) or item(s)\n",
      "The array contains 18 column(s)\n"
     ]
    }
   ],
   "source": [
    "#Display dataset dimensions\n",
    "print(f\"The table contains {da.shape[0]} observation(s) or item(s)\")\n",
    "print(f\"The array contains {da.shape[1]} column(s)\")"
   ]
  },
  {
   "cell_type": "code",
   "execution_count": 98,
   "id": "99735a22",
   "metadata": {
    "ExecuteTime": {
     "end_time": "2023-09-04T19:19:02.042497Z",
     "start_time": "2023-09-04T19:19:01.650320300Z"
    },
    "tags": []
   },
   "outputs": [
    {
     "name": "stdout",
     "output_type": "stream",
     "text": [
      "The array contains 18 column(s)\n"
     ]
    }
   ],
   "source": [
    "#Check number of columns\n",
    "print(f\"The array contains {da.shape[1]} column(s)\")"
   ]
  },
  {
   "cell_type": "code",
   "execution_count": 99,
   "id": "0058032d",
   "metadata": {
    "ExecuteTime": {
     "end_time": "2023-09-04T19:19:02.049478600Z",
     "start_time": "2023-09-04T19:19:01.651319800Z"
    },
    "tags": []
   },
   "outputs": [
    {
     "data": {
      "text/html": [
       "<div>\n",
       "<style scoped>\n",
       "    .dataframe tbody tr th:only-of-type {\n",
       "        vertical-align: middle;\n",
       "    }\n",
       "\n",
       "    .dataframe tbody tr th {\n",
       "        vertical-align: top;\n",
       "    }\n",
       "\n",
       "    .dataframe thead th {\n",
       "        text-align: right;\n",
       "    }\n",
       "</style>\n",
       "<table border=\"1\" class=\"dataframe\">\n",
       "  <thead>\n",
       "    <tr style=\"text-align: right;\">\n",
       "      <th></th>\n",
       "      <th>Zone</th>\n",
       "      <th>Produit</th>\n",
       "      <th>Origine</th>\n",
       "      <th>Aliments pour animaux</th>\n",
       "      <th>Autres Utilisations</th>\n",
       "      <th>Disponibilité alimentaire (Kcal/personne/jour)</th>\n",
       "      <th>Disponibilité alimentaire en quantité (kg/personne/an)</th>\n",
       "      <th>Disponibilité de matière grasse en quantité (g/personne/jour)</th>\n",
       "      <th>Disponibilité de protéines en quantité (g/personne/jour)</th>\n",
       "      <th>Disponibilité intérieure</th>\n",
       "      <th>Exportations - Quantité</th>\n",
       "      <th>Importations - Quantité</th>\n",
       "      <th>Nourriture</th>\n",
       "      <th>Pertes</th>\n",
       "      <th>Production</th>\n",
       "      <th>Semences</th>\n",
       "      <th>Traitement</th>\n",
       "      <th>Variation de stock</th>\n",
       "    </tr>\n",
       "  </thead>\n",
       "  <tbody>\n",
       "    <tr>\n",
       "      <th>0</th>\n",
       "      <td>Afghanistan</td>\n",
       "      <td>Abats Comestible</td>\n",
       "      <td>animale</td>\n",
       "      <td>NaN</td>\n",
       "      <td>NaN</td>\n",
       "      <td>5.0</td>\n",
       "      <td>1.72</td>\n",
       "      <td>0.20</td>\n",
       "      <td>0.77</td>\n",
       "      <td>53.0</td>\n",
       "      <td>NaN</td>\n",
       "      <td>NaN</td>\n",
       "      <td>53.0</td>\n",
       "      <td>NaN</td>\n",
       "      <td>53.0</td>\n",
       "      <td>NaN</td>\n",
       "      <td>NaN</td>\n",
       "      <td>NaN</td>\n",
       "    </tr>\n",
       "    <tr>\n",
       "      <th>1</th>\n",
       "      <td>Afghanistan</td>\n",
       "      <td>Agrumes, Autres</td>\n",
       "      <td>vegetale</td>\n",
       "      <td>NaN</td>\n",
       "      <td>NaN</td>\n",
       "      <td>1.0</td>\n",
       "      <td>1.29</td>\n",
       "      <td>0.01</td>\n",
       "      <td>0.02</td>\n",
       "      <td>41.0</td>\n",
       "      <td>2.0</td>\n",
       "      <td>40.0</td>\n",
       "      <td>39.0</td>\n",
       "      <td>2.0</td>\n",
       "      <td>3.0</td>\n",
       "      <td>NaN</td>\n",
       "      <td>NaN</td>\n",
       "      <td>NaN</td>\n",
       "    </tr>\n",
       "    <tr>\n",
       "      <th>2</th>\n",
       "      <td>Afghanistan</td>\n",
       "      <td>Aliments pour enfants</td>\n",
       "      <td>vegetale</td>\n",
       "      <td>NaN</td>\n",
       "      <td>NaN</td>\n",
       "      <td>1.0</td>\n",
       "      <td>0.06</td>\n",
       "      <td>0.01</td>\n",
       "      <td>0.03</td>\n",
       "      <td>2.0</td>\n",
       "      <td>NaN</td>\n",
       "      <td>2.0</td>\n",
       "      <td>2.0</td>\n",
       "      <td>NaN</td>\n",
       "      <td>NaN</td>\n",
       "      <td>NaN</td>\n",
       "      <td>NaN</td>\n",
       "      <td>NaN</td>\n",
       "    </tr>\n",
       "    <tr>\n",
       "      <th>3</th>\n",
       "      <td>Afghanistan</td>\n",
       "      <td>Ananas</td>\n",
       "      <td>vegetale</td>\n",
       "      <td>NaN</td>\n",
       "      <td>NaN</td>\n",
       "      <td>0.0</td>\n",
       "      <td>0.00</td>\n",
       "      <td>NaN</td>\n",
       "      <td>NaN</td>\n",
       "      <td>0.0</td>\n",
       "      <td>NaN</td>\n",
       "      <td>0.0</td>\n",
       "      <td>0.0</td>\n",
       "      <td>NaN</td>\n",
       "      <td>NaN</td>\n",
       "      <td>NaN</td>\n",
       "      <td>NaN</td>\n",
       "      <td>NaN</td>\n",
       "    </tr>\n",
       "    <tr>\n",
       "      <th>4</th>\n",
       "      <td>Afghanistan</td>\n",
       "      <td>Bananes</td>\n",
       "      <td>vegetale</td>\n",
       "      <td>NaN</td>\n",
       "      <td>NaN</td>\n",
       "      <td>4.0</td>\n",
       "      <td>2.70</td>\n",
       "      <td>0.02</td>\n",
       "      <td>0.05</td>\n",
       "      <td>82.0</td>\n",
       "      <td>NaN</td>\n",
       "      <td>82.0</td>\n",
       "      <td>82.0</td>\n",
       "      <td>NaN</td>\n",
       "      <td>NaN</td>\n",
       "      <td>NaN</td>\n",
       "      <td>NaN</td>\n",
       "      <td>NaN</td>\n",
       "    </tr>\n",
       "  </tbody>\n",
       "</table>\n",
       "</div>"
      ],
      "text/plain": [
       "          Zone                Produit   Origine  Aliments pour animaux  \\\n",
       "0  Afghanistan       Abats Comestible   animale                    NaN   \n",
       "1  Afghanistan        Agrumes, Autres  vegetale                    NaN   \n",
       "2  Afghanistan  Aliments pour enfants  vegetale                    NaN   \n",
       "3  Afghanistan                 Ananas  vegetale                    NaN   \n",
       "4  Afghanistan                Bananes  vegetale                    NaN   \n",
       "\n",
       "   Autres Utilisations  Disponibilité alimentaire (Kcal/personne/jour)  \\\n",
       "0                  NaN                                             5.0   \n",
       "1                  NaN                                             1.0   \n",
       "2                  NaN                                             1.0   \n",
       "3                  NaN                                             0.0   \n",
       "4                  NaN                                             4.0   \n",
       "\n",
       "   Disponibilité alimentaire en quantité (kg/personne/an)  \\\n",
       "0                                               1.72        \n",
       "1                                               1.29        \n",
       "2                                               0.06        \n",
       "3                                               0.00        \n",
       "4                                               2.70        \n",
       "\n",
       "   Disponibilité de matière grasse en quantité (g/personne/jour)  \\\n",
       "0                                               0.20               \n",
       "1                                               0.01               \n",
       "2                                               0.01               \n",
       "3                                                NaN               \n",
       "4                                               0.02               \n",
       "\n",
       "   Disponibilité de protéines en quantité (g/personne/jour)  \\\n",
       "0                                               0.77          \n",
       "1                                               0.02          \n",
       "2                                               0.03          \n",
       "3                                                NaN          \n",
       "4                                               0.05          \n",
       "\n",
       "   Disponibilité intérieure  Exportations - Quantité  Importations - Quantité  \\\n",
       "0                      53.0                      NaN                      NaN   \n",
       "1                      41.0                      2.0                     40.0   \n",
       "2                       2.0                      NaN                      2.0   \n",
       "3                       0.0                      NaN                      0.0   \n",
       "4                      82.0                      NaN                     82.0   \n",
       "\n",
       "   Nourriture  Pertes  Production  Semences  Traitement  Variation de stock  \n",
       "0        53.0     NaN        53.0       NaN         NaN                 NaN  \n",
       "1        39.0     2.0         3.0       NaN         NaN                 NaN  \n",
       "2         2.0     NaN         NaN       NaN         NaN                 NaN  \n",
       "3         0.0     NaN         NaN       NaN         NaN                 NaN  \n",
       "4        82.0     NaN         NaN       NaN         NaN                 NaN  "
      ]
     },
     "execution_count": 99,
     "metadata": {},
     "output_type": "execute_result"
    }
   ],
   "source": [
    "#Display the first 5 rows of the table\n",
    "da.head()"
   ]
  },
  {
   "cell_type": "code",
   "execution_count": 100,
   "id": "f3832569",
   "metadata": {
    "ExecuteTime": {
     "end_time": "2023-09-04T19:19:02.050475500Z",
     "start_time": "2023-09-04T19:19:01.652317600Z"
    },
    "tags": []
   },
   "outputs": [],
   "source": [
    "#replace NaNs in the dataset with 0\n",
    "da=da.replace(np.nan,0)"
   ]
  },
  {
   "cell_type": "code",
   "execution_count": 101,
   "id": "db4432e3",
   "metadata": {
    "ExecuteTime": {
     "end_time": "2023-09-04T19:19:02.051473900Z",
     "start_time": "2023-09-04T19:19:01.653314Z"
    },
    "tags": []
   },
   "outputs": [],
   "source": [
    "#multiplication of all lines containing thousands of tons in Kg\n",
    "da['Aliments pour animaux'] = da['Aliments pour animaux']*1000\n",
    "da['Autres Utilisations'] = da['Autres Utilisations']*1000\n",
    "#da['Disponibilité alimentaire en quantité (kg/personne/an)'] = da['Disponibilité alimentaire en quantité (kg/personne/an)']*1000\n",
    "#da['Disponibilité intérieure'] = da['Disponibilité intérieure']*1000\n",
    "da['Exportations - Quantité'] = da['Exportations - Quantité']*1000\n",
    "da['Importations - Quantité'] = da['Importations - Quantité']*1000\n",
    "da['Nourriture'] = da['Nourriture']*1000\n",
    "da['Pertes'] = da['Pertes']*1000\n",
    "da['Production'] = da['Production']*1000\n",
    "da['Semences'] = da['Semences']*1000\n",
    "da['Traitement'] = da['Traitement']*1000\n",
    "da['Variation de stock'] = da['Variation de stock']*1000"
   ]
  },
  {
   "cell_type": "code",
   "execution_count": 102,
   "id": "7f1689bf",
   "metadata": {
    "ExecuteTime": {
     "end_time": "2023-09-04T19:19:02.056460Z",
     "start_time": "2023-09-04T19:19:01.653314Z"
    },
    "tags": []
   },
   "outputs": [
    {
     "data": {
      "text/html": [
       "<div>\n",
       "<style scoped>\n",
       "    .dataframe tbody tr th:only-of-type {\n",
       "        vertical-align: middle;\n",
       "    }\n",
       "\n",
       "    .dataframe tbody tr th {\n",
       "        vertical-align: top;\n",
       "    }\n",
       "\n",
       "    .dataframe thead th {\n",
       "        text-align: right;\n",
       "    }\n",
       "</style>\n",
       "<table border=\"1\" class=\"dataframe\">\n",
       "  <thead>\n",
       "    <tr style=\"text-align: right;\">\n",
       "      <th></th>\n",
       "      <th>Zone</th>\n",
       "      <th>Produit</th>\n",
       "      <th>Origine</th>\n",
       "      <th>Aliments pour animaux</th>\n",
       "      <th>Autres Utilisations</th>\n",
       "      <th>Disponibilité alimentaire (Kcal/personne/jour)</th>\n",
       "      <th>Disponibilité alimentaire en quantité (kg/personne/an)</th>\n",
       "      <th>Disponibilité de matière grasse en quantité (g/personne/jour)</th>\n",
       "      <th>Disponibilité de protéines en quantité (g/personne/jour)</th>\n",
       "      <th>Disponibilité intérieure</th>\n",
       "      <th>Exportations - Quantité</th>\n",
       "      <th>Importations - Quantité</th>\n",
       "      <th>Nourriture</th>\n",
       "      <th>Pertes</th>\n",
       "      <th>Production</th>\n",
       "      <th>Semences</th>\n",
       "      <th>Traitement</th>\n",
       "      <th>Variation de stock</th>\n",
       "    </tr>\n",
       "  </thead>\n",
       "  <tbody>\n",
       "    <tr>\n",
       "      <th>0</th>\n",
       "      <td>Afghanistan</td>\n",
       "      <td>Abats Comestible</td>\n",
       "      <td>animale</td>\n",
       "      <td>0.0</td>\n",
       "      <td>0.0</td>\n",
       "      <td>5.0</td>\n",
       "      <td>1.72</td>\n",
       "      <td>0.20</td>\n",
       "      <td>0.77</td>\n",
       "      <td>53.0</td>\n",
       "      <td>0.0</td>\n",
       "      <td>0.0</td>\n",
       "      <td>53000.0</td>\n",
       "      <td>0.0</td>\n",
       "      <td>53000.0</td>\n",
       "      <td>0.0</td>\n",
       "      <td>0.0</td>\n",
       "      <td>0.0</td>\n",
       "    </tr>\n",
       "    <tr>\n",
       "      <th>1</th>\n",
       "      <td>Afghanistan</td>\n",
       "      <td>Agrumes, Autres</td>\n",
       "      <td>vegetale</td>\n",
       "      <td>0.0</td>\n",
       "      <td>0.0</td>\n",
       "      <td>1.0</td>\n",
       "      <td>1.29</td>\n",
       "      <td>0.01</td>\n",
       "      <td>0.02</td>\n",
       "      <td>41.0</td>\n",
       "      <td>2000.0</td>\n",
       "      <td>40000.0</td>\n",
       "      <td>39000.0</td>\n",
       "      <td>2000.0</td>\n",
       "      <td>3000.0</td>\n",
       "      <td>0.0</td>\n",
       "      <td>0.0</td>\n",
       "      <td>0.0</td>\n",
       "    </tr>\n",
       "    <tr>\n",
       "      <th>2</th>\n",
       "      <td>Afghanistan</td>\n",
       "      <td>Aliments pour enfants</td>\n",
       "      <td>vegetale</td>\n",
       "      <td>0.0</td>\n",
       "      <td>0.0</td>\n",
       "      <td>1.0</td>\n",
       "      <td>0.06</td>\n",
       "      <td>0.01</td>\n",
       "      <td>0.03</td>\n",
       "      <td>2.0</td>\n",
       "      <td>0.0</td>\n",
       "      <td>2000.0</td>\n",
       "      <td>2000.0</td>\n",
       "      <td>0.0</td>\n",
       "      <td>0.0</td>\n",
       "      <td>0.0</td>\n",
       "      <td>0.0</td>\n",
       "      <td>0.0</td>\n",
       "    </tr>\n",
       "    <tr>\n",
       "      <th>3</th>\n",
       "      <td>Afghanistan</td>\n",
       "      <td>Ananas</td>\n",
       "      <td>vegetale</td>\n",
       "      <td>0.0</td>\n",
       "      <td>0.0</td>\n",
       "      <td>0.0</td>\n",
       "      <td>0.00</td>\n",
       "      <td>0.00</td>\n",
       "      <td>0.00</td>\n",
       "      <td>0.0</td>\n",
       "      <td>0.0</td>\n",
       "      <td>0.0</td>\n",
       "      <td>0.0</td>\n",
       "      <td>0.0</td>\n",
       "      <td>0.0</td>\n",
       "      <td>0.0</td>\n",
       "      <td>0.0</td>\n",
       "      <td>0.0</td>\n",
       "    </tr>\n",
       "    <tr>\n",
       "      <th>4</th>\n",
       "      <td>Afghanistan</td>\n",
       "      <td>Bananes</td>\n",
       "      <td>vegetale</td>\n",
       "      <td>0.0</td>\n",
       "      <td>0.0</td>\n",
       "      <td>4.0</td>\n",
       "      <td>2.70</td>\n",
       "      <td>0.02</td>\n",
       "      <td>0.05</td>\n",
       "      <td>82.0</td>\n",
       "      <td>0.0</td>\n",
       "      <td>82000.0</td>\n",
       "      <td>82000.0</td>\n",
       "      <td>0.0</td>\n",
       "      <td>0.0</td>\n",
       "      <td>0.0</td>\n",
       "      <td>0.0</td>\n",
       "      <td>0.0</td>\n",
       "    </tr>\n",
       "  </tbody>\n",
       "</table>\n",
       "</div>"
      ],
      "text/plain": [
       "          Zone                Produit   Origine  Aliments pour animaux  \\\n",
       "0  Afghanistan       Abats Comestible   animale                    0.0   \n",
       "1  Afghanistan        Agrumes, Autres  vegetale                    0.0   \n",
       "2  Afghanistan  Aliments pour enfants  vegetale                    0.0   \n",
       "3  Afghanistan                 Ananas  vegetale                    0.0   \n",
       "4  Afghanistan                Bananes  vegetale                    0.0   \n",
       "\n",
       "   Autres Utilisations  Disponibilité alimentaire (Kcal/personne/jour)  \\\n",
       "0                  0.0                                             5.0   \n",
       "1                  0.0                                             1.0   \n",
       "2                  0.0                                             1.0   \n",
       "3                  0.0                                             0.0   \n",
       "4                  0.0                                             4.0   \n",
       "\n",
       "   Disponibilité alimentaire en quantité (kg/personne/an)  \\\n",
       "0                                               1.72        \n",
       "1                                               1.29        \n",
       "2                                               0.06        \n",
       "3                                               0.00        \n",
       "4                                               2.70        \n",
       "\n",
       "   Disponibilité de matière grasse en quantité (g/personne/jour)  \\\n",
       "0                                               0.20               \n",
       "1                                               0.01               \n",
       "2                                               0.01               \n",
       "3                                               0.00               \n",
       "4                                               0.02               \n",
       "\n",
       "   Disponibilité de protéines en quantité (g/personne/jour)  \\\n",
       "0                                               0.77          \n",
       "1                                               0.02          \n",
       "2                                               0.03          \n",
       "3                                               0.00          \n",
       "4                                               0.05          \n",
       "\n",
       "   Disponibilité intérieure  Exportations - Quantité  Importations - Quantité  \\\n",
       "0                      53.0                      0.0                      0.0   \n",
       "1                      41.0                   2000.0                  40000.0   \n",
       "2                       2.0                      0.0                   2000.0   \n",
       "3                       0.0                      0.0                      0.0   \n",
       "4                      82.0                      0.0                  82000.0   \n",
       "\n",
       "   Nourriture  Pertes  Production  Semences  Traitement  Variation de stock  \n",
       "0     53000.0     0.0     53000.0       0.0         0.0                 0.0  \n",
       "1     39000.0  2000.0      3000.0       0.0         0.0                 0.0  \n",
       "2      2000.0     0.0         0.0       0.0         0.0                 0.0  \n",
       "3         0.0     0.0         0.0       0.0         0.0                 0.0  \n",
       "4     82000.0     0.0         0.0       0.0         0.0                 0.0  "
      ]
     },
     "execution_count": 102,
     "metadata": {},
     "output_type": "execute_result"
    }
   ],
   "source": [
    "#Display the first 5 rows of the table\n",
    "da.head()"
   ]
  },
  {
   "cell_type": "markdown",
   "id": "a09233e4",
   "metadata": {},
   "source": [
    "<div style=\"border: 1px solid RGB(0,150,250);\" >\n",
    "<h3 style=\"margin: auto; padding: 20px; color: RGB(0,150,250); \">2.3 - Exploratory analysis of the food aid file</h3>\n",
    "</div>"
   ]
  },
  {
   "cell_type": "code",
   "execution_count": 103,
   "id": "702f6322",
   "metadata": {
    "ExecuteTime": {
     "end_time": "2023-09-04T19:19:02.080395200Z",
     "start_time": "2023-09-04T19:19:01.713067100Z"
    },
    "tags": []
   },
   "outputs": [
    {
     "name": "stdout",
     "output_type": "stream",
     "text": [
      "The table contains 1475 observation(s) or item(s)\n",
      "The array contains 4 column(s)\n"
     ]
    }
   ],
   "source": [
    "#Display dataset dimensions\n",
    "print(f\"The table contains {aa.shape[0]} observation(s) or item(s)\")\n",
    "print(f\"The array contains {aa.shape[1]} column(s)\")"
   ]
  },
  {
   "cell_type": "code",
   "execution_count": 104,
   "id": "8fead3f9",
   "metadata": {
    "ExecuteTime": {
     "end_time": "2023-09-04T19:19:02.092363900Z",
     "start_time": "2023-09-04T19:19:01.769222700Z"
    },
    "tags": []
   },
   "outputs": [
    {
     "name": "stdout",
     "output_type": "stream",
     "text": [
      "The table contains 4 column(s)\n"
     ]
    }
   ],
   "source": [
    "#Check number of columns\n",
    "print(f\"The table contains {aa.shape[1]} column(s)\")"
   ]
  },
  {
   "cell_type": "code",
   "execution_count": 105,
   "id": "443ec245",
   "metadata": {
    "ExecuteTime": {
     "end_time": "2023-09-04T19:19:02.149080900Z",
     "start_time": "2023-09-04T19:19:01.781335500Z"
    },
    "tags": []
   },
   "outputs": [
    {
     "data": {
      "text/plain": [
       "<bound method NDFrame.head of      Pays bénéficiaire  Année                   Produit  Valeur\n",
       "0          Afghanistan   2013       Autres non-céréales     682\n",
       "1          Afghanistan   2014       Autres non-céréales     335\n",
       "2          Afghanistan   2013              Blé et Farin   39224\n",
       "3          Afghanistan   2014              Blé et Farin   15160\n",
       "4          Afghanistan   2013                  Céréales   40504\n",
       "...                ...    ...                       ...     ...\n",
       "1470          Zimbabwe   2015  Mélanges et préparations      96\n",
       "1471          Zimbabwe   2013              Non-céréales    5022\n",
       "1472          Zimbabwe   2014              Non-céréales    2310\n",
       "1473          Zimbabwe   2015              Non-céréales     306\n",
       "1474          Zimbabwe   2013                Riz, total      64\n",
       "\n",
       "[1475 rows x 4 columns]>"
      ]
     },
     "execution_count": 105,
     "metadata": {},
     "output_type": "execute_result"
    }
   ],
   "source": [
    "#Display the first 5 rows of the table\n",
    "aa.head"
   ]
  },
  {
   "cell_type": "code",
   "execution_count": 106,
   "id": "af47212b",
   "metadata": {
    "ExecuteTime": {
     "end_time": "2023-09-04T19:19:02.838391200Z",
     "start_time": "2023-09-04T19:19:01.973682600Z"
    },
    "tags": []
   },
   "outputs": [],
   "source": [
    "#change the name of the Beneficiary Country column to Zone\n",
    "aa.rename(columns={'Pays bénéficiaire': 'Zone'},inplace=True)\n"
   ]
  },
  {
   "cell_type": "code",
   "execution_count": 107,
   "id": "c32cd1d8",
   "metadata": {
    "ExecuteTime": {
     "end_time": "2023-09-04T19:19:02.946802900Z",
     "start_time": "2023-09-04T19:19:02.133124100Z"
    },
    "tags": []
   },
   "outputs": [],
   "source": [
    "#Multiply the Aide_alimentaire column containing tons by 1000 to obtain kg.\n",
    "aa[\"Valeur\"] *=1000"
   ]
  },
  {
   "cell_type": "code",
   "execution_count": 108,
   "id": "d951d8df",
   "metadata": {
    "ExecuteTime": {
     "end_time": "2023-09-04T19:19:02.998610500Z",
     "start_time": "2023-09-04T19:19:02.230702700Z"
    },
    "tags": []
   },
   "outputs": [
    {
     "data": {
      "text/html": [
       "<div>\n",
       "<style scoped>\n",
       "    .dataframe tbody tr th:only-of-type {\n",
       "        vertical-align: middle;\n",
       "    }\n",
       "\n",
       "    .dataframe tbody tr th {\n",
       "        vertical-align: top;\n",
       "    }\n",
       "\n",
       "    .dataframe thead th {\n",
       "        text-align: right;\n",
       "    }\n",
       "</style>\n",
       "<table border=\"1\" class=\"dataframe\">\n",
       "  <thead>\n",
       "    <tr style=\"text-align: right;\">\n",
       "      <th></th>\n",
       "      <th>Zone</th>\n",
       "      <th>Année</th>\n",
       "      <th>Produit</th>\n",
       "      <th>Valeur</th>\n",
       "    </tr>\n",
       "  </thead>\n",
       "  <tbody>\n",
       "    <tr>\n",
       "      <th>0</th>\n",
       "      <td>Afghanistan</td>\n",
       "      <td>2013</td>\n",
       "      <td>Autres non-céréales</td>\n",
       "      <td>682000</td>\n",
       "    </tr>\n",
       "    <tr>\n",
       "      <th>1</th>\n",
       "      <td>Afghanistan</td>\n",
       "      <td>2014</td>\n",
       "      <td>Autres non-céréales</td>\n",
       "      <td>335000</td>\n",
       "    </tr>\n",
       "    <tr>\n",
       "      <th>2</th>\n",
       "      <td>Afghanistan</td>\n",
       "      <td>2013</td>\n",
       "      <td>Blé et Farin</td>\n",
       "      <td>39224000</td>\n",
       "    </tr>\n",
       "    <tr>\n",
       "      <th>3</th>\n",
       "      <td>Afghanistan</td>\n",
       "      <td>2014</td>\n",
       "      <td>Blé et Farin</td>\n",
       "      <td>15160000</td>\n",
       "    </tr>\n",
       "    <tr>\n",
       "      <th>4</th>\n",
       "      <td>Afghanistan</td>\n",
       "      <td>2013</td>\n",
       "      <td>Céréales</td>\n",
       "      <td>40504000</td>\n",
       "    </tr>\n",
       "  </tbody>\n",
       "</table>\n",
       "</div>"
      ],
      "text/plain": [
       "          Zone  Année              Produit    Valeur\n",
       "0  Afghanistan   2013  Autres non-céréales    682000\n",
       "1  Afghanistan   2014  Autres non-céréales    335000\n",
       "2  Afghanistan   2013         Blé et Farin  39224000\n",
       "3  Afghanistan   2014         Blé et Farin  15160000\n",
       "4  Afghanistan   2013             Céréales  40504000"
      ]
     },
     "execution_count": 108,
     "metadata": {},
     "output_type": "execute_result"
    }
   ],
   "source": [
    "#Display the first 5 rows of the table\n",
    "aa.head()"
   ]
  },
  {
   "cell_type": "markdown",
   "id": "eeae9043",
   "metadata": {},
   "source": [
    "<div style=\"border: 1px solid RGB(0,150,250);\" >\n",
    "<h3 style=\"margin: auto; padding: 20px; color: RGB(0,150,250); \">2.3 - Exploratory analysis of the nutrition file</h3>\n",
    "</div>"
   ]
  },
  {
   "cell_type": "code",
   "execution_count": 109,
   "id": "882add3d",
   "metadata": {
    "ExecuteTime": {
     "end_time": "2023-09-04T19:19:03.229987200Z",
     "start_time": "2023-09-04T19:19:02.301983Z"
    },
    "tags": []
   },
   "outputs": [
    {
     "name": "stdout",
     "output_type": "stream",
     "text": [
      "The table contains 1218 observation(s) or item(s)\n",
      "The array contains 3 column(s)\n"
     ]
    }
   ],
   "source": [
    "#Display dataset dimensions\n",
    "print(f\"The table contains {sn.shape[0]} observation(s) or item(s)\")\n",
    "print(f\"The array contains {sn.shape[1]} column(s)\")"
   ]
  },
  {
   "cell_type": "code",
   "execution_count": 110,
   "id": "70c1a7a9",
   "metadata": {
    "ExecuteTime": {
     "end_time": "2023-09-04T19:19:03.307782500Z",
     "start_time": "2023-09-04T19:19:02.390059500Z"
    },
    "tags": []
   },
   "outputs": [
    {
     "name": "stdout",
     "output_type": "stream",
     "text": [
      "The table contains 3 column(s)\n"
     ]
    }
   ],
   "source": [
    "#Check number of columns\n",
    "print(f\"The table contains {sn.shape[1]} column(s)\")"
   ]
  },
  {
   "cell_type": "code",
   "execution_count": 111,
   "id": "5c6469e5",
   "metadata": {
    "ExecuteTime": {
     "end_time": "2023-09-04T19:19:03.311770800Z",
     "start_time": "2023-09-04T19:19:02.478723100Z"
    },
    "tags": []
   },
   "outputs": [
    {
     "data": {
      "text/html": [
       "<div>\n",
       "<style scoped>\n",
       "    .dataframe tbody tr th:only-of-type {\n",
       "        vertical-align: middle;\n",
       "    }\n",
       "\n",
       "    .dataframe tbody tr th {\n",
       "        vertical-align: top;\n",
       "    }\n",
       "\n",
       "    .dataframe thead th {\n",
       "        text-align: right;\n",
       "    }\n",
       "</style>\n",
       "<table border=\"1\" class=\"dataframe\">\n",
       "  <thead>\n",
       "    <tr style=\"text-align: right;\">\n",
       "      <th></th>\n",
       "      <th>Zone</th>\n",
       "      <th>Année</th>\n",
       "      <th>Valeur</th>\n",
       "    </tr>\n",
       "  </thead>\n",
       "  <tbody>\n",
       "    <tr>\n",
       "      <th>0</th>\n",
       "      <td>Afghanistan</td>\n",
       "      <td>2012-2014</td>\n",
       "      <td>8.6</td>\n",
       "    </tr>\n",
       "    <tr>\n",
       "      <th>1</th>\n",
       "      <td>Afghanistan</td>\n",
       "      <td>2013-2015</td>\n",
       "      <td>8.8</td>\n",
       "    </tr>\n",
       "    <tr>\n",
       "      <th>2</th>\n",
       "      <td>Afghanistan</td>\n",
       "      <td>2014-2016</td>\n",
       "      <td>8.9</td>\n",
       "    </tr>\n",
       "    <tr>\n",
       "      <th>3</th>\n",
       "      <td>Afghanistan</td>\n",
       "      <td>2015-2017</td>\n",
       "      <td>9.7</td>\n",
       "    </tr>\n",
       "    <tr>\n",
       "      <th>4</th>\n",
       "      <td>Afghanistan</td>\n",
       "      <td>2016-2018</td>\n",
       "      <td>10.5</td>\n",
       "    </tr>\n",
       "  </tbody>\n",
       "</table>\n",
       "</div>"
      ],
      "text/plain": [
       "          Zone      Année Valeur\n",
       "0  Afghanistan  2012-2014    8.6\n",
       "1  Afghanistan  2013-2015    8.8\n",
       "2  Afghanistan  2014-2016    8.9\n",
       "3  Afghanistan  2015-2017    9.7\n",
       "4  Afghanistan  2016-2018   10.5"
      ]
     },
     "execution_count": 111,
     "metadata": {},
     "output_type": "execute_result"
    }
   ],
   "source": [
    "#Display the first 5 rows of the table\n",
    "sn.head()"
   ]
  },
  {
   "cell_type": "code",
   "execution_count": 112,
   "id": "11b6a6c8",
   "metadata": {
    "ExecuteTime": {
     "end_time": "2023-09-04T19:19:03.349670200Z",
     "start_time": "2023-09-04T19:19:02.548290200Z"
    },
    "tags": []
   },
   "outputs": [],
   "source": [
    "#Convert Valeur column to digital\n",
    "sn[\"Valeur\"] = pd.to_numeric(sn[\"Valeur\"], errors='coerce')"
   ]
  },
  {
   "cell_type": "code",
   "execution_count": 113,
   "id": "d31d2724",
   "metadata": {
    "ExecuteTime": {
     "end_time": "2023-09-04T19:19:03.350668Z",
     "start_time": "2023-09-04T19:19:02.595197500Z"
    },
    "tags": []
   },
   "outputs": [],
   "source": [
    "#Convert column (with errors=coerce argument to automatically convert non-number rows to NaN)\n",
    "#Then replace NaN with 0\n",
    "sn=sn.replace(np.nan,0)"
   ]
  },
  {
   "cell_type": "code",
   "execution_count": 114,
   "id": "34c98232",
   "metadata": {
    "ExecuteTime": {
     "end_time": "2023-09-04T19:19:03.351664300Z",
     "start_time": "2023-09-04T19:19:02.620182300Z"
    },
    "tags": []
   },
   "outputs": [],
   "source": [
    "#change Valeur column name to sous_nutrition\n",
    "sn.rename(columns={'Valeur' : 'sous_nutrition'},inplace=True)"
   ]
  },
  {
   "cell_type": "code",
   "execution_count": 115,
   "id": "002110fa",
   "metadata": {
    "ExecuteTime": {
     "end_time": "2023-09-04T19:19:03.352661800Z",
     "start_time": "2023-09-04T19:19:02.655414300Z"
    },
    "tags": []
   },
   "outputs": [],
   "source": [
    "#Multiply the sous_nutrition column by 1000000\n",
    "sn[\"sous_nutrition\"] *= 1000000"
   ]
  },
  {
   "cell_type": "code",
   "execution_count": 116,
   "id": "58259b55",
   "metadata": {
    "ExecuteTime": {
     "end_time": "2023-09-04T19:19:03.354658Z",
     "start_time": "2023-09-04T19:19:02.711051400Z"
    }
   },
   "outputs": [
    {
     "data": {
      "text/html": [
       "<div>\n",
       "<style scoped>\n",
       "    .dataframe tbody tr th:only-of-type {\n",
       "        vertical-align: middle;\n",
       "    }\n",
       "\n",
       "    .dataframe tbody tr th {\n",
       "        vertical-align: top;\n",
       "    }\n",
       "\n",
       "    .dataframe thead th {\n",
       "        text-align: right;\n",
       "    }\n",
       "</style>\n",
       "<table border=\"1\" class=\"dataframe\">\n",
       "  <thead>\n",
       "    <tr style=\"text-align: right;\">\n",
       "      <th></th>\n",
       "      <th>Zone</th>\n",
       "      <th>Année</th>\n",
       "      <th>sous_nutrition</th>\n",
       "    </tr>\n",
       "  </thead>\n",
       "  <tbody>\n",
       "    <tr>\n",
       "      <th>0</th>\n",
       "      <td>Afghanistan</td>\n",
       "      <td>2012-2014</td>\n",
       "      <td>8600000.0</td>\n",
       "    </tr>\n",
       "    <tr>\n",
       "      <th>1</th>\n",
       "      <td>Afghanistan</td>\n",
       "      <td>2013-2015</td>\n",
       "      <td>8800000.0</td>\n",
       "    </tr>\n",
       "    <tr>\n",
       "      <th>2</th>\n",
       "      <td>Afghanistan</td>\n",
       "      <td>2014-2016</td>\n",
       "      <td>8900000.0</td>\n",
       "    </tr>\n",
       "    <tr>\n",
       "      <th>3</th>\n",
       "      <td>Afghanistan</td>\n",
       "      <td>2015-2017</td>\n",
       "      <td>9700000.0</td>\n",
       "    </tr>\n",
       "    <tr>\n",
       "      <th>4</th>\n",
       "      <td>Afghanistan</td>\n",
       "      <td>2016-2018</td>\n",
       "      <td>10500000.0</td>\n",
       "    </tr>\n",
       "  </tbody>\n",
       "</table>\n",
       "</div>"
      ],
      "text/plain": [
       "          Zone      Année  sous_nutrition\n",
       "0  Afghanistan  2012-2014       8600000.0\n",
       "1  Afghanistan  2013-2015       8800000.0\n",
       "2  Afghanistan  2014-2016       8900000.0\n",
       "3  Afghanistan  2015-2017       9700000.0\n",
       "4  Afghanistan  2016-2018      10500000.0"
      ]
     },
     "execution_count": 116,
     "metadata": {},
     "output_type": "execute_result"
    }
   ],
   "source": [
    "#Display the first 5 rows of the table\n",
    "sn.head()"
   ]
  },
  {
   "cell_type": "markdown",
   "id": "df6dcabd",
   "metadata": {},
   "source": [
    "<div style=\"border: 1px solid RGB(0,150,250);\" >\n",
    "<h3 style=\"margin: auto; padding: 20px; color: RGB(0,150,250); \">3.1 - Proportion of undernourished people</h3>\n",
    "</div>"
   ]
  },
  {
   "cell_type": "code",
   "execution_count": 117,
   "id": "a63e1567",
   "metadata": {
    "ExecuteTime": {
     "end_time": "2023-09-04T19:19:03.401530100Z",
     "start_time": "2023-09-04T19:19:02.743662Z"
    }
   },
   "outputs": [],
   "source": [
    "# First, we need to make a join between the population table and the sub-nutrition table, targeting the year 2017.\n",
    "sn.replace('2012-2014','2013',inplace=True)\n",
    "sn.replace('2013-2015','2014',inplace=True)\n",
    "sn.replace('2014-2016','2015',inplace=True)\n",
    "sn.replace('2015-2017','2016',inplace=True)\n",
    "sn.replace('2016-2018','2017',inplace=True)\n",
    "sn.replace('2017-2019','2018',inplace=True)\n",
    "sn=sn.replace(np.nan,0)\n",
    "sn = sn[sn[\"Année\"]==\"2017\"]\n",
    "\n",
    "#2017 population\n",
    "pop = pop[pop[\"Année\"]==2017]\n",
    "\n",
    "#joining the two df\n",
    "pop_sn = pd.merge(pop,sn, on=\"Zone\")\n",
    "\n",
    "#cleaning\n",
    "pop_sn.rename(columns = {\"Année_y\" : \"Année\"},inplace=True)\n",
    "pop_sn.drop([\"Année_x\"], axis=1,inplace = True)\n",
    "\n"
   ]
  },
  {
   "cell_type": "code",
   "execution_count": 118,
   "id": "731eea39",
   "metadata": {
    "ExecuteTime": {
     "end_time": "2023-09-04T19:19:03.829449300Z",
     "start_time": "2023-09-04T19:19:02.865173800Z"
    }
   },
   "outputs": [
    {
     "data": {
      "text/html": [
       "<div>\n",
       "<style scoped>\n",
       "    .dataframe tbody tr th:only-of-type {\n",
       "        vertical-align: middle;\n",
       "    }\n",
       "\n",
       "    .dataframe tbody tr th {\n",
       "        vertical-align: top;\n",
       "    }\n",
       "\n",
       "    .dataframe thead th {\n",
       "        text-align: right;\n",
       "    }\n",
       "</style>\n",
       "<table border=\"1\" class=\"dataframe\">\n",
       "  <thead>\n",
       "    <tr style=\"text-align: right;\">\n",
       "      <th></th>\n",
       "      <th>Zone</th>\n",
       "      <th>Population</th>\n",
       "      <th>Année</th>\n",
       "      <th>sous_nutrition</th>\n",
       "    </tr>\n",
       "  </thead>\n",
       "  <tbody>\n",
       "    <tr>\n",
       "      <th>0</th>\n",
       "      <td>Afghanistan</td>\n",
       "      <td>36296113.0</td>\n",
       "      <td>2017</td>\n",
       "      <td>10500000.0</td>\n",
       "    </tr>\n",
       "    <tr>\n",
       "      <th>1</th>\n",
       "      <td>Afrique du Sud</td>\n",
       "      <td>57009756.0</td>\n",
       "      <td>2017</td>\n",
       "      <td>3100000.0</td>\n",
       "    </tr>\n",
       "    <tr>\n",
       "      <th>2</th>\n",
       "      <td>Albanie</td>\n",
       "      <td>2884169.0</td>\n",
       "      <td>2017</td>\n",
       "      <td>100000.0</td>\n",
       "    </tr>\n",
       "    <tr>\n",
       "      <th>3</th>\n",
       "      <td>Algérie</td>\n",
       "      <td>41389189.0</td>\n",
       "      <td>2017</td>\n",
       "      <td>1300000.0</td>\n",
       "    </tr>\n",
       "    <tr>\n",
       "      <th>4</th>\n",
       "      <td>Allemagne</td>\n",
       "      <td>82658409.0</td>\n",
       "      <td>2017</td>\n",
       "      <td>0.0</td>\n",
       "    </tr>\n",
       "  </tbody>\n",
       "</table>\n",
       "</div>"
      ],
      "text/plain": [
       "             Zone  Population Année  sous_nutrition\n",
       "0     Afghanistan  36296113.0  2017      10500000.0\n",
       "1  Afrique du Sud  57009756.0  2017       3100000.0\n",
       "2         Albanie   2884169.0  2017        100000.0\n",
       "3         Algérie  41389189.0  2017       1300000.0\n",
       "4       Allemagne  82658409.0  2017             0.0"
      ]
     },
     "execution_count": 118,
     "metadata": {},
     "output_type": "execute_result"
    }
   ],
   "source": [
    "#Dataset display\n",
    "pop_sn.head()"
   ]
  },
  {
   "cell_type": "code",
   "execution_count": 119,
   "id": "28e2741f",
   "metadata": {
    "ExecuteTime": {
     "end_time": "2023-09-04T19:19:04.946503400Z",
     "start_time": "2023-09-04T19:19:02.933781400Z"
    }
   },
   "outputs": [
    {
     "name": "stdout",
     "output_type": "stream",
     "text": [
      "\n",
      "In 2017, the number of inhabitants was 7.54 billion\n",
      "The number of undernourished people was 536 million\n",
      "The rate of undernutrition in the world was 7.1 %\n"
     ]
    },
    {
     "data": {
      "image/png": "[encoded data removed]",
      "text/plain": [
       "<Figure size 640x480 with 1 Axes>"
      ]
     },
     "metadata": {},
     "output_type": "display_data"
    }
   ],
   "source": [
    "#Calculating and displaying the number of undernourished people\n",
    "pop_monde=pop_sn[\"Population\"].sum()\n",
    "sn2017=pop_sn[\"sous_nutrition\"].sum()\n",
    "taux_sn = round((sn2017*100)/(pop_monde),2)\n",
    "print()\n",
    "print(f\"In 2017, the number of inhabitants was {round(pop_monde/1000000000,2)} billion\")\n",
    "print(f\"The number of undernourished people was {round(sn2017/1000000)} million\")\n",
    "print(f\"The rate of undernutrition in the world was {taux_sn} %\")\n",
    "\n",
    "#Graph showing the rate of undernourishment in the world\n",
    "personnes = pop_monde-sn2017, sn2017\n",
    "labels = \"Remaining population\",\"Population undernourished\"\n",
    "explode = (0.5, 0)\n",
    "plt.pie(x=personnes,explode=explode,labels=labels, autopct='%1.1f%%', shadow=True)\n",
    "plt.title(\"Proportion of undernourished people in the world\", fontsize=14, color=\"red\")\n",
    "plt.show()"
   ]
  },
  {
   "cell_type": "markdown",
   "id": "b4134a24",
   "metadata": {},
   "source": [
    "<div style=\"border: 1px solid RGB(0,150,250);\" >\n",
    "<h3 style=\"margin: auto; padding: 20px; color: RGB(0,150,250); \">3.2 - Theoretical number of people who could be fed</h3>\n",
    "</div>"
   ]
  },
  {
   "cell_type": "code",
   "execution_count": 120,
   "id": "2b63df85",
   "metadata": {
    "ExecuteTime": {
     "end_time": "2023-09-04T19:19:04.947500600Z",
     "start_time": "2023-09-04T19:19:03.955299900Z"
    }
   },
   "outputs": [
    {
     "name": "stdout",
     "output_type": "stream",
     "text": [
      "The average human eats 2250 kcals a day\n",
      "Sources : https://www.ined.fr/fr/tout-savoir-population/memos-demo/faq/plus-hommes-ou-femmes-sur-terre/#:~:text=Plus%20pr%C3%A9cis%C3%A9ment%20encore%2C%20sur%201000,aussi%20%C3%A0%20l'%C3%A2ge%20adulte.\n",
      "Sources : https://www.vidal.fr/sante/nutrition/equilibre-alimentaire-adulte/recommandations-nutritionnelles-adulte.html#:~:text=Pour%20un%20homme%20adulte%2C%20l,800%20%C3%A0%202%20200%20calories.\n"
     ]
    }
   ],
   "source": [
    "#How much does the average human being eat? Source => \n",
    "print(\"The average human eats 2250 kcals a day\")\n",
    "print(\"Sources : https://www.ined.fr/fr/tout-savoir-population/memos-demo/faq/plus-hommes-ou-femmes-sur-terre/#:~:text=Plus%20pr%C3%A9cis%C3%A9ment%20encore%2C%20sur%201000,aussi%20%C3%A0%20l'%C3%A2ge%20adulte.\")\n",
    "print(\"Sources : https://www.vidal.fr/sante/nutrition/equilibre-alimentaire-adulte/recommandations-nutritionnelles-adulte.html#:~:text=Pour%20un%20homme%20adulte%2C%20l,800%20%C3%A0%202%20200%20calories.\")"
   ]
  },
  {
   "cell_type": "code",
   "execution_count": 121,
   "id": "5e3f262d",
   "metadata": {
    "ExecuteTime": {
     "end_time": "2023-09-04T19:19:04.948497300Z",
     "start_time": "2023-09-04T19:19:03.955299900Z"
    }
   },
   "outputs": [],
   "source": [
    "#We start by making a join between the population data frame and Dispo_alimentaire to add the population to the latter.\n",
    "pop_da = pd.merge(pop,da)"
   ]
  },
  {
   "cell_type": "code",
   "execution_count": 122,
   "id": "4538126c",
   "metadata": {
    "ExecuteTime": {
     "end_time": "2023-09-04T19:19:05.045493600Z",
     "start_time": "2023-09-04T19:19:04.041042700Z"
    }
   },
   "outputs": [
    {
     "data": {
      "text/html": [
       "<div>\n",
       "<style scoped>\n",
       "    .dataframe tbody tr th:only-of-type {\n",
       "        vertical-align: middle;\n",
       "    }\n",
       "\n",
       "    .dataframe tbody tr th {\n",
       "        vertical-align: top;\n",
       "    }\n",
       "\n",
       "    .dataframe thead th {\n",
       "        text-align: right;\n",
       "    }\n",
       "</style>\n",
       "<table border=\"1\" class=\"dataframe\">\n",
       "  <thead>\n",
       "    <tr style=\"text-align: right;\">\n",
       "      <th></th>\n",
       "      <th>Zone</th>\n",
       "      <th>Année</th>\n",
       "      <th>Population</th>\n",
       "      <th>Produit</th>\n",
       "      <th>Origine</th>\n",
       "      <th>Aliments pour animaux</th>\n",
       "      <th>Autres Utilisations</th>\n",
       "      <th>Disponibilité alimentaire (Kcal/personne/jour)</th>\n",
       "      <th>Disponibilité alimentaire en quantité (kg/personne/an)</th>\n",
       "      <th>Disponibilité de matière grasse en quantité (g/personne/jour)</th>\n",
       "      <th>Disponibilité de protéines en quantité (g/personne/jour)</th>\n",
       "      <th>Disponibilité intérieure</th>\n",
       "      <th>Exportations - Quantité</th>\n",
       "      <th>Importations - Quantité</th>\n",
       "      <th>Nourriture</th>\n",
       "      <th>Pertes</th>\n",
       "      <th>Production</th>\n",
       "      <th>Semences</th>\n",
       "      <th>Traitement</th>\n",
       "      <th>Variation de stock</th>\n",
       "    </tr>\n",
       "  </thead>\n",
       "  <tbody>\n",
       "    <tr>\n",
       "      <th>0</th>\n",
       "      <td>Afghanistan</td>\n",
       "      <td>2017</td>\n",
       "      <td>36296113.0</td>\n",
       "      <td>Abats Comestible</td>\n",
       "      <td>animale</td>\n",
       "      <td>0.0</td>\n",
       "      <td>0.0</td>\n",
       "      <td>5.0</td>\n",
       "      <td>1.72</td>\n",
       "      <td>0.20</td>\n",
       "      <td>0.77</td>\n",
       "      <td>53.0</td>\n",
       "      <td>0.0</td>\n",
       "      <td>0.0</td>\n",
       "      <td>53000.0</td>\n",
       "      <td>0.0</td>\n",
       "      <td>53000.0</td>\n",
       "      <td>0.0</td>\n",
       "      <td>0.0</td>\n",
       "      <td>0.0</td>\n",
       "    </tr>\n",
       "    <tr>\n",
       "      <th>1</th>\n",
       "      <td>Afghanistan</td>\n",
       "      <td>2017</td>\n",
       "      <td>36296113.0</td>\n",
       "      <td>Agrumes, Autres</td>\n",
       "      <td>vegetale</td>\n",
       "      <td>0.0</td>\n",
       "      <td>0.0</td>\n",
       "      <td>1.0</td>\n",
       "      <td>1.29</td>\n",
       "      <td>0.01</td>\n",
       "      <td>0.02</td>\n",
       "      <td>41.0</td>\n",
       "      <td>2000.0</td>\n",
       "      <td>40000.0</td>\n",
       "      <td>39000.0</td>\n",
       "      <td>2000.0</td>\n",
       "      <td>3000.0</td>\n",
       "      <td>0.0</td>\n",
       "      <td>0.0</td>\n",
       "      <td>0.0</td>\n",
       "    </tr>\n",
       "    <tr>\n",
       "      <th>2</th>\n",
       "      <td>Afghanistan</td>\n",
       "      <td>2017</td>\n",
       "      <td>36296113.0</td>\n",
       "      <td>Aliments pour enfants</td>\n",
       "      <td>vegetale</td>\n",
       "      <td>0.0</td>\n",
       "      <td>0.0</td>\n",
       "      <td>1.0</td>\n",
       "      <td>0.06</td>\n",
       "      <td>0.01</td>\n",
       "      <td>0.03</td>\n",
       "      <td>2.0</td>\n",
       "      <td>0.0</td>\n",
       "      <td>2000.0</td>\n",
       "      <td>2000.0</td>\n",
       "      <td>0.0</td>\n",
       "      <td>0.0</td>\n",
       "      <td>0.0</td>\n",
       "      <td>0.0</td>\n",
       "      <td>0.0</td>\n",
       "    </tr>\n",
       "    <tr>\n",
       "      <th>3</th>\n",
       "      <td>Afghanistan</td>\n",
       "      <td>2017</td>\n",
       "      <td>36296113.0</td>\n",
       "      <td>Ananas</td>\n",
       "      <td>vegetale</td>\n",
       "      <td>0.0</td>\n",
       "      <td>0.0</td>\n",
       "      <td>0.0</td>\n",
       "      <td>0.00</td>\n",
       "      <td>0.00</td>\n",
       "      <td>0.00</td>\n",
       "      <td>0.0</td>\n",
       "      <td>0.0</td>\n",
       "      <td>0.0</td>\n",
       "      <td>0.0</td>\n",
       "      <td>0.0</td>\n",
       "      <td>0.0</td>\n",
       "      <td>0.0</td>\n",
       "      <td>0.0</td>\n",
       "      <td>0.0</td>\n",
       "    </tr>\n",
       "    <tr>\n",
       "      <th>4</th>\n",
       "      <td>Afghanistan</td>\n",
       "      <td>2017</td>\n",
       "      <td>36296113.0</td>\n",
       "      <td>Bananes</td>\n",
       "      <td>vegetale</td>\n",
       "      <td>0.0</td>\n",
       "      <td>0.0</td>\n",
       "      <td>4.0</td>\n",
       "      <td>2.70</td>\n",
       "      <td>0.02</td>\n",
       "      <td>0.05</td>\n",
       "      <td>82.0</td>\n",
       "      <td>0.0</td>\n",
       "      <td>82000.0</td>\n",
       "      <td>82000.0</td>\n",
       "      <td>0.0</td>\n",
       "      <td>0.0</td>\n",
       "      <td>0.0</td>\n",
       "      <td>0.0</td>\n",
       "      <td>0.0</td>\n",
       "    </tr>\n",
       "    <tr>\n",
       "      <th>...</th>\n",
       "      <td>...</td>\n",
       "      <td>...</td>\n",
       "      <td>...</td>\n",
       "      <td>...</td>\n",
       "      <td>...</td>\n",
       "      <td>...</td>\n",
       "      <td>...</td>\n",
       "      <td>...</td>\n",
       "      <td>...</td>\n",
       "      <td>...</td>\n",
       "      <td>...</td>\n",
       "      <td>...</td>\n",
       "      <td>...</td>\n",
       "      <td>...</td>\n",
       "      <td>...</td>\n",
       "      <td>...</td>\n",
       "      <td>...</td>\n",
       "      <td>...</td>\n",
       "      <td>...</td>\n",
       "      <td>...</td>\n",
       "    </tr>\n",
       "    <tr>\n",
       "      <th>15411</th>\n",
       "      <td>Zimbabwe</td>\n",
       "      <td>2017</td>\n",
       "      <td>14236595.0</td>\n",
       "      <td>Viande de Suides</td>\n",
       "      <td>animale</td>\n",
       "      <td>0.0</td>\n",
       "      <td>0.0</td>\n",
       "      <td>24.0</td>\n",
       "      <td>2.65</td>\n",
       "      <td>2.25</td>\n",
       "      <td>0.83</td>\n",
       "      <td>37.0</td>\n",
       "      <td>0.0</td>\n",
       "      <td>6000.0</td>\n",
       "      <td>37000.0</td>\n",
       "      <td>0.0</td>\n",
       "      <td>32000.0</td>\n",
       "      <td>0.0</td>\n",
       "      <td>0.0</td>\n",
       "      <td>0.0</td>\n",
       "    </tr>\n",
       "    <tr>\n",
       "      <th>15412</th>\n",
       "      <td>Zimbabwe</td>\n",
       "      <td>2017</td>\n",
       "      <td>14236595.0</td>\n",
       "      <td>Viande de Volailles</td>\n",
       "      <td>animale</td>\n",
       "      <td>0.0</td>\n",
       "      <td>0.0</td>\n",
       "      <td>17.0</td>\n",
       "      <td>4.97</td>\n",
       "      <td>1.05</td>\n",
       "      <td>1.69</td>\n",
       "      <td>70.0</td>\n",
       "      <td>0.0</td>\n",
       "      <td>6000.0</td>\n",
       "      <td>70000.0</td>\n",
       "      <td>0.0</td>\n",
       "      <td>64000.0</td>\n",
       "      <td>0.0</td>\n",
       "      <td>0.0</td>\n",
       "      <td>0.0</td>\n",
       "    </tr>\n",
       "    <tr>\n",
       "      <th>15413</th>\n",
       "      <td>Zimbabwe</td>\n",
       "      <td>2017</td>\n",
       "      <td>14236595.0</td>\n",
       "      <td>Viande, Autre</td>\n",
       "      <td>animale</td>\n",
       "      <td>0.0</td>\n",
       "      <td>1000.0</td>\n",
       "      <td>7.0</td>\n",
       "      <td>2.29</td>\n",
       "      <td>0.21</td>\n",
       "      <td>1.12</td>\n",
       "      <td>34.0</td>\n",
       "      <td>3000.0</td>\n",
       "      <td>1000.0</td>\n",
       "      <td>32000.0</td>\n",
       "      <td>0.0</td>\n",
       "      <td>36000.0</td>\n",
       "      <td>0.0</td>\n",
       "      <td>0.0</td>\n",
       "      <td>0.0</td>\n",
       "    </tr>\n",
       "    <tr>\n",
       "      <th>15414</th>\n",
       "      <td>Zimbabwe</td>\n",
       "      <td>2017</td>\n",
       "      <td>14236595.0</td>\n",
       "      <td>Vin</td>\n",
       "      <td>vegetale</td>\n",
       "      <td>0.0</td>\n",
       "      <td>0.0</td>\n",
       "      <td>1.0</td>\n",
       "      <td>0.27</td>\n",
       "      <td>0.00</td>\n",
       "      <td>0.00</td>\n",
       "      <td>4.0</td>\n",
       "      <td>0.0</td>\n",
       "      <td>2000.0</td>\n",
       "      <td>4000.0</td>\n",
       "      <td>0.0</td>\n",
       "      <td>2000.0</td>\n",
       "      <td>0.0</td>\n",
       "      <td>0.0</td>\n",
       "      <td>0.0</td>\n",
       "    </tr>\n",
       "    <tr>\n",
       "      <th>15415</th>\n",
       "      <td>Zimbabwe</td>\n",
       "      <td>2017</td>\n",
       "      <td>14236595.0</td>\n",
       "      <td>Épices, Autres</td>\n",
       "      <td>vegetale</td>\n",
       "      <td>0.0</td>\n",
       "      <td>0.0</td>\n",
       "      <td>1.0</td>\n",
       "      <td>0.06</td>\n",
       "      <td>0.02</td>\n",
       "      <td>0.02</td>\n",
       "      <td>1.0</td>\n",
       "      <td>0.0</td>\n",
       "      <td>0.0</td>\n",
       "      <td>1000.0</td>\n",
       "      <td>0.0</td>\n",
       "      <td>1000.0</td>\n",
       "      <td>0.0</td>\n",
       "      <td>0.0</td>\n",
       "      <td>0.0</td>\n",
       "    </tr>\n",
       "  </tbody>\n",
       "</table>\n",
       "<p>15416 rows × 20 columns</p>\n",
       "</div>"
      ],
      "text/plain": [
       "              Zone  Année  Population                Produit   Origine  \\\n",
       "0      Afghanistan   2017  36296113.0       Abats Comestible   animale   \n",
       "1      Afghanistan   2017  36296113.0        Agrumes, Autres  vegetale   \n",
       "2      Afghanistan   2017  36296113.0  Aliments pour enfants  vegetale   \n",
       "3      Afghanistan   2017  36296113.0                 Ananas  vegetale   \n",
       "4      Afghanistan   2017  36296113.0                Bananes  vegetale   \n",
       "...            ...    ...         ...                    ...       ...   \n",
       "15411     Zimbabwe   2017  14236595.0       Viande de Suides   animale   \n",
       "15412     Zimbabwe   2017  14236595.0    Viande de Volailles   animale   \n",
       "15413     Zimbabwe   2017  14236595.0          Viande, Autre   animale   \n",
       "15414     Zimbabwe   2017  14236595.0                    Vin  vegetale   \n",
       "15415     Zimbabwe   2017  14236595.0         Épices, Autres  vegetale   \n",
       "\n",
       "       Aliments pour animaux  Autres Utilisations  \\\n",
       "0                        0.0                  0.0   \n",
       "1                        0.0                  0.0   \n",
       "2                        0.0                  0.0   \n",
       "3                        0.0                  0.0   \n",
       "4                        0.0                  0.0   \n",
       "...                      ...                  ...   \n",
       "15411                    0.0                  0.0   \n",
       "15412                    0.0                  0.0   \n",
       "15413                    0.0               1000.0   \n",
       "15414                    0.0                  0.0   \n",
       "15415                    0.0                  0.0   \n",
       "\n",
       "       Disponibilité alimentaire (Kcal/personne/jour)  \\\n",
       "0                                                 5.0   \n",
       "1                                                 1.0   \n",
       "2                                                 1.0   \n",
       "3                                                 0.0   \n",
       "4                                                 4.0   \n",
       "...                                               ...   \n",
       "15411                                            24.0   \n",
       "15412                                            17.0   \n",
       "15413                                             7.0   \n",
       "15414                                             1.0   \n",
       "15415                                             1.0   \n",
       "\n",
       "       Disponibilité alimentaire en quantité (kg/personne/an)  \\\n",
       "0                                                   1.72        \n",
       "1                                                   1.29        \n",
       "2                                                   0.06        \n",
       "3                                                   0.00        \n",
       "4                                                   2.70        \n",
       "...                                                  ...        \n",
       "15411                                               2.65        \n",
       "15412                                               4.97        \n",
       "15413                                               2.29        \n",
       "15414                                               0.27        \n",
       "15415                                               0.06        \n",
       "\n",
       "       Disponibilité de matière grasse en quantité (g/personne/jour)  \\\n",
       "0                                                   0.20               \n",
       "1                                                   0.01               \n",
       "2                                                   0.01               \n",
       "3                                                   0.00               \n",
       "4                                                   0.02               \n",
       "...                                                  ...               \n",
       "15411                                               2.25               \n",
       "15412                                               1.05               \n",
       "15413                                               0.21               \n",
       "15414                                               0.00               \n",
       "15415                                               0.02               \n",
       "\n",
       "       Disponibilité de protéines en quantité (g/personne/jour)  \\\n",
       "0                                                   0.77          \n",
       "1                                                   0.02          \n",
       "2                                                   0.03          \n",
       "3                                                   0.00          \n",
       "4                                                   0.05          \n",
       "...                                                  ...          \n",
       "15411                                               0.83          \n",
       "15412                                               1.69          \n",
       "15413                                               1.12          \n",
       "15414                                               0.00          \n",
       "15415                                               0.02          \n",
       "\n",
       "       Disponibilité intérieure  Exportations - Quantité  \\\n",
       "0                          53.0                      0.0   \n",
       "1                          41.0                   2000.0   \n",
       "2                           2.0                      0.0   \n",
       "3                           0.0                      0.0   \n",
       "4                          82.0                      0.0   \n",
       "...                         ...                      ...   \n",
       "15411                      37.0                      0.0   \n",
       "15412                      70.0                      0.0   \n",
       "15413                      34.0                   3000.0   \n",
       "15414                       4.0                      0.0   \n",
       "15415                       1.0                      0.0   \n",
       "\n",
       "       Importations - Quantité  Nourriture  Pertes  Production  Semences  \\\n",
       "0                          0.0     53000.0     0.0     53000.0       0.0   \n",
       "1                      40000.0     39000.0  2000.0      3000.0       0.0   \n",
       "2                       2000.0      2000.0     0.0         0.0       0.0   \n",
       "3                          0.0         0.0     0.0         0.0       0.0   \n",
       "4                      82000.0     82000.0     0.0         0.0       0.0   \n",
       "...                        ...         ...     ...         ...       ...   \n",
       "15411                   6000.0     37000.0     0.0     32000.0       0.0   \n",
       "15412                   6000.0     70000.0     0.0     64000.0       0.0   \n",
       "15413                   1000.0     32000.0     0.0     36000.0       0.0   \n",
       "15414                   2000.0      4000.0     0.0      2000.0       0.0   \n",
       "15415                      0.0      1000.0     0.0      1000.0       0.0   \n",
       "\n",
       "       Traitement  Variation de stock  \n",
       "0             0.0                 0.0  \n",
       "1             0.0                 0.0  \n",
       "2             0.0                 0.0  \n",
       "3             0.0                 0.0  \n",
       "4             0.0                 0.0  \n",
       "...           ...                 ...  \n",
       "15411         0.0                 0.0  \n",
       "15412         0.0                 0.0  \n",
       "15413         0.0                 0.0  \n",
       "15414         0.0                 0.0  \n",
       "15415         0.0                 0.0  \n",
       "\n",
       "[15416 rows x 20 columns]"
      ]
     },
     "execution_count": 122,
     "metadata": {},
     "output_type": "execute_result"
    }
   ],
   "source": [
    "#New dataframe displayed\n",
    "pop_da"
   ]
  },
  {
   "cell_type": "code",
   "execution_count": 123,
   "id": "5305ba25",
   "metadata": {
    "ExecuteTime": {
     "end_time": "2023-09-04T19:19:05.046490100Z",
     "start_time": "2023-09-04T19:19:04.305710800Z"
    }
   },
   "outputs": [],
   "source": [
    "#Creation of the dispo_kcal column with calculation of globally available kcal\n",
    "pop_da[\"dispo_kcal\"] = pop_da[\"Disponibilité alimentaire (Kcal/personne/jour)\"]*pop_da[\"Population\"]"
   ]
  },
  {
   "cell_type": "code",
   "execution_count": 124,
   "id": "a6d4af90",
   "metadata": {
    "ExecuteTime": {
     "end_time": "2023-09-04T19:19:05.051477300Z",
     "start_time": "2023-09-04T19:19:04.354321500Z"
    }
   },
   "outputs": [
    {
     "name": "stdout",
     "output_type": "stream",
     "text": [
      "The number of humans that can be fed is 9.3 billion\n",
      "So, 123.24 % of world population\n"
     ]
    }
   ],
   "source": [
    "#Calculating the number of humans that can be fed\n",
    "nb_humain_nourris = ((pop_da[\"dispo_kcal\"].sum())/2250)/1000000000\n",
    "print(f\"The number of humans that can be fed is {round(nb_humain_nourris,2)} billion\")\n",
    "print(f\"So, {round(((nb_humain_nourris*100)*1000000000)/pop_monde,2)} % of world population\")\n",
    "\n"
   ]
  },
  {
   "cell_type": "markdown",
   "id": "e97c8886",
   "metadata": {},
   "source": [
    "<div style=\"border: 1px solid RGB(0,150,250);\" >\n",
    "<h3 style=\"margin: auto; padding: 20px; color: RGB(0,150,250); \">3.3 - Theoretical number of people who could be fed with plant products</h3>\n",
    "</div>"
   ]
  },
  {
   "cell_type": "code",
   "execution_count": 125,
   "id": "c2e3c87c",
   "metadata": {
    "ExecuteTime": {
     "end_time": "2023-09-04T19:19:05.055469100Z",
     "start_time": "2023-09-04T19:19:04.432928400Z"
    }
   },
   "outputs": [
    {
     "data": {
      "text/html": [
       "<div>\n",
       "<style scoped>\n",
       "    .dataframe tbody tr th:only-of-type {\n",
       "        vertical-align: middle;\n",
       "    }\n",
       "\n",
       "    .dataframe tbody tr th {\n",
       "        vertical-align: top;\n",
       "    }\n",
       "\n",
       "    .dataframe thead th {\n",
       "        text-align: right;\n",
       "    }\n",
       "</style>\n",
       "<table border=\"1\" class=\"dataframe\">\n",
       "  <thead>\n",
       "    <tr style=\"text-align: right;\">\n",
       "      <th></th>\n",
       "      <th>Zone</th>\n",
       "      <th>Année</th>\n",
       "      <th>Population</th>\n",
       "      <th>Produit</th>\n",
       "      <th>Origine</th>\n",
       "      <th>Aliments pour animaux</th>\n",
       "      <th>Autres Utilisations</th>\n",
       "      <th>Disponibilité alimentaire (Kcal/personne/jour)</th>\n",
       "      <th>Disponibilité alimentaire en quantité (kg/personne/an)</th>\n",
       "      <th>Disponibilité de matière grasse en quantité (g/personne/jour)</th>\n",
       "      <th>...</th>\n",
       "      <th>Disponibilité intérieure</th>\n",
       "      <th>Exportations - Quantité</th>\n",
       "      <th>Importations - Quantité</th>\n",
       "      <th>Nourriture</th>\n",
       "      <th>Pertes</th>\n",
       "      <th>Production</th>\n",
       "      <th>Semences</th>\n",
       "      <th>Traitement</th>\n",
       "      <th>Variation de stock</th>\n",
       "      <th>dispo_kcal</th>\n",
       "    </tr>\n",
       "  </thead>\n",
       "  <tbody>\n",
       "    <tr>\n",
       "      <th>1</th>\n",
       "      <td>Afghanistan</td>\n",
       "      <td>2017</td>\n",
       "      <td>36296113.0</td>\n",
       "      <td>Agrumes, Autres</td>\n",
       "      <td>vegetale</td>\n",
       "      <td>0.0</td>\n",
       "      <td>0.0</td>\n",
       "      <td>1.0</td>\n",
       "      <td>1.29</td>\n",
       "      <td>0.01</td>\n",
       "      <td>...</td>\n",
       "      <td>41.0</td>\n",
       "      <td>2000.0</td>\n",
       "      <td>40000.0</td>\n",
       "      <td>39000.0</td>\n",
       "      <td>2000.0</td>\n",
       "      <td>3000.0</td>\n",
       "      <td>0.0</td>\n",
       "      <td>0.0</td>\n",
       "      <td>0.0</td>\n",
       "      <td>36296113.0</td>\n",
       "    </tr>\n",
       "    <tr>\n",
       "      <th>2</th>\n",
       "      <td>Afghanistan</td>\n",
       "      <td>2017</td>\n",
       "      <td>36296113.0</td>\n",
       "      <td>Aliments pour enfants</td>\n",
       "      <td>vegetale</td>\n",
       "      <td>0.0</td>\n",
       "      <td>0.0</td>\n",
       "      <td>1.0</td>\n",
       "      <td>0.06</td>\n",
       "      <td>0.01</td>\n",
       "      <td>...</td>\n",
       "      <td>2.0</td>\n",
       "      <td>0.0</td>\n",
       "      <td>2000.0</td>\n",
       "      <td>2000.0</td>\n",
       "      <td>0.0</td>\n",
       "      <td>0.0</td>\n",
       "      <td>0.0</td>\n",
       "      <td>0.0</td>\n",
       "      <td>0.0</td>\n",
       "      <td>36296113.0</td>\n",
       "    </tr>\n",
       "    <tr>\n",
       "      <th>3</th>\n",
       "      <td>Afghanistan</td>\n",
       "      <td>2017</td>\n",
       "      <td>36296113.0</td>\n",
       "      <td>Ananas</td>\n",
       "      <td>vegetale</td>\n",
       "      <td>0.0</td>\n",
       "      <td>0.0</td>\n",
       "      <td>0.0</td>\n",
       "      <td>0.00</td>\n",
       "      <td>0.00</td>\n",
       "      <td>...</td>\n",
       "      <td>0.0</td>\n",
       "      <td>0.0</td>\n",
       "      <td>0.0</td>\n",
       "      <td>0.0</td>\n",
       "      <td>0.0</td>\n",
       "      <td>0.0</td>\n",
       "      <td>0.0</td>\n",
       "      <td>0.0</td>\n",
       "      <td>0.0</td>\n",
       "      <td>0.0</td>\n",
       "    </tr>\n",
       "    <tr>\n",
       "      <th>4</th>\n",
       "      <td>Afghanistan</td>\n",
       "      <td>2017</td>\n",
       "      <td>36296113.0</td>\n",
       "      <td>Bananes</td>\n",
       "      <td>vegetale</td>\n",
       "      <td>0.0</td>\n",
       "      <td>0.0</td>\n",
       "      <td>4.0</td>\n",
       "      <td>2.70</td>\n",
       "      <td>0.02</td>\n",
       "      <td>...</td>\n",
       "      <td>82.0</td>\n",
       "      <td>0.0</td>\n",
       "      <td>82000.0</td>\n",
       "      <td>82000.0</td>\n",
       "      <td>0.0</td>\n",
       "      <td>0.0</td>\n",
       "      <td>0.0</td>\n",
       "      <td>0.0</td>\n",
       "      <td>0.0</td>\n",
       "      <td>145184452.0</td>\n",
       "    </tr>\n",
       "    <tr>\n",
       "      <th>6</th>\n",
       "      <td>Afghanistan</td>\n",
       "      <td>2017</td>\n",
       "      <td>36296113.0</td>\n",
       "      <td>Bière</td>\n",
       "      <td>vegetale</td>\n",
       "      <td>0.0</td>\n",
       "      <td>0.0</td>\n",
       "      <td>0.0</td>\n",
       "      <td>0.09</td>\n",
       "      <td>0.00</td>\n",
       "      <td>...</td>\n",
       "      <td>3.0</td>\n",
       "      <td>0.0</td>\n",
       "      <td>3000.0</td>\n",
       "      <td>3000.0</td>\n",
       "      <td>0.0</td>\n",
       "      <td>0.0</td>\n",
       "      <td>0.0</td>\n",
       "      <td>0.0</td>\n",
       "      <td>0.0</td>\n",
       "      <td>0.0</td>\n",
       "    </tr>\n",
       "    <tr>\n",
       "      <th>...</th>\n",
       "      <td>...</td>\n",
       "      <td>...</td>\n",
       "      <td>...</td>\n",
       "      <td>...</td>\n",
       "      <td>...</td>\n",
       "      <td>...</td>\n",
       "      <td>...</td>\n",
       "      <td>...</td>\n",
       "      <td>...</td>\n",
       "      <td>...</td>\n",
       "      <td>...</td>\n",
       "      <td>...</td>\n",
       "      <td>...</td>\n",
       "      <td>...</td>\n",
       "      <td>...</td>\n",
       "      <td>...</td>\n",
       "      <td>...</td>\n",
       "      <td>...</td>\n",
       "      <td>...</td>\n",
       "      <td>...</td>\n",
       "      <td>...</td>\n",
       "    </tr>\n",
       "    <tr>\n",
       "      <th>15406</th>\n",
       "      <td>Zimbabwe</td>\n",
       "      <td>2017</td>\n",
       "      <td>14236595.0</td>\n",
       "      <td>Sésame</td>\n",
       "      <td>vegetale</td>\n",
       "      <td>0.0</td>\n",
       "      <td>0.0</td>\n",
       "      <td>0.0</td>\n",
       "      <td>0.00</td>\n",
       "      <td>0.00</td>\n",
       "      <td>...</td>\n",
       "      <td>0.0</td>\n",
       "      <td>0.0</td>\n",
       "      <td>0.0</td>\n",
       "      <td>0.0</td>\n",
       "      <td>0.0</td>\n",
       "      <td>0.0</td>\n",
       "      <td>0.0</td>\n",
       "      <td>0.0</td>\n",
       "      <td>0.0</td>\n",
       "      <td>0.0</td>\n",
       "    </tr>\n",
       "    <tr>\n",
       "      <th>15407</th>\n",
       "      <td>Zimbabwe</td>\n",
       "      <td>2017</td>\n",
       "      <td>14236595.0</td>\n",
       "      <td>Thé</td>\n",
       "      <td>vegetale</td>\n",
       "      <td>0.0</td>\n",
       "      <td>0.0</td>\n",
       "      <td>1.0</td>\n",
       "      <td>0.54</td>\n",
       "      <td>0.00</td>\n",
       "      <td>...</td>\n",
       "      <td>8.0</td>\n",
       "      <td>12000.0</td>\n",
       "      <td>1000.0</td>\n",
       "      <td>8000.0</td>\n",
       "      <td>0.0</td>\n",
       "      <td>19000.0</td>\n",
       "      <td>0.0</td>\n",
       "      <td>0.0</td>\n",
       "      <td>0.0</td>\n",
       "      <td>14236595.0</td>\n",
       "    </tr>\n",
       "    <tr>\n",
       "      <th>15408</th>\n",
       "      <td>Zimbabwe</td>\n",
       "      <td>2017</td>\n",
       "      <td>14236595.0</td>\n",
       "      <td>Tomates</td>\n",
       "      <td>vegetale</td>\n",
       "      <td>0.0</td>\n",
       "      <td>0.0</td>\n",
       "      <td>1.0</td>\n",
       "      <td>1.80</td>\n",
       "      <td>0.01</td>\n",
       "      <td>...</td>\n",
       "      <td>27.0</td>\n",
       "      <td>0.0</td>\n",
       "      <td>3000.0</td>\n",
       "      <td>25000.0</td>\n",
       "      <td>1000.0</td>\n",
       "      <td>24000.0</td>\n",
       "      <td>0.0</td>\n",
       "      <td>0.0</td>\n",
       "      <td>0.0</td>\n",
       "      <td>14236595.0</td>\n",
       "    </tr>\n",
       "    <tr>\n",
       "      <th>15414</th>\n",
       "      <td>Zimbabwe</td>\n",
       "      <td>2017</td>\n",
       "      <td>14236595.0</td>\n",
       "      <td>Vin</td>\n",
       "      <td>vegetale</td>\n",
       "      <td>0.0</td>\n",
       "      <td>0.0</td>\n",
       "      <td>1.0</td>\n",
       "      <td>0.27</td>\n",
       "      <td>0.00</td>\n",
       "      <td>...</td>\n",
       "      <td>4.0</td>\n",
       "      <td>0.0</td>\n",
       "      <td>2000.0</td>\n",
       "      <td>4000.0</td>\n",
       "      <td>0.0</td>\n",
       "      <td>2000.0</td>\n",
       "      <td>0.0</td>\n",
       "      <td>0.0</td>\n",
       "      <td>0.0</td>\n",
       "      <td>14236595.0</td>\n",
       "    </tr>\n",
       "    <tr>\n",
       "      <th>15415</th>\n",
       "      <td>Zimbabwe</td>\n",
       "      <td>2017</td>\n",
       "      <td>14236595.0</td>\n",
       "      <td>Épices, Autres</td>\n",
       "      <td>vegetale</td>\n",
       "      <td>0.0</td>\n",
       "      <td>0.0</td>\n",
       "      <td>1.0</td>\n",
       "      <td>0.06</td>\n",
       "      <td>0.02</td>\n",
       "      <td>...</td>\n",
       "      <td>1.0</td>\n",
       "      <td>0.0</td>\n",
       "      <td>0.0</td>\n",
       "      <td>1000.0</td>\n",
       "      <td>0.0</td>\n",
       "      <td>1000.0</td>\n",
       "      <td>0.0</td>\n",
       "      <td>0.0</td>\n",
       "      <td>0.0</td>\n",
       "      <td>14236595.0</td>\n",
       "    </tr>\n",
       "  </tbody>\n",
       "</table>\n",
       "<p>11751 rows × 21 columns</p>\n",
       "</div>"
      ],
      "text/plain": [
       "              Zone  Année  Population                Produit   Origine  \\\n",
       "1      Afghanistan   2017  36296113.0        Agrumes, Autres  vegetale   \n",
       "2      Afghanistan   2017  36296113.0  Aliments pour enfants  vegetale   \n",
       "3      Afghanistan   2017  36296113.0                 Ananas  vegetale   \n",
       "4      Afghanistan   2017  36296113.0                Bananes  vegetale   \n",
       "6      Afghanistan   2017  36296113.0                  Bière  vegetale   \n",
       "...            ...    ...         ...                    ...       ...   \n",
       "15406     Zimbabwe   2017  14236595.0                 Sésame  vegetale   \n",
       "15407     Zimbabwe   2017  14236595.0                    Thé  vegetale   \n",
       "15408     Zimbabwe   2017  14236595.0                Tomates  vegetale   \n",
       "15414     Zimbabwe   2017  14236595.0                    Vin  vegetale   \n",
       "15415     Zimbabwe   2017  14236595.0         Épices, Autres  vegetale   \n",
       "\n",
       "       Aliments pour animaux  Autres Utilisations  \\\n",
       "1                        0.0                  0.0   \n",
       "2                        0.0                  0.0   \n",
       "3                        0.0                  0.0   \n",
       "4                        0.0                  0.0   \n",
       "6                        0.0                  0.0   \n",
       "...                      ...                  ...   \n",
       "15406                    0.0                  0.0   \n",
       "15407                    0.0                  0.0   \n",
       "15408                    0.0                  0.0   \n",
       "15414                    0.0                  0.0   \n",
       "15415                    0.0                  0.0   \n",
       "\n",
       "       Disponibilité alimentaire (Kcal/personne/jour)  \\\n",
       "1                                                 1.0   \n",
       "2                                                 1.0   \n",
       "3                                                 0.0   \n",
       "4                                                 4.0   \n",
       "6                                                 0.0   \n",
       "...                                               ...   \n",
       "15406                                             0.0   \n",
       "15407                                             1.0   \n",
       "15408                                             1.0   \n",
       "15414                                             1.0   \n",
       "15415                                             1.0   \n",
       "\n",
       "       Disponibilité alimentaire en quantité (kg/personne/an)  \\\n",
       "1                                                   1.29        \n",
       "2                                                   0.06        \n",
       "3                                                   0.00        \n",
       "4                                                   2.70        \n",
       "6                                                   0.09        \n",
       "...                                                  ...        \n",
       "15406                                               0.00        \n",
       "15407                                               0.54        \n",
       "15408                                               1.80        \n",
       "15414                                               0.27        \n",
       "15415                                               0.06        \n",
       "\n",
       "       Disponibilité de matière grasse en quantité (g/personne/jour)  ...  \\\n",
       "1                                                   0.01              ...   \n",
       "2                                                   0.01              ...   \n",
       "3                                                   0.00              ...   \n",
       "4                                                   0.02              ...   \n",
       "6                                                   0.00              ...   \n",
       "...                                                  ...              ...   \n",
       "15406                                               0.00              ...   \n",
       "15407                                               0.00              ...   \n",
       "15408                                               0.01              ...   \n",
       "15414                                               0.00              ...   \n",
       "15415                                               0.02              ...   \n",
       "\n",
       "       Disponibilité intérieure  Exportations - Quantité  \\\n",
       "1                          41.0                   2000.0   \n",
       "2                           2.0                      0.0   \n",
       "3                           0.0                      0.0   \n",
       "4                          82.0                      0.0   \n",
       "6                           3.0                      0.0   \n",
       "...                         ...                      ...   \n",
       "15406                       0.0                      0.0   \n",
       "15407                       8.0                  12000.0   \n",
       "15408                      27.0                      0.0   \n",
       "15414                       4.0                      0.0   \n",
       "15415                       1.0                      0.0   \n",
       "\n",
       "       Importations - Quantité  Nourriture  Pertes  Production  Semences  \\\n",
       "1                      40000.0     39000.0  2000.0      3000.0       0.0   \n",
       "2                       2000.0      2000.0     0.0         0.0       0.0   \n",
       "3                          0.0         0.0     0.0         0.0       0.0   \n",
       "4                      82000.0     82000.0     0.0         0.0       0.0   \n",
       "6                       3000.0      3000.0     0.0         0.0       0.0   \n",
       "...                        ...         ...     ...         ...       ...   \n",
       "15406                      0.0         0.0     0.0         0.0       0.0   \n",
       "15407                   1000.0      8000.0     0.0     19000.0       0.0   \n",
       "15408                   3000.0     25000.0  1000.0     24000.0       0.0   \n",
       "15414                   2000.0      4000.0     0.0      2000.0       0.0   \n",
       "15415                      0.0      1000.0     0.0      1000.0       0.0   \n",
       "\n",
       "       Traitement  Variation de stock   dispo_kcal  \n",
       "1             0.0                 0.0   36296113.0  \n",
       "2             0.0                 0.0   36296113.0  \n",
       "3             0.0                 0.0          0.0  \n",
       "4             0.0                 0.0  145184452.0  \n",
       "6             0.0                 0.0          0.0  \n",
       "...           ...                 ...          ...  \n",
       "15406         0.0                 0.0          0.0  \n",
       "15407         0.0                 0.0   14236595.0  \n",
       "15408         0.0                 0.0   14236595.0  \n",
       "15414         0.0                 0.0   14236595.0  \n",
       "15415         0.0                 0.0   14236595.0  \n",
       "\n",
       "[11751 rows x 21 columns]"
      ]
     },
     "execution_count": 125,
     "metadata": {},
     "output_type": "execute_result"
    }
   ],
   "source": [
    "#Transfer data with plants to a new dataframe\n",
    "da_vege=pop_da[pop_da[\"Origine\"]==\"vegetale\"]\n",
    "da_vege"
   ]
  },
  {
   "cell_type": "code",
   "execution_count": 126,
   "id": "534f3ad7",
   "metadata": {
    "ExecuteTime": {
     "end_time": "2023-09-04T19:19:05.313556800Z",
     "start_time": "2023-09-04T19:19:04.530349Z"
    }
   },
   "outputs": [],
   "source": [
    "#Calculating the number of kcal available for plants\n",
    "da_vege_totale = da_vege[\"dispo_kcal\"].sum()"
   ]
  },
  {
   "cell_type": "code",
   "execution_count": 127,
   "id": "8c82da41",
   "metadata": {
    "ExecuteTime": {
     "end_time": "2023-09-04T19:19:05.440417300Z",
     "start_time": "2023-09-04T19:19:04.608163300Z"
    }
   },
   "outputs": [
    {
     "name": "stdout",
     "output_type": "stream",
     "text": [
      "The number of people on Earth in 2017 is 7.54 billion\n",
      "Plant availability is 17260.76 billion kcals\n",
      "With plants alone, we could feed 7.67 billion people\n",
      "That's 101.69 % of the population.\n"
     ]
    },
    {
     "data": {
      "image/png": "[encoded data removed]",
      "text/plain": [
       "<Figure size 640x480 with 1 Axes>"
      ]
     },
     "metadata": {},
     "output_type": "display_data"
    }
   ],
   "source": [
    "#Calculating the number of humans that can be fed with plants\n",
    "round((da_vege_totale/2250)/1000000000,2)\n",
    "\n",
    "print(f\"The number of people on Earth in 2017 is {round(pop_monde/1000000000,2)} billion\")\n",
    "print(f\"Plant availability is {round(da_vege_totale/1000000000,2)} billion kcals\")\n",
    "print(f\"With plants alone, we could feed {round((da_vege_totale/2250)/1000000000,2)} billion people\")\n",
    "print(f\"That's {round(da_vege_totale/2250*100/pop_monde,2)} % of the population.\") \n",
    "\n",
    "plt.bar(height=pop_monde, x=\"World population\",linewidth = 2, width =1, edgecolor = 'blue')\n",
    "plt.bar(height=(da_vege_totale/2250), x=\"Plant availability\", edgecolor = 'red',width =1)\n",
    "\n",
    "plt.title(\"Calculating the number of humans that can be fed with plants\", fontsize=14, color=\"red\")\n",
    "plt.ylabel(\"Population in billions\", color=\"red\")\n",
    "plt.grid(axis=\"y\")\n",
    "\n",
    "plt.show()\n"
   ]
  },
  {
   "cell_type": "markdown",
   "id": "cd07afb1",
   "metadata": {},
   "source": [
    "<div style=\"border: 1px solid RGB(0,150,250);\" >\n",
    "<h3 style=\"margin: auto; padding: 20px; color: RGB(0,150,250); \">3.4 - Use of domestic availability</h3>\n",
    "</div>"
   ]
  },
  {
   "cell_type": "code",
   "execution_count": 128,
   "id": "71328746",
   "metadata": {
    "ExecuteTime": {
     "end_time": "2023-09-04T19:19:05.458371500Z",
     "start_time": "2023-09-04T19:19:04.650280300Z"
    }
   },
   "outputs": [
    {
     "name": "stdout",
     "output_type": "stream",
     "text": [
      "Domestic availability = 9733927.0 kcals\n",
      "Domestic availability 2 =9849173000.0 kcals\n",
      "Domestic availability 3 = 9858592000.0 kcals\n",
      "The domestic availability is 9813897333 kcals\n"
     ]
    }
   ],
   "source": [
    "#Total availability calculation\n",
    "dispo_totale = pop_da[\"Disponibilité intérieure\"].sum()\n",
    "print(f\"Domestic availability = {dispo_totale} kcals\")\n",
    "dispo_totale2 = (da[\"Production\"]+da[\"Importations - Quantité\"]-da[\"Exportations - Quantité\"]+da[\"Variation de stock\"]).sum()\n",
    "print(f\"Domestic availability 2 ={dispo_totale2} kcals\")\n",
    "dispo_totale3 = (da[\"Semences\"]+da[\"Pertes\"]+da[\"Nourriture\"]+da[\"Aliments pour animaux\"]+da[\"Traitement\"]+da[\"Autres Utilisations\"]).sum()\n",
    "print(f\"Domestic availability 3 = {dispo_totale3} kcals\")\n",
    "dispo_interieure=round((dispo_totale*1000+dispo_totale2+dispo_totale3)/3)\n",
    "print(f\"The domestic availability is {dispo_interieure} kcals\")\n"
   ]
  },
  {
   "cell_type": "code",
   "execution_count": 129,
   "id": "03248095",
   "metadata": {
    "ExecuteTime": {
     "end_time": "2023-09-04T19:19:06.475958800Z",
     "start_time": "2023-09-04T19:19:04.763405700Z"
    }
   },
   "outputs": [
    {
     "data": {
      "image/png": "[encoded data removed]",
      "text/plain": [
       "<Figure size 640x480 with 1 Axes>"
      ]
     },
     "metadata": {},
     "output_type": "display_data"
    }
   ],
   "source": [
    "colonnes_a_afficher = [\"Aliments pour animaux\", \"Pertes\", \"Nourriture\", \"Semences\", \"Traitement\", \"Autres Utilisations\"]\n",
    "data = pop_da[colonnes_a_afficher].sum()\n",
    "    \n",
    "plt.pie(x=data, labels=colonnes_a_afficher, wedgeprops=dict(width=0.7) ,autopct='%1.1f%%',pctdistance=.7,rotatelabels=False)\n",
    "plt.title(\"Breakdown of domestic availability\", fontsize=14, color=\"red\")\n",
    "\n",
    "plt.show()\n"
   ]
  },
  {
   "cell_type": "markdown",
   "id": "141d05df",
   "metadata": {},
   "source": [
    "<div style=\"border: 1px solid RGB(0,150,250);\" >\n",
    "<h3 style=\"margin: auto; padding: 20px; color: RGB(0,150,250); \">3.5 - Use of cereals</h3>\n",
    "</div>"
   ]
  },
  {
   "cell_type": "code",
   "execution_count": 130,
   "id": "c27448ff",
   "metadata": {
    "ExecuteTime": {
     "end_time": "2023-09-04T19:19:06.477956200Z",
     "start_time": "2023-09-04T19:19:05.406745800Z"
    }
   },
   "outputs": [],
   "source": [
    "#Create a list with all variables\n",
    "liste_cereales = [\"Blé\", \"Riz (Eq Blanchi)\", \"Orge\", \"Maïs\", \"Seigle\",\"Avoine\", \"Millet\", \"Sorgho\", \"Céréales, Autres\"]\n"
   ]
  },
  {
   "cell_type": "code",
   "execution_count": 131,
   "id": "8261e13d-b8a1-476e-b937-f67a726de4bf",
   "metadata": {
    "ExecuteTime": {
     "end_time": "2023-09-04T19:19:06.641684900Z",
     "start_time": "2023-09-04T19:19:05.426456200Z"
    }
   },
   "outputs": [
    {
     "data": {
      "text/html": [
       "<div>\n",
       "<style scoped>\n",
       "    .dataframe tbody tr th:only-of-type {\n",
       "        vertical-align: middle;\n",
       "    }\n",
       "\n",
       "    .dataframe tbody tr th {\n",
       "        vertical-align: top;\n",
       "    }\n",
       "\n",
       "    .dataframe thead th {\n",
       "        text-align: right;\n",
       "    }\n",
       "</style>\n",
       "<table border=\"1\" class=\"dataframe\">\n",
       "  <thead>\n",
       "    <tr style=\"text-align: right;\">\n",
       "      <th></th>\n",
       "      <th>Zone</th>\n",
       "      <th>Année</th>\n",
       "      <th>Population</th>\n",
       "      <th>Produit</th>\n",
       "      <th>Origine</th>\n",
       "      <th>Aliments pour animaux</th>\n",
       "      <th>Autres Utilisations</th>\n",
       "      <th>Disponibilité alimentaire (Kcal/personne/jour)</th>\n",
       "      <th>Disponibilité alimentaire en quantité (kg/personne/an)</th>\n",
       "      <th>Disponibilité de matière grasse en quantité (g/personne/jour)</th>\n",
       "      <th>...</th>\n",
       "      <th>Disponibilité intérieure</th>\n",
       "      <th>Exportations - Quantité</th>\n",
       "      <th>Importations - Quantité</th>\n",
       "      <th>Nourriture</th>\n",
       "      <th>Pertes</th>\n",
       "      <th>Production</th>\n",
       "      <th>Semences</th>\n",
       "      <th>Traitement</th>\n",
       "      <th>Variation de stock</th>\n",
       "      <th>dispo_kcal</th>\n",
       "    </tr>\n",
       "  </thead>\n",
       "  <tbody>\n",
       "    <tr>\n",
       "      <th>7</th>\n",
       "      <td>Afghanistan</td>\n",
       "      <td>2017</td>\n",
       "      <td>36296113.0</td>\n",
       "      <td>Blé</td>\n",
       "      <td>vegetale</td>\n",
       "      <td>0.0</td>\n",
       "      <td>0.0</td>\n",
       "      <td>1369.0</td>\n",
       "      <td>160.23</td>\n",
       "      <td>4.69</td>\n",
       "      <td>...</td>\n",
       "      <td>5992.0</td>\n",
       "      <td>0.0</td>\n",
       "      <td>1173000.0</td>\n",
       "      <td>4895000.0</td>\n",
       "      <td>775000.0</td>\n",
       "      <td>5169000.0</td>\n",
       "      <td>322000.0</td>\n",
       "      <td>0.0</td>\n",
       "      <td>-350000.0</td>\n",
       "      <td>4.968938e+10</td>\n",
       "    </tr>\n",
       "    <tr>\n",
       "      <th>12</th>\n",
       "      <td>Afghanistan</td>\n",
       "      <td>2017</td>\n",
       "      <td>36296113.0</td>\n",
       "      <td>Céréales, Autres</td>\n",
       "      <td>vegetale</td>\n",
       "      <td>0.0</td>\n",
       "      <td>0.0</td>\n",
       "      <td>0.0</td>\n",
       "      <td>0.00</td>\n",
       "      <td>0.00</td>\n",
       "      <td>...</td>\n",
       "      <td>0.0</td>\n",
       "      <td>0.0</td>\n",
       "      <td>0.0</td>\n",
       "      <td>0.0</td>\n",
       "      <td>0.0</td>\n",
       "      <td>0.0</td>\n",
       "      <td>0.0</td>\n",
       "      <td>0.0</td>\n",
       "      <td>0.0</td>\n",
       "      <td>0.000000e+00</td>\n",
       "    </tr>\n",
       "    <tr>\n",
       "      <th>32</th>\n",
       "      <td>Afghanistan</td>\n",
       "      <td>2017</td>\n",
       "      <td>36296113.0</td>\n",
       "      <td>Maïs</td>\n",
       "      <td>vegetale</td>\n",
       "      <td>200000.0</td>\n",
       "      <td>0.0</td>\n",
       "      <td>21.0</td>\n",
       "      <td>2.50</td>\n",
       "      <td>0.30</td>\n",
       "      <td>...</td>\n",
       "      <td>313.0</td>\n",
       "      <td>0.0</td>\n",
       "      <td>1000.0</td>\n",
       "      <td>76000.0</td>\n",
       "      <td>31000.0</td>\n",
       "      <td>312000.0</td>\n",
       "      <td>5000.0</td>\n",
       "      <td>0.0</td>\n",
       "      <td>0.0</td>\n",
       "      <td>7.622184e+08</td>\n",
       "    </tr>\n",
       "    <tr>\n",
       "      <th>34</th>\n",
       "      <td>Afghanistan</td>\n",
       "      <td>2017</td>\n",
       "      <td>36296113.0</td>\n",
       "      <td>Millet</td>\n",
       "      <td>vegetale</td>\n",
       "      <td>0.0</td>\n",
       "      <td>0.0</td>\n",
       "      <td>3.0</td>\n",
       "      <td>0.40</td>\n",
       "      <td>0.02</td>\n",
       "      <td>...</td>\n",
       "      <td>13.0</td>\n",
       "      <td>0.0</td>\n",
       "      <td>0.0</td>\n",
       "      <td>12000.0</td>\n",
       "      <td>1000.0</td>\n",
       "      <td>13000.0</td>\n",
       "      <td>0.0</td>\n",
       "      <td>0.0</td>\n",
       "      <td>0.0</td>\n",
       "      <td>1.088883e+08</td>\n",
       "    </tr>\n",
       "    <tr>\n",
       "      <th>40</th>\n",
       "      <td>Afghanistan</td>\n",
       "      <td>2017</td>\n",
       "      <td>36296113.0</td>\n",
       "      <td>Orge</td>\n",
       "      <td>vegetale</td>\n",
       "      <td>360000.0</td>\n",
       "      <td>0.0</td>\n",
       "      <td>26.0</td>\n",
       "      <td>2.92</td>\n",
       "      <td>0.24</td>\n",
       "      <td>...</td>\n",
       "      <td>524.0</td>\n",
       "      <td>0.0</td>\n",
       "      <td>10000.0</td>\n",
       "      <td>89000.0</td>\n",
       "      <td>52000.0</td>\n",
       "      <td>514000.0</td>\n",
       "      <td>22000.0</td>\n",
       "      <td>0.0</td>\n",
       "      <td>0.0</td>\n",
       "      <td>9.436989e+08</td>\n",
       "    </tr>\n",
       "  </tbody>\n",
       "</table>\n",
       "<p>5 rows × 21 columns</p>\n",
       "</div>"
      ],
      "text/plain": [
       "           Zone  Année  Population           Produit   Origine  \\\n",
       "7   Afghanistan   2017  36296113.0               Blé  vegetale   \n",
       "12  Afghanistan   2017  36296113.0  Céréales, Autres  vegetale   \n",
       "32  Afghanistan   2017  36296113.0              Maïs  vegetale   \n",
       "34  Afghanistan   2017  36296113.0            Millet  vegetale   \n",
       "40  Afghanistan   2017  36296113.0              Orge  vegetale   \n",
       "\n",
       "    Aliments pour animaux  Autres Utilisations  \\\n",
       "7                     0.0                  0.0   \n",
       "12                    0.0                  0.0   \n",
       "32               200000.0                  0.0   \n",
       "34                    0.0                  0.0   \n",
       "40               360000.0                  0.0   \n",
       "\n",
       "    Disponibilité alimentaire (Kcal/personne/jour)  \\\n",
       "7                                           1369.0   \n",
       "12                                             0.0   \n",
       "32                                            21.0   \n",
       "34                                             3.0   \n",
       "40                                            26.0   \n",
       "\n",
       "    Disponibilité alimentaire en quantité (kg/personne/an)  \\\n",
       "7                                              160.23        \n",
       "12                                               0.00        \n",
       "32                                               2.50        \n",
       "34                                               0.40        \n",
       "40                                               2.92        \n",
       "\n",
       "    Disponibilité de matière grasse en quantité (g/personne/jour)  ...  \\\n",
       "7                                                4.69              ...   \n",
       "12                                               0.00              ...   \n",
       "32                                               0.30              ...   \n",
       "34                                               0.02              ...   \n",
       "40                                               0.24              ...   \n",
       "\n",
       "    Disponibilité intérieure  Exportations - Quantité  \\\n",
       "7                     5992.0                      0.0   \n",
       "12                       0.0                      0.0   \n",
       "32                     313.0                      0.0   \n",
       "34                      13.0                      0.0   \n",
       "40                     524.0                      0.0   \n",
       "\n",
       "    Importations - Quantité  Nourriture    Pertes  Production  Semences  \\\n",
       "7                 1173000.0   4895000.0  775000.0   5169000.0  322000.0   \n",
       "12                      0.0         0.0       0.0         0.0       0.0   \n",
       "32                   1000.0     76000.0   31000.0    312000.0    5000.0   \n",
       "34                      0.0     12000.0    1000.0     13000.0       0.0   \n",
       "40                  10000.0     89000.0   52000.0    514000.0   22000.0   \n",
       "\n",
       "    Traitement  Variation de stock    dispo_kcal  \n",
       "7          0.0           -350000.0  4.968938e+10  \n",
       "12         0.0                 0.0  0.000000e+00  \n",
       "32         0.0                 0.0  7.622184e+08  \n",
       "34         0.0                 0.0  1.088883e+08  \n",
       "40         0.0                 0.0  9.436989e+08  \n",
       "\n",
       "[5 rows x 21 columns]"
      ]
     },
     "execution_count": 131,
     "metadata": {},
     "output_type": "execute_result"
    }
   ],
   "source": [
    "#Create a dataframe with information for these cereals only\n",
    "\n",
    "da_vege_cereales = da_vege[da_vege[\"Produit\"].isin(liste_cereales)]\n",
    "da_vege_cereales.head()\n"
   ]
  },
  {
   "cell_type": "code",
   "execution_count": 132,
   "id": "50953035",
   "metadata": {
    "ExecuteTime": {
     "end_time": "2023-09-04T19:19:07.428500400Z",
     "start_time": "2023-09-04T19:19:05.584342900Z"
    }
   },
   "outputs": [
    {
     "data": {
      "image/png": "[encoded data removed]",
      "text/plain": [
       "<Figure size 640x480 with 1 Axes>"
      ]
     },
     "metadata": {},
     "output_type": "display_data"
    }
   ],
   "source": [
    "taux_aliment_animaux = ((da_vege_cereales['Aliments pour animaux'].sum())*100)/ (da_vege_cereales['Disponibilité intérieure']*1000).sum()\n",
    "taux_aliment_humains = ((da_vege_cereales['Nourriture'].sum())*100)/ (da_vege_cereales['Disponibilité intérieure']*1000).sum()\n",
    "autres = 100-taux_aliment_animaux-taux_aliment_humains\n",
    "data = taux_aliment_animaux, taux_aliment_humains, autres\n",
    "labels = \"Animal feed\", \"Human food\", \"Others\"\n",
    "\n",
    "plt.pie(x=data, labels = labels, wedgeprops=dict(width=0.7) ,autopct='%1.1f%%',pctdistance=.7)\n",
    "plt.suptitle(\"Share of use of main cereals\")\n",
    "plt.show()"
   ]
  },
  {
   "cell_type": "markdown",
   "id": "70549bd1",
   "metadata": {},
   "source": [
    "<div style=\"border: 1px solid RGB(0,150,250);\" >\n",
    "<h3 style=\"margin: auto; padding: 20px; color: RGB(0,150,250); \">3.6 - Countries with the highest proportion of undernourished people in 2017</h3>\n",
    "</div>"
   ]
  },
  {
   "cell_type": "code",
   "execution_count": 133,
   "id": "1884c270",
   "metadata": {
    "ExecuteTime": {
     "end_time": "2023-09-04T19:19:08.577339900Z",
     "start_time": "2023-09-04T19:19:08.409174300Z"
    }
   },
   "outputs": [],
   "source": [
    "#Create proportion by country column\n",
    "\n",
    "pop_sn = pd.merge(pop, sn, on=\"Zone\")\n",
    "pop_sn.drop([\"Année_x\"], axis=1,inplace = True)\n",
    "pop_sn.rename(columns = {\"Année_y\":\"Année\"}, inplace = True)\n",
    "pop_sn[\"Proportion\"] = round((pop_sn[\"sous_nutrition\"]*100)/pop_sn[\"Population\"],2)\n"
   ]
  },
  {
   "cell_type": "code",
   "execution_count": 134,
   "id": "25a185b6",
   "metadata": {
    "ExecuteTime": {
     "end_time": "2023-09-04T19:19:09.867552500Z",
     "start_time": "2023-09-04T19:19:08.442711500Z"
    }
   },
   "outputs": [
    {
     "data": {
      "image/png": "[encoded data removed]",
      "text/plain": [
       "<Figure size 640x480 with 1 Axes>"
      ]
     },
     "metadata": {},
     "output_type": "display_data"
    }
   ],
   "source": [
    "#Display after sorting the 10 worst countries\n",
    "\n",
    "\n",
    "\n",
    "pop_sn.sort_values(by = \"Proportion\", ascending = False, inplace = True)\n",
    "pop_sn.replace(\"République populaire démocratique de Corée\",\"Corée du Nord\", inplace=True)\n",
    "\n",
    "data3 = pop_sn.head(10)\n",
    "\n",
    "plt.bar(height=data3[\"Proportion\"], x=data3[\"Zone\"],color = cm.rainbow(np.linspace(0, 1, len(data3))) )\n",
    "plt.suptitle(\"The 10 countries with the highest \", fontsize=14, color=\"black\")\n",
    "plt.title(\"proportion of underfeeding\", fontsize=14, color=\"black\")\n",
    "plt.xticks(rotation =60)\n",
    "plt.xlabel(\"Countries\", color=\"red\")\n",
    "plt.ylabel(\"Underfeed rate (%)\", color=\"red\")\n",
    "plt.grid(axis=\"y\")\n",
    "plt.ylim(0,100)\n",
    "\n",
    "\n",
    "plt.show()"
   ]
  },
  {
   "cell_type": "markdown",
   "id": "4f610008",
   "metadata": {},
   "source": [
    "<div style=\"border: 1px solid RGB(0,150,250);\" >\n",
    "<h3 style=\"margin: auto; padding: 20px; color: RGB(0,150,250); \">3.7 - Countries that have received the most food aid since 2013</h3>\n",
    "</div>"
   ]
  },
  {
   "cell_type": "code",
   "execution_count": 135,
   "id": "ff1b24a3",
   "metadata": {
    "ExecuteTime": {
     "end_time": "2023-09-04T19:19:09.903695Z",
     "start_time": "2023-09-04T19:19:09.847465500Z"
    }
   },
   "outputs": [],
   "source": [
    "aa.rename(columns = {\"Valeur\":\"Aide alimentaire en tonnes\"}, inplace = True)\n",
    "\n",
    "#total food aid by country\n",
    "aide = aa[['Zone','Aide alimentaire en tonnes']].groupby(\"Zone\").sum()\n",
    "\n"
   ]
  },
  {
   "cell_type": "code",
   "execution_count": 136,
   "id": "ee1ac6fb",
   "metadata": {
    "ExecuteTime": {
     "end_time": "2023-09-04T19:19:21.053876300Z",
     "start_time": "2023-09-04T19:19:09.869547700Z"
    }
   },
   "outputs": [
    {
     "data": {
      "text/html": [
       "<div>\n",
       "<style scoped>\n",
       "    .dataframe tbody tr th:only-of-type {\n",
       "        vertical-align: middle;\n",
       "    }\n",
       "\n",
       "    .dataframe tbody tr th {\n",
       "        vertical-align: top;\n",
       "    }\n",
       "\n",
       "    .dataframe thead th {\n",
       "        text-align: right;\n",
       "    }\n",
       "</style>\n",
       "<table border=\"1\" class=\"dataframe\">\n",
       "  <thead>\n",
       "    <tr style=\"text-align: right;\">\n",
       "      <th></th>\n",
       "      <th>Aide alimentaire en tonnes</th>\n",
       "    </tr>\n",
       "    <tr>\n",
       "      <th>Zone</th>\n",
       "      <th></th>\n",
       "    </tr>\n",
       "  </thead>\n",
       "  <tbody>\n",
       "    <tr>\n",
       "      <th>République arabe syrienne</th>\n",
       "      <td>1858943000</td>\n",
       "    </tr>\n",
       "    <tr>\n",
       "      <th>Éthiopie</th>\n",
       "      <td>1381294000</td>\n",
       "    </tr>\n",
       "    <tr>\n",
       "      <th>Yémen</th>\n",
       "      <td>1206484000</td>\n",
       "    </tr>\n",
       "    <tr>\n",
       "      <th>Soudan du Sud</th>\n",
       "      <td>695248000</td>\n",
       "    </tr>\n",
       "    <tr>\n",
       "      <th>Soudan</th>\n",
       "      <td>669784000</td>\n",
       "    </tr>\n",
       "    <tr>\n",
       "      <th>Kenya</th>\n",
       "      <td>552836000</td>\n",
       "    </tr>\n",
       "    <tr>\n",
       "      <th>Bangladesh</th>\n",
       "      <td>348188000</td>\n",
       "    </tr>\n",
       "    <tr>\n",
       "      <th>Somalie</th>\n",
       "      <td>292678000</td>\n",
       "    </tr>\n",
       "    <tr>\n",
       "      <th>République démocratique du Congo</th>\n",
       "      <td>288502000</td>\n",
       "    </tr>\n",
       "    <tr>\n",
       "      <th>Niger</th>\n",
       "      <td>276344000</td>\n",
       "    </tr>\n",
       "  </tbody>\n",
       "</table>\n",
       "</div>"
      ],
      "text/plain": [
       "                                  Aide alimentaire en tonnes\n",
       "Zone                                                        \n",
       "République arabe syrienne                         1858943000\n",
       "Éthiopie                                          1381294000\n",
       "Yémen                                             1206484000\n",
       "Soudan du Sud                                      695248000\n",
       "Soudan                                             669784000\n",
       "Kenya                                              552836000\n",
       "Bangladesh                                         348188000\n",
       "Somalie                                            292678000\n",
       "République démocratique du Congo                   288502000\n",
       "Niger                                              276344000"
      ]
     },
     "execution_count": 136,
     "metadata": {},
     "output_type": "execute_result"
    }
   ],
   "source": [
    "#Display after sorting the 10 countries that benefited most from food aid\n",
    "aide.sort_values(by=\"Aide alimentaire en tonnes\", ascending=False).head(10)"
   ]
  },
  {
   "cell_type": "markdown",
   "id": "a361ce61",
   "metadata": {},
   "source": [
    "<div style=\"border: 1px solid RGB(0,150,250);\" >\n",
    "<h3 style=\"margin: auto; padding: 20px; color: RGB(0,150,250); \">3.8 - Evolution of the 5 countries that benefited most from food aid between 2013 and 2016</h3>\n",
    "</div>"
   ]
  },
  {
   "cell_type": "code",
   "execution_count": 137,
   "id": "09d55114",
   "metadata": {
    "ExecuteTime": {
     "start_time": "2023-09-04T19:19:21.074819700Z"
    }
   },
   "outputs": [],
   "source": [
    "#Create a dataframe with zone, year and food aid, then groupby on zone and year. \n",
    "aa.drop([\"Produit\"], axis=1, inplace= True)\n",
    "aa = aa.groupby([\"Zone\", \"Année\"]).sum(\"Aide alimentaire en tonnes\")\n"
   ]
  },
  {
   "cell_type": "code",
   "execution_count": 138,
   "id": "6bd577b0",
   "metadata": {
    "ExecuteTime": {
     "start_time": "2023-09-04T19:19:21.078809600Z"
    }
   },
   "outputs": [],
   "source": [
    "#Create a list of the 5 countries that have benefited most from food aid\n",
    "aa_top5 = aa.groupby(\"Zone\").sum(\"Aide alimentaire en tonnes\")\n",
    "aa_top5.sort_values(by = \"Aide alimentaire en tonnes\", ascending = False, inplace = True)\n",
    "aa_top5 = aa_top5.head(5)\n",
    "aa_top5.reset_index(level=None, inplace=True)\n",
    "aa.reset_index(inplace=True)"
   ]
  },
  {
   "cell_type": "code",
   "execution_count": 139,
   "id": "41612dbd",
   "metadata": {
    "ExecuteTime": {
     "start_time": "2023-09-04T19:19:21.089794600Z"
    }
   },
   "outputs": [],
   "source": [
    "#We filter the dataframe with our list\n",
    "liste_aa_top5 = aa_top5[\"Zone\"].tolist() \n",
    "aa=aa[aa.Zone.isin(liste_aa_top5)]\n"
   ]
  },
  {
   "cell_type": "code",
   "execution_count": 140,
   "id": "5680e72d",
   "metadata": {
    "ExecuteTime": {
     "start_time": "2023-09-04T19:19:21.099753100Z"
    }
   },
   "outputs": [
    {
     "name": "stdout",
     "output_type": "stream",
     "text": [
      "Here is the list of countries with their food aid per year (in millions of tons)\n"
     ]
    },
    {
     "data": {
      "text/html": [
       "<div>\n",
       "<style scoped>\n",
       "    .dataframe tbody tr th:only-of-type {\n",
       "        vertical-align: middle;\n",
       "    }\n",
       "\n",
       "    .dataframe tbody tr th {\n",
       "        vertical-align: top;\n",
       "    }\n",
       "\n",
       "    .dataframe thead th {\n",
       "        text-align: right;\n",
       "    }\n",
       "</style>\n",
       "<table border=\"1\" class=\"dataframe\">\n",
       "  <thead>\n",
       "    <tr style=\"text-align: right;\">\n",
       "      <th></th>\n",
       "      <th></th>\n",
       "      <th>Aide alimentaire en tonnes</th>\n",
       "    </tr>\n",
       "    <tr>\n",
       "      <th>Zone</th>\n",
       "      <th>Année</th>\n",
       "      <th></th>\n",
       "    </tr>\n",
       "  </thead>\n",
       "  <tbody>\n",
       "    <tr>\n",
       "      <th rowspan=\"4\" valign=\"top\">République arabe syrienne</th>\n",
       "      <th>2013</th>\n",
       "      <td>563566000</td>\n",
       "    </tr>\n",
       "    <tr>\n",
       "      <th>2014</th>\n",
       "      <td>651870000</td>\n",
       "    </tr>\n",
       "    <tr>\n",
       "      <th>2015</th>\n",
       "      <td>524949000</td>\n",
       "    </tr>\n",
       "    <tr>\n",
       "      <th>2016</th>\n",
       "      <td>118558000</td>\n",
       "    </tr>\n",
       "    <tr>\n",
       "      <th rowspan=\"3\" valign=\"top\">Soudan</th>\n",
       "      <th>2013</th>\n",
       "      <td>330230000</td>\n",
       "    </tr>\n",
       "    <tr>\n",
       "      <th>2014</th>\n",
       "      <td>321904000</td>\n",
       "    </tr>\n",
       "    <tr>\n",
       "      <th>2015</th>\n",
       "      <td>17650000</td>\n",
       "    </tr>\n",
       "    <tr>\n",
       "      <th rowspan=\"3\" valign=\"top\">Soudan du Sud</th>\n",
       "      <th>2013</th>\n",
       "      <td>196330000</td>\n",
       "    </tr>\n",
       "    <tr>\n",
       "      <th>2014</th>\n",
       "      <td>450610000</td>\n",
       "    </tr>\n",
       "    <tr>\n",
       "      <th>2015</th>\n",
       "      <td>48308000</td>\n",
       "    </tr>\n",
       "    <tr>\n",
       "      <th rowspan=\"4\" valign=\"top\">Yémen</th>\n",
       "      <th>2013</th>\n",
       "      <td>264764000</td>\n",
       "    </tr>\n",
       "    <tr>\n",
       "      <th>2014</th>\n",
       "      <td>103840000</td>\n",
       "    </tr>\n",
       "    <tr>\n",
       "      <th>2015</th>\n",
       "      <td>372306000</td>\n",
       "    </tr>\n",
       "    <tr>\n",
       "      <th>2016</th>\n",
       "      <td>465574000</td>\n",
       "    </tr>\n",
       "    <tr>\n",
       "      <th rowspan=\"3\" valign=\"top\">Éthiopie</th>\n",
       "      <th>2013</th>\n",
       "      <td>591404000</td>\n",
       "    </tr>\n",
       "    <tr>\n",
       "      <th>2014</th>\n",
       "      <td>586624000</td>\n",
       "    </tr>\n",
       "    <tr>\n",
       "      <th>2015</th>\n",
       "      <td>203266000</td>\n",
       "    </tr>\n",
       "  </tbody>\n",
       "</table>\n",
       "</div>"
      ],
      "text/plain": [
       "                                 Aide alimentaire en tonnes\n",
       "Zone                      Année                            \n",
       "République arabe syrienne 2013                    563566000\n",
       "                          2014                    651870000\n",
       "                          2015                    524949000\n",
       "                          2016                    118558000\n",
       "Soudan                    2013                    330230000\n",
       "                          2014                    321904000\n",
       "                          2015                     17650000\n",
       "Soudan du Sud             2013                    196330000\n",
       "                          2014                    450610000\n",
       "                          2015                     48308000\n",
       "Yémen                     2013                    264764000\n",
       "                          2014                    103840000\n",
       "                          2015                    372306000\n",
       "                          2016                    465574000\n",
       "Éthiopie                  2013                    591404000\n",
       "                          2014                    586624000\n",
       "                          2015                    203266000"
      ]
     },
     "execution_count": 140,
     "metadata": {},
     "output_type": "execute_result"
    }
   ],
   "source": [
    "# Display of countries with food aid by year\n",
    "print(\"Here is the list of countries with their food aid per year (in millions of tons)\")\n",
    "aa = aa.groupby([\"Zone\", \"Année\"]).sum(\"Aide alimentaire en tonnes\")\n",
    "aa[\"Aide alimentaire en tonnes\"]=round(aa[\"Aide alimentaire en tonnes\"],2)\n",
    "aa"
   ]
  },
  {
   "cell_type": "code",
   "execution_count": 141,
   "id": "53d77101",
   "metadata": {},
   "outputs": [
    {
     "data": {
      "image/png": "[encoded data removed]",
      "text/plain": [
       "<Figure size 640x480 with 1 Axes>"
      ]
     },
     "metadata": {},
     "output_type": "display_data"
    }
   ],
   "source": [
    "\n",
    "evolution_aa = aa.groupby(\"Année\").sum(\"Aide alimentaire en tonnes\")\n",
    "plt.bar((\"2013\",\"2014\",\"2015\",\"2016\"), evolution_aa[\"Aide alimentaire en tonnes\"], color = cm.rainbow(np.linspace(0, 1, len(evolution_aa))))\n",
    "\n",
    "plt.suptitle(\"Food aid trends for the 5 countries\")\n",
    "plt.title(\"who benefited most between 2013 and 2016\")\n",
    "plt.grid(axis=\"y\")\n",
    "plt.xlabel('Year')\n",
    "plt.ylabel('Millions of Tons')\n",
    "\n",
    "plt.show()"
   ]
  },
  {
   "cell_type": "markdown",
   "id": "bd392dac",
   "metadata": {},
   "source": [
    "<div style=\"border: 1px solid RGB(0,150,250);\" >\n",
    "<h3 style=\"margin: auto; padding: 20px; color: RGB(0,150,250); \">3.9 - Countries with the lowest availability per capita</h3>\n",
    "</div>"
   ]
  },
  {
   "cell_type": "code",
   "execution_count": 142,
   "id": "fb3a378b",
   "metadata": {
    "ExecuteTime": {
     "start_time": "2023-09-04T19:19:21.103742800Z"
    }
   },
   "outputs": [
    {
     "data": {
      "text/html": [
       "<div>\n",
       "<style scoped>\n",
       "    .dataframe tbody tr th:only-of-type {\n",
       "        vertical-align: middle;\n",
       "    }\n",
       "\n",
       "    .dataframe tbody tr th {\n",
       "        vertical-align: top;\n",
       "    }\n",
       "\n",
       "    .dataframe thead th {\n",
       "        text-align: right;\n",
       "    }\n",
       "</style>\n",
       "<table border=\"1\" class=\"dataframe\">\n",
       "  <thead>\n",
       "    <tr style=\"text-align: right;\">\n",
       "      <th></th>\n",
       "      <th>Aliments pour animaux</th>\n",
       "      <th>Autres Utilisations</th>\n",
       "      <th>Disponibilité alimentaire (Kcal/personne/jour)</th>\n",
       "      <th>Disponibilité alimentaire en quantité (kg/personne/an)</th>\n",
       "      <th>Disponibilité de matière grasse en quantité (g/personne/jour)</th>\n",
       "      <th>Disponibilité de protéines en quantité (g/personne/jour)</th>\n",
       "      <th>Disponibilité intérieure</th>\n",
       "      <th>Exportations - Quantité</th>\n",
       "      <th>Importations - Quantité</th>\n",
       "      <th>Nourriture</th>\n",
       "      <th>Pertes</th>\n",
       "      <th>Production</th>\n",
       "      <th>Semences</th>\n",
       "      <th>Traitement</th>\n",
       "      <th>Variation de stock</th>\n",
       "    </tr>\n",
       "    <tr>\n",
       "      <th>Zone</th>\n",
       "      <th></th>\n",
       "      <th></th>\n",
       "      <th></th>\n",
       "      <th></th>\n",
       "      <th></th>\n",
       "      <th></th>\n",
       "      <th></th>\n",
       "      <th></th>\n",
       "      <th></th>\n",
       "      <th></th>\n",
       "      <th></th>\n",
       "      <th></th>\n",
       "      <th></th>\n",
       "      <th></th>\n",
       "      <th></th>\n",
       "    </tr>\n",
       "  </thead>\n",
       "  <tbody>\n",
       "    <tr>\n",
       "      <th>Afghanistan</th>\n",
       "      <td>768000.0</td>\n",
       "      <td>415000.0</td>\n",
       "      <td>2087.0</td>\n",
       "      <td>351.41</td>\n",
       "      <td>33.50</td>\n",
       "      <td>58.26</td>\n",
       "      <td>13515.0</td>\n",
       "      <td>278000.0</td>\n",
       "      <td>2988000.0</td>\n",
       "      <td>10735000.0</td>\n",
       "      <td>1135000.0</td>\n",
       "      <td>11171000.0</td>\n",
       "      <td>395000.0</td>\n",
       "      <td>63000.0</td>\n",
       "      <td>-368000.0</td>\n",
       "    </tr>\n",
       "    <tr>\n",
       "      <th>Afrique du Sud</th>\n",
       "      <td>5309000.0</td>\n",
       "      <td>876000.0</td>\n",
       "      <td>3020.0</td>\n",
       "      <td>564.80</td>\n",
       "      <td>83.58</td>\n",
       "      <td>85.33</td>\n",
       "      <td>61256.0</td>\n",
       "      <td>11674000.0</td>\n",
       "      <td>7517000.0</td>\n",
       "      <td>29812000.0</td>\n",
       "      <td>2193000.0</td>\n",
       "      <td>63263000.0</td>\n",
       "      <td>253000.0</td>\n",
       "      <td>22819000.0</td>\n",
       "      <td>2153000.0</td>\n",
       "    </tr>\n",
       "    <tr>\n",
       "      <th>Albanie</th>\n",
       "      <td>660000.0</td>\n",
       "      <td>174000.0</td>\n",
       "      <td>3188.0</td>\n",
       "      <td>1095.54</td>\n",
       "      <td>106.48</td>\n",
       "      <td>111.37</td>\n",
       "      <td>4758.0</td>\n",
       "      <td>94000.0</td>\n",
       "      <td>933000.0</td>\n",
       "      <td>3476000.0</td>\n",
       "      <td>276000.0</td>\n",
       "      <td>3964000.0</td>\n",
       "      <td>55000.0</td>\n",
       "      <td>113000.0</td>\n",
       "      <td>-45000.0</td>\n",
       "    </tr>\n",
       "    <tr>\n",
       "      <th>Algérie</th>\n",
       "      <td>4352000.0</td>\n",
       "      <td>1707000.0</td>\n",
       "      <td>3293.0</td>\n",
       "      <td>809.13</td>\n",
       "      <td>76.48</td>\n",
       "      <td>91.92</td>\n",
       "      <td>42630.0</td>\n",
       "      <td>655000.0</td>\n",
       "      <td>17403000.0</td>\n",
       "      <td>31729000.0</td>\n",
       "      <td>3753000.0</td>\n",
       "      <td>26359000.0</td>\n",
       "      <td>449000.0</td>\n",
       "      <td>637000.0</td>\n",
       "      <td>-479000.0</td>\n",
       "    </tr>\n",
       "    <tr>\n",
       "      <th>Allemagne</th>\n",
       "      <td>30209000.0</td>\n",
       "      <td>7711000.0</td>\n",
       "      <td>3503.0</td>\n",
       "      <td>957.52</td>\n",
       "      <td>141.62</td>\n",
       "      <td>101.39</td>\n",
       "      <td>162275.0</td>\n",
       "      <td>57431000.0</td>\n",
       "      <td>65353000.0</td>\n",
       "      <td>79238000.0</td>\n",
       "      <td>3781000.0</td>\n",
       "      <td>154547000.0</td>\n",
       "      <td>1551000.0</td>\n",
       "      <td>39842000.0</td>\n",
       "      <td>-192000.0</td>\n",
       "    </tr>\n",
       "  </tbody>\n",
       "</table>\n",
       "</div>"
      ],
      "text/plain": [
       "                Aliments pour animaux  Autres Utilisations  \\\n",
       "Zone                                                         \n",
       "Afghanistan                  768000.0             415000.0   \n",
       "Afrique du Sud              5309000.0             876000.0   \n",
       "Albanie                      660000.0             174000.0   \n",
       "Algérie                     4352000.0            1707000.0   \n",
       "Allemagne                  30209000.0            7711000.0   \n",
       "\n",
       "                Disponibilité alimentaire (Kcal/personne/jour)  \\\n",
       "Zone                                                             \n",
       "Afghanistan                                             2087.0   \n",
       "Afrique du Sud                                          3020.0   \n",
       "Albanie                                                 3188.0   \n",
       "Algérie                                                 3293.0   \n",
       "Allemagne                                               3503.0   \n",
       "\n",
       "                Disponibilité alimentaire en quantité (kg/personne/an)  \\\n",
       "Zone                                                                     \n",
       "Afghanistan                                                351.41        \n",
       "Afrique du Sud                                             564.80        \n",
       "Albanie                                                   1095.54        \n",
       "Algérie                                                    809.13        \n",
       "Allemagne                                                  957.52        \n",
       "\n",
       "                Disponibilité de matière grasse en quantité (g/personne/jour)  \\\n",
       "Zone                                                                            \n",
       "Afghanistan                                                 33.50               \n",
       "Afrique du Sud                                              83.58               \n",
       "Albanie                                                    106.48               \n",
       "Algérie                                                     76.48               \n",
       "Allemagne                                                  141.62               \n",
       "\n",
       "                Disponibilité de protéines en quantité (g/personne/jour)  \\\n",
       "Zone                                                                       \n",
       "Afghanistan                                                 58.26          \n",
       "Afrique du Sud                                              85.33          \n",
       "Albanie                                                    111.37          \n",
       "Algérie                                                     91.92          \n",
       "Allemagne                                                  101.39          \n",
       "\n",
       "                Disponibilité intérieure  Exportations - Quantité  \\\n",
       "Zone                                                                \n",
       "Afghanistan                      13515.0                 278000.0   \n",
       "Afrique du Sud                   61256.0               11674000.0   \n",
       "Albanie                           4758.0                  94000.0   \n",
       "Algérie                          42630.0                 655000.0   \n",
       "Allemagne                       162275.0               57431000.0   \n",
       "\n",
       "                Importations - Quantité  Nourriture     Pertes   Production  \\\n",
       "Zone                                                                          \n",
       "Afghanistan                   2988000.0  10735000.0  1135000.0   11171000.0   \n",
       "Afrique du Sud                7517000.0  29812000.0  2193000.0   63263000.0   \n",
       "Albanie                        933000.0   3476000.0   276000.0    3964000.0   \n",
       "Algérie                      17403000.0  31729000.0  3753000.0   26359000.0   \n",
       "Allemagne                    65353000.0  79238000.0  3781000.0  154547000.0   \n",
       "\n",
       "                 Semences  Traitement  Variation de stock  \n",
       "Zone                                                       \n",
       "Afghanistan      395000.0     63000.0           -368000.0  \n",
       "Afrique du Sud   253000.0  22819000.0           2153000.0  \n",
       "Albanie           55000.0    113000.0            -45000.0  \n",
       "Algérie          449000.0    637000.0           -479000.0  \n",
       "Allemagne       1551000.0  39842000.0           -192000.0  "
      ]
     },
     "execution_count": 142,
     "metadata": {},
     "output_type": "execute_result"
    }
   ],
   "source": [
    "#Calculating availability in kcal per person per day per country\n",
    "da_par_zone = da.groupby(\"Zone\").sum(\"Disponibilité alimentaire (Kcal/personne/jour\")\n",
    "da_par_zone.head()\n",
    "\n"
   ]
  },
  {
   "cell_type": "code",
   "execution_count": 143,
   "id": "70c0f689",
   "metadata": {
    "ExecuteTime": {
     "start_time": "2023-09-04T19:19:21.109727200Z"
    }
   },
   "outputs": [
    {
     "name": "stderr",
     "output_type": "stream",
     "text": [
      "/var/folders/ys/x9zrppb9483b7ncwjcb1t25m0000gn/T/ipykernel_80289/434188866.py:7: SettingWithCopyWarning: \n",
      "A value is trying to be set on a copy of a slice from a DataFrame\n",
      "\n",
      "See the caveats in the documentation: https://pandas.pydata.org/pandas-docs/stable/user_guide/indexing.html#returning-a-view-versus-a-copy\n",
      "  da_par_zone_low10.replace('République populaire démocratique de Corée','Corée du Nord',inplace=True)\n"
     ]
    },
    {
     "data": {
      "image/png": "[encoded data removed]",
      "text/plain": [
       "<Figure size 640x480 with 1 Axes>"
      ]
     },
     "metadata": {},
     "output_type": "display_data"
    }
   ],
   "source": [
    "#Display of the 10 countries with the lowest food availability per capita \n",
    "da_par_zone.sort_values(by = \"Disponibilité alimentaire (Kcal/personne/jour)\", ascending = True, inplace = True)\n",
    "\n",
    "\n",
    "da_par_zone_low10 = da_par_zone.head(10)\n",
    "da_par_zone_low10.reset_index(inplace=True)\n",
    "da_par_zone_low10.replace('République populaire démocratique de Corée','Corée du Nord',inplace=True)\n",
    "\n",
    "\n",
    "plt.barh(y = da_par_zone_low10[\"Zone\"], width = da_par_zone_low10[\"Disponibilité alimentaire (Kcal/personne/jour)\"], color = cm.rainbow(np.linspace(0, 1, len(da_par_zone_low10))))\n",
    "\n",
    "plt.suptitle(\"List of the 10 countries with the lowest\")\n",
    "plt.title(\"per capita food availability\")\n",
    "plt.grid(axis=\"x\")\n",
    "plt.xlabel('Avail Kcal/people/day')\n",
    "plt.ylabel('Countries')\n",
    "plt.show()\n"
   ]
  },
  {
   "cell_type": "markdown",
   "id": "2553ed12",
   "metadata": {},
   "source": [
    "<div style=\"border: 1px solid RGB(0,150,250);\" >\n",
    "<h3 style=\"margin: auto; padding: 20px; color: RGB(0,150,250); \">3.10 - Countries with the highest availability per capita</h3>\n",
    "</div>"
   ]
  },
  {
   "cell_type": "code",
   "execution_count": 144,
   "id": "63e835c6",
   "metadata": {
    "ExecuteTime": {
     "start_time": "2023-09-04T19:19:21.118703Z"
    }
   },
   "outputs": [
    {
     "data": {
      "image/png": "[encoded data removed]",
      "text/plain": [
       "<Figure size 640x480 with 1 Axes>"
      ]
     },
     "metadata": {},
     "output_type": "display_data"
    }
   ],
   "source": [
    "#Display of the 10 countries with the most food available per person \n",
    "\n",
    "\n",
    "da_par_zone = da_par_zone.loc[:,[\"Disponibilité alimentaire (Kcal/personne/jour)\"]]\n",
    "da_par_zone.sort_values(by = \"Disponibilité alimentaire (Kcal/personne/jour)\", ascending = False, inplace = True)\n",
    "da_par_zone_top10 = da_par_zone.head(10)\n",
    "da_par_zone_top10.head(10)\n",
    "da_par_zone_top10.reset_index(inplace=True)\n",
    "\n",
    "plt.barh(y = da_par_zone_top10[\"Zone\"], width = da_par_zone_top10[\"Disponibilité alimentaire (Kcal/personne/jour)\"], color = cm.rainbow(np.linspace(0, 1, len(da_par_zone_low10))))\n",
    "\n",
    "plt.suptitle(\"List of the 10 countries with the highest\")\n",
    "plt.title(\"per capita food availability\")\n",
    "plt.grid(axis=\"x\")\n",
    "plt.xlabel('Avail Kcal/people/day')\n",
    "plt.ylabel('Countries')\n",
    "plt.show()\n"
   ]
  },
  {
   "cell_type": "markdown",
   "id": "58d7248b",
   "metadata": {},
   "source": [
    "<div style=\"border: 1px solid RGB(0,150,250);\" >\n",
    "<h3 style=\"margin: auto; padding: 20px; color: RGB(0,150,250); \">3.11 - Example of Thailand for cassava</h3>\n",
    "</div>"
   ]
  },
  {
   "cell_type": "code",
   "execution_count": 145,
   "id": "ec9ca912",
   "metadata": {
    "ExecuteTime": {
     "start_time": "2023-09-04T19:19:21.124686900Z"
    }
   },
   "outputs": [
    {
     "name": "stderr",
     "output_type": "stream",
     "text": [
      "/var/folders/ys/x9zrppb9483b7ncwjcb1t25m0000gn/T/ipykernel_80289/4158926557.py:5: SettingWithCopyWarning: \n",
      "A value is trying to be set on a copy of a slice from a DataFrame.\n",
      "Try using .loc[row_indexer,col_indexer] = value instead\n",
      "\n",
      "See the caveats in the documentation: https://pandas.pydata.org/pandas-docs/stable/user_guide/indexing.html#returning-a-view-versus-a-copy\n",
      "  pop_thailande[\"Année\"] = pd.to_numeric(pop_thailande[\"Année\"], errors='coerce')\n",
      "/var/folders/ys/x9zrppb9483b7ncwjcb1t25m0000gn/T/ipykernel_80289/4158926557.py:6: SettingWithCopyWarning: \n",
      "A value is trying to be set on a copy of a slice from a DataFrame.\n",
      "Try using .loc[row_indexer,col_indexer] = value instead\n",
      "\n",
      "See the caveats in the documentation: https://pandas.pydata.org/pandas-docs/stable/user_guide/indexing.html#returning-a-view-versus-a-copy\n",
      "  sn_thailande[\"Année\"] = pd.to_numeric(sn_thailande[\"Année\"], errors='coerce')\n"
     ]
    }
   ],
   "source": [
    "#creation of a dataframe with Thailand only \n",
    "da_thailande = da[da[\"Zone\"]==\"Thaïlande\"]\n",
    "sn_thailande = sn[sn[\"Zone\"]==\"Thaïlande\"]\n",
    "pop_thailande = pop[pop[\"Zone\"]==\"Thaïlande\"]\n",
    "pop_thailande[\"Année\"] = pd.to_numeric(pop_thailande[\"Année\"], errors='coerce')\n",
    "sn_thailande[\"Année\"] = pd.to_numeric(sn_thailande[\"Année\"], errors='coerce')\n",
    "thailande = pd.merge(pop_thailande, sn_thailande,on=\"Année\")\n",
    "thailande.drop([\"Zone_y\"],axis=1,inplace = True)\n",
    "thailande.rename(columns = {\"Zone_x\" : \"Pays\"},inplace=True)"
   ]
  },
  {
   "cell_type": "code",
   "execution_count": 146,
   "id": "85693912",
   "metadata": {
    "ExecuteTime": {
     "start_time": "2023-09-04T19:19:21.130325700Z"
    }
   },
   "outputs": [
    {
     "data": {
      "image/png": "[encoded data removed]",
      "text/plain": [
       "<Figure size 640x480 with 1 Axes>"
      ]
     },
     "metadata": {},
     "output_type": "display_data"
    }
   ],
   "source": [
    "#Calculating undernutrition in Thailand\n",
    "\n",
    "\n",
    "taux_sn_thai_pop = thailande[\"sous_nutrition\"].sum(), (thailande[\"Population\"].sum()-thailande[\"sous_nutrition\"].sum())\n",
    "labels_sn_thai_pop = \"Undernutrition\", \"Rest of the population\" \n",
    "\n",
    "plt.pie(x=taux_sn_thai_pop,explode=explode, labels=labels_sn_thai_pop, autopct='%1.1f%%', shadow=True)\n",
    "plt.title(\"Undernutrition rates in Thailand\")\n",
    "\n",
    "plt.show()\n"
   ]
  }
 ],
 "metadata": {
  "celltoolbar": "Tags",
  "kernelspec": {
   "display_name": "Python 3 (ipykernel)",
   "language": "python",
   "name": "python3"
  },
  "language_info": {
   "codemirror_mode": {
    "name": "ipython",
    "version": 3
   },
   "file_extension": ".py",
   "mimetype": "text/x-python",
   "name": "python",
   "nbconvert_exporter": "python",
   "pygments_lexer": "ipython3",
   "version": "3.8.18"
  }
 },
 "nbformat": 4,
 "nbformat_minor": 5
}
