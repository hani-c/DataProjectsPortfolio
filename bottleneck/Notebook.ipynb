{
 "cells": [
  {
   "cell_type": "markdown",
   "id": "e1ad4890",
   "metadata": {},
   "source": [
    "<div style=\" background-color: RGB(155,34,66);\" >\n",
    "<h1 style=\"margin: auto; padding: 20px 0; color:#fff; text-align: center\">PROJET DATA ANALYST</h1>\n",
    "<h2 style=\"margin: auto; padding: 20px 0; color:#fff; text-align: center\">Organize store data management\n",
    "</h2>\n",
    "</div>"
   ]
  },
  {
   "cell_type": "markdown",
   "id": "e8c9841f",
   "metadata": {},
   "source": [
    "### Summary :\n",
    "\n",
    "<a href=\"#C1\">**Part 1: Importing libraries and loading files**\n",
    " - <a href=\"#C2\">Importing libraries</a>\n",
    " - <a href=\"#C3\">Importing excel files</a>\n",
    " \n",
    "<a href=\"#C4\">**Part 2: Exploratory file analysis**\n",
    " - <a href=\"#C5\">Exploratory analysis of the ERP file</a>\n",
    " - <a href=\"#C6\">Exploratory analysis of the WEB file</a>\n",
    " - <a href=\"#C7\">Exploratory analysis of the LIAISON file</a>\n",
    " \n",
    "<a href=\"#C8\">**Part 3: Merging dataframes**\n",
    " \n",
    "<a href=\"#C9\">**Part 4: Calculating sales by product**\n",
    "\n",
    "<a href=\"#C10\">**Part 5: Analysis of variables**\n",
    " - <a href=\"#C11\">Mode, Average, Median</a>\n",
    " - <a href=\"#C12\">Variance, standard deviation, interquartile range</a>\n",
    " - <a href=\"#C13\">Skewness</a>\n",
    " - <a href=\"#C14\">Lorenz curve and Gini index</a>\n",
    " - <a href=\"#C15\">Z-score</a>\n",
    " - <a href=\"#C16\">Sort by category</a>\n",
    " \n",
    "<a href=\"#C17\">**Part 6: Correlation between two quantitative variables**\n",
    " - <a href=\"#C18\">Scatter diagram</a>"
   ]
  },
  {
   "cell_type": "markdown",
   "id": "ef110658",
   "metadata": {},
   "source": [
    "<a name=\"C1\">\n",
    "<div style=\"background-color: RGB(155,34,66);\" >\n",
    "<h2 style=\"margin: auto; padding: 20px; color:#fff; \">Step 1 - Importing libraries and loading files</h2>\n",
    "</div>"
   ]
  },
  {
   "cell_type": "markdown",
   "id": "638eaf4c",
   "metadata": {},
   "source": [
    "<a name=\"C2\">\n",
    "<div style=\"border: 1px solid RGB(155,34,66));\" >\n",
    "<h3 style=\"margin: auto; padding: 20px; color: RGB(155,34,66); \">1.1 - Importing libraries</h3>\n",
    "</div>"
   ]
  },
  {
   "cell_type": "code",
   "execution_count": 1,
   "id": "add8661a",
   "metadata": {},
   "outputs": [],
   "source": [
    "import pandas as pd\n",
    "import numpy as np\n",
    "import matplotlib.pyplot as plt\n",
    "import seaborn as sns\n",
    "import datetime as dt\n",
    "import scipy.stats as st\n",
    "import statsmodels.api as sm"
   ]
  },
  {
   "cell_type": "markdown",
   "id": "d7bd5a4e",
   "metadata": {},
   "source": [
    "<a name=\"C3\">\n",
    "<div style=\"border: 1px solid RGB(155,34,66);\" >\n",
    "<h3 style=\"margin: auto; padding: 20px; color: RGB(155,34,66); \">1.2 - Importing Excel files</h3>\n",
    "</div>"
   ]
  },
  {
   "cell_type": "code",
   "execution_count": null,
   "id": "b92029b2",
   "metadata": {},
   "outputs": [],
   "source": [
    "#Importation file erp.xlsx\n",
    "df_erp = pd.read_excel('erp.xlsx')\n",
    "\n",
    "#Importation file web.xlsx\n",
    "df_web = pd.read_excel('web.xlsx')\n",
    "\n",
    "#Importation file liaison.xlsx\n",
    "df_liaison = pd.read_excel('liaison.xlsx')"
   ]
  },
  {
   "cell_type": "code",
   "execution_count": 3,
   "id": "b26726e1",
   "metadata": {},
   "outputs": [],
   "source": [
    "#NaN and duplicate cleaning function\n",
    "def nettoyage_df(df, column1, column2):\n",
    "    print(\"df initial size:\", df.shape)\n",
    "    \n",
    "    if df[column1].duplicated().sum() > 0 :\n",
    "        print(\"There are\",df[column1].duplicated().sum(),\"duplicates, eliminating duplicates\")\n",
    "    else:\n",
    "        print(\"No duplicates\")\n",
    "        \n",
    "    if df[column2].isna().sum() > 0 :\n",
    "        print(\"there are\",df[column2].isnull().sum(),\"NaN values, eliminating NaN\")\n",
    "    else :\n",
    "        print(\"No NaN values\")\n",
    "        \n",
    "    if df[column1].duplicated().sum() > 0 :\n",
    "        df.drop_duplicates(inplace=True, ignore_index=True)\n",
    "        \n",
    "    if df[column2].isnull().sum() > 0 :\n",
    "        df.dropna(inplace=True)\n",
    "        \n",
    "    print(\"New size df :\",df.shape)"
   ]
  },
  {
   "cell_type": "markdown",
   "id": "6748cfaa",
   "metadata": {},
   "source": [
    "<a name=\"C4\">\n",
    "<div style=\"background-color: RGB(155,34,66);\" >\n",
    "<h2 style=\"margin: auto; padding: 20px; color:#fff; \">Step 2 - Exploratory file analysis</h2>\n",
    "</div>"
   ]
  },
  {
   "cell_type": "markdown",
   "id": "01d69707",
   "metadata": {},
   "source": [
    "<a name=\"C5\">\n",
    "<div style=\"border: 1px solid RGB(155,34,66);\" >\n",
    "<h3 style=\"margin: auto; padding: 20px; color: RGB(155,34,66); \">2.1 - Exploratory analysis file ERP</h3>\n",
    "</div>"
   ]
  },
  {
   "cell_type": "code",
   "execution_count": 4,
   "id": "22c6625c",
   "metadata": {
    "scrolled": true
   },
   "outputs": [
    {
     "data": {
      "text/html": [
       "<div>\n",
       "<style scoped>\n",
       "    .dataframe tbody tr th:only-of-type {\n",
       "        vertical-align: middle;\n",
       "    }\n",
       "\n",
       "    .dataframe tbody tr th {\n",
       "        vertical-align: top;\n",
       "    }\n",
       "\n",
       "    .dataframe thead th {\n",
       "        text-align: right;\n",
       "    }\n",
       "</style>\n",
       "<table border=\"1\" class=\"dataframe\">\n",
       "  <thead>\n",
       "    <tr style=\"text-align: right;\">\n",
       "      <th></th>\n",
       "      <th>product_id</th>\n",
       "      <th>onsale_web</th>\n",
       "      <th>price</th>\n",
       "      <th>stock_quantity</th>\n",
       "      <th>stock_status</th>\n",
       "    </tr>\n",
       "  </thead>\n",
       "  <tbody>\n",
       "    <tr>\n",
       "      <th>0</th>\n",
       "      <td>3847</td>\n",
       "      <td>1</td>\n",
       "      <td>24.2</td>\n",
       "      <td>0</td>\n",
       "      <td>outofstock</td>\n",
       "    </tr>\n",
       "    <tr>\n",
       "      <th>1</th>\n",
       "      <td>3849</td>\n",
       "      <td>1</td>\n",
       "      <td>34.3</td>\n",
       "      <td>0</td>\n",
       "      <td>outofstock</td>\n",
       "    </tr>\n",
       "    <tr>\n",
       "      <th>2</th>\n",
       "      <td>3850</td>\n",
       "      <td>1</td>\n",
       "      <td>20.8</td>\n",
       "      <td>0</td>\n",
       "      <td>outofstock</td>\n",
       "    </tr>\n",
       "    <tr>\n",
       "      <th>3</th>\n",
       "      <td>4032</td>\n",
       "      <td>1</td>\n",
       "      <td>14.1</td>\n",
       "      <td>0</td>\n",
       "      <td>outofstock</td>\n",
       "    </tr>\n",
       "    <tr>\n",
       "      <th>4</th>\n",
       "      <td>4039</td>\n",
       "      <td>1</td>\n",
       "      <td>46.0</td>\n",
       "      <td>0</td>\n",
       "      <td>outofstock</td>\n",
       "    </tr>\n",
       "  </tbody>\n",
       "</table>\n",
       "</div>"
      ],
      "text/plain": [
       "   product_id  onsale_web  price  stock_quantity stock_status\n",
       "0        3847           1   24.2               0   outofstock\n",
       "1        3849           1   34.3               0   outofstock\n",
       "2        3850           1   20.8               0   outofstock\n",
       "3        4032           1   14.1               0   outofstock\n",
       "4        4039           1   46.0               0   outofstock"
      ]
     },
     "execution_count": 4,
     "metadata": {},
     "output_type": "execute_result"
    }
   ],
   "source": [
    "#5 first rows\n",
    "df_erp.head(5)"
   ]
  },
  {
   "cell_type": "code",
   "execution_count": 5,
   "id": "34e0c257",
   "metadata": {},
   "outputs": [
    {
     "data": {
      "text/plain": [
       "(825, 5)"
      ]
     },
     "execution_count": 5,
     "metadata": {},
     "output_type": "execute_result"
    }
   ],
   "source": [
    "#Shape of the df\n",
    "df_erp.shape"
   ]
  },
  {
   "cell_type": "code",
   "execution_count": 6,
   "id": "eb1181a7",
   "metadata": {},
   "outputs": [],
   "source": [
    "#Keeping useful columns\n",
    "df_erp_tri = df_erp[['product_id', 'price']]"
   ]
  },
  {
   "cell_type": "code",
   "execution_count": 7,
   "id": "4932f3d8",
   "metadata": {},
   "outputs": [
    {
     "data": {
      "text/plain": [
       "product_id      int64\n",
       "price         float64\n",
       "dtype: object"
      ]
     },
     "execution_count": 7,
     "metadata": {},
     "output_type": "execute_result"
    }
   ],
   "source": [
    "#Analyzing the type of data in columns\n",
    "df_erp_tri.dtypes"
   ]
  },
  {
   "cell_type": "code",
   "execution_count": null,
   "id": "9ff0b100",
   "metadata": {},
   "outputs": [],
   "source": [
    "#Transformation of product_id from int64 to object\n",
    "df_erp_tri['product_id'] = df_erp_tri['product_id'].astype(str)\n",
    "df_erp_tri.dtypes"
   ]
  },
  {
   "cell_type": "code",
   "execution_count": 9,
   "id": "bb49ded6",
   "metadata": {},
   "outputs": [
    {
     "name": "stdout",
     "output_type": "stream",
     "text": [
      "df initial size: (825, 2)\n",
      "No duplicates\n",
      "No NaN values\n",
      "New size df : (825, 2)\n"
     ]
    }
   ],
   "source": [
    "#Cleaning of the df\n",
    "nettoyage_df(df_erp_tri,'product_id', 'price')"
   ]
  },
  {
   "cell_type": "code",
   "execution_count": 10,
   "id": "06973b7c",
   "metadata": {
    "scrolled": true
   },
   "outputs": [
    {
     "data": {
      "text/html": [
       "<div>\n",
       "<style scoped>\n",
       "    .dataframe tbody tr th:only-of-type {\n",
       "        vertical-align: middle;\n",
       "    }\n",
       "\n",
       "    .dataframe tbody tr th {\n",
       "        vertical-align: top;\n",
       "    }\n",
       "\n",
       "    .dataframe thead th {\n",
       "        text-align: right;\n",
       "    }\n",
       "</style>\n",
       "<table border=\"1\" class=\"dataframe\">\n",
       "  <thead>\n",
       "    <tr style=\"text-align: right;\">\n",
       "      <th></th>\n",
       "      <th>product_id</th>\n",
       "      <th>price</th>\n",
       "    </tr>\n",
       "  </thead>\n",
       "  <tbody>\n",
       "    <tr>\n",
       "      <th>count</th>\n",
       "      <td>825</td>\n",
       "      <td>825.000000</td>\n",
       "    </tr>\n",
       "    <tr>\n",
       "      <th>unique</th>\n",
       "      <td>825</td>\n",
       "      <td>NaN</td>\n",
       "    </tr>\n",
       "    <tr>\n",
       "      <th>top</th>\n",
       "      <td>3847</td>\n",
       "      <td>NaN</td>\n",
       "    </tr>\n",
       "    <tr>\n",
       "      <th>freq</th>\n",
       "      <td>1</td>\n",
       "      <td>NaN</td>\n",
       "    </tr>\n",
       "    <tr>\n",
       "      <th>mean</th>\n",
       "      <td>NaN</td>\n",
       "      <td>32.415636</td>\n",
       "    </tr>\n",
       "    <tr>\n",
       "      <th>std</th>\n",
       "      <td>NaN</td>\n",
       "      <td>26.795849</td>\n",
       "    </tr>\n",
       "    <tr>\n",
       "      <th>min</th>\n",
       "      <td>NaN</td>\n",
       "      <td>5.200000</td>\n",
       "    </tr>\n",
       "    <tr>\n",
       "      <th>25%</th>\n",
       "      <td>NaN</td>\n",
       "      <td>14.600000</td>\n",
       "    </tr>\n",
       "    <tr>\n",
       "      <th>50%</th>\n",
       "      <td>NaN</td>\n",
       "      <td>24.400000</td>\n",
       "    </tr>\n",
       "    <tr>\n",
       "      <th>75%</th>\n",
       "      <td>NaN</td>\n",
       "      <td>42.000000</td>\n",
       "    </tr>\n",
       "    <tr>\n",
       "      <th>max</th>\n",
       "      <td>NaN</td>\n",
       "      <td>225.000000</td>\n",
       "    </tr>\n",
       "  </tbody>\n",
       "</table>\n",
       "</div>"
      ],
      "text/plain": [
       "       product_id       price\n",
       "count         825  825.000000\n",
       "unique        825         NaN\n",
       "top          3847         NaN\n",
       "freq            1         NaN\n",
       "mean          NaN   32.415636\n",
       "std           NaN   26.795849\n",
       "min           NaN    5.200000\n",
       "25%           NaN   14.600000\n",
       "50%           NaN   24.400000\n",
       "75%           NaN   42.000000\n",
       "max           NaN  225.000000"
      ]
     },
     "execution_count": 10,
     "metadata": {},
     "output_type": "execute_result"
    }
   ],
   "source": [
    "#Descriptive analysis \n",
    "df_erp_tri.describe(include='all')\n",
    "#There are 825 unique values product_id for 825 rows, the unicity is validated for use as join key"
   ]
  },
  {
   "cell_type": "markdown",
   "id": "e9f23cc4",
   "metadata": {},
   "source": [
    "<a name=\"C6\">\n",
    "<div style=\"border: 1px solid RGB(155,34,66);\" >\n",
    "<h3 style=\"margin: auto; padding: 20px; color: RGB(155,34,66); \">2.2 - Exploratory analysis file WEB</h3>\n",
    "</div>"
   ]
  },
  {
   "cell_type": "code",
   "execution_count": 11,
   "id": "ed25ddc4",
   "metadata": {},
   "outputs": [
    {
     "data": {
      "text/html": [
       "<div>\n",
       "<style scoped>\n",
       "    .dataframe tbody tr th:only-of-type {\n",
       "        vertical-align: middle;\n",
       "    }\n",
       "\n",
       "    .dataframe tbody tr th {\n",
       "        vertical-align: top;\n",
       "    }\n",
       "\n",
       "    .dataframe thead th {\n",
       "        text-align: right;\n",
       "    }\n",
       "</style>\n",
       "<table border=\"1\" class=\"dataframe\">\n",
       "  <thead>\n",
       "    <tr style=\"text-align: right;\">\n",
       "      <th></th>\n",
       "      <th>sku</th>\n",
       "      <th>virtual</th>\n",
       "      <th>downloadable</th>\n",
       "      <th>rating_count</th>\n",
       "      <th>average_rating</th>\n",
       "      <th>total_sales</th>\n",
       "      <th>tax_status</th>\n",
       "      <th>tax_class</th>\n",
       "      <th>post_author</th>\n",
       "      <th>post_date</th>\n",
       "      <th>...</th>\n",
       "      <th>post_name</th>\n",
       "      <th>post_modified</th>\n",
       "      <th>post_modified_gmt</th>\n",
       "      <th>post_content_filtered</th>\n",
       "      <th>post_parent</th>\n",
       "      <th>guid</th>\n",
       "      <th>menu_order</th>\n",
       "      <th>post_type</th>\n",
       "      <th>post_mime_type</th>\n",
       "      <th>comment_count</th>\n",
       "    </tr>\n",
       "  </thead>\n",
       "  <tbody>\n",
       "    <tr>\n",
       "      <th>0</th>\n",
       "      <td>bon-cadeau-25-euros</td>\n",
       "      <td>0</td>\n",
       "      <td>0</td>\n",
       "      <td>0</td>\n",
       "      <td>0.0</td>\n",
       "      <td>10.0</td>\n",
       "      <td>taxable</td>\n",
       "      <td>NaN</td>\n",
       "      <td>1.0</td>\n",
       "      <td>2018-06-01 13:53:46</td>\n",
       "      <td>...</td>\n",
       "      <td>bon-cadeau-de-25-euros</td>\n",
       "      <td>2018-06-01 14:13:57</td>\n",
       "      <td>2018-06-01 12:13:57</td>\n",
       "      <td>NaN</td>\n",
       "      <td>0.0</td>\n",
       "      <td>https://www.bottle-neck.fr/?post_type=product&amp;...</td>\n",
       "      <td>0.0</td>\n",
       "      <td>product</td>\n",
       "      <td>NaN</td>\n",
       "      <td>0.0</td>\n",
       "    </tr>\n",
       "    <tr>\n",
       "      <th>1</th>\n",
       "      <td>15298</td>\n",
       "      <td>0</td>\n",
       "      <td>0</td>\n",
       "      <td>0</td>\n",
       "      <td>0.0</td>\n",
       "      <td>6.0</td>\n",
       "      <td>taxable</td>\n",
       "      <td>NaN</td>\n",
       "      <td>2.0</td>\n",
       "      <td>2018-02-08 12:58:52</td>\n",
       "      <td>...</td>\n",
       "      <td>pierre-jean-villa-saint-joseph-preface-2018</td>\n",
       "      <td>2019-12-30 09:30:29</td>\n",
       "      <td>2019-12-30 08:30:29</td>\n",
       "      <td>NaN</td>\n",
       "      <td>0.0</td>\n",
       "      <td>https://www.bottle-neck.fr/?post_type=product&amp;...</td>\n",
       "      <td>0.0</td>\n",
       "      <td>product</td>\n",
       "      <td>NaN</td>\n",
       "      <td>0.0</td>\n",
       "    </tr>\n",
       "    <tr>\n",
       "      <th>2</th>\n",
       "      <td>15296</td>\n",
       "      <td>0</td>\n",
       "      <td>0</td>\n",
       "      <td>0</td>\n",
       "      <td>0.0</td>\n",
       "      <td>0.0</td>\n",
       "      <td>taxable</td>\n",
       "      <td>NaN</td>\n",
       "      <td>2.0</td>\n",
       "      <td>2018-02-08 13:49:41</td>\n",
       "      <td>...</td>\n",
       "      <td>pierre-jean-villa-saint-joseph-tilde-2017</td>\n",
       "      <td>2019-12-21 09:00:17</td>\n",
       "      <td>2019-12-21 08:00:17</td>\n",
       "      <td>NaN</td>\n",
       "      <td>0.0</td>\n",
       "      <td>https://www.bottle-neck.fr/?post_type=product&amp;...</td>\n",
       "      <td>0.0</td>\n",
       "      <td>product</td>\n",
       "      <td>NaN</td>\n",
       "      <td>0.0</td>\n",
       "    </tr>\n",
       "    <tr>\n",
       "      <th>3</th>\n",
       "      <td>15300</td>\n",
       "      <td>0</td>\n",
       "      <td>0</td>\n",
       "      <td>0</td>\n",
       "      <td>0.0</td>\n",
       "      <td>0.0</td>\n",
       "      <td>taxable</td>\n",
       "      <td>NaN</td>\n",
       "      <td>2.0</td>\n",
       "      <td>2018-02-08 14:08:36</td>\n",
       "      <td>...</td>\n",
       "      <td>pierre-jean-villa-croze-hermitage-accroche-coe...</td>\n",
       "      <td>2020-06-26 18:15:03</td>\n",
       "      <td>2020-06-26 16:15:03</td>\n",
       "      <td>NaN</td>\n",
       "      <td>0.0</td>\n",
       "      <td>https://www.bottle-neck.fr/?post_type=product&amp;...</td>\n",
       "      <td>0.0</td>\n",
       "      <td>product</td>\n",
       "      <td>NaN</td>\n",
       "      <td>0.0</td>\n",
       "    </tr>\n",
       "    <tr>\n",
       "      <th>4</th>\n",
       "      <td>19814</td>\n",
       "      <td>0</td>\n",
       "      <td>0</td>\n",
       "      <td>0</td>\n",
       "      <td>0.0</td>\n",
       "      <td>3.0</td>\n",
       "      <td>taxable</td>\n",
       "      <td>NaN</td>\n",
       "      <td>2.0</td>\n",
       "      <td>2018-02-09 14:01:05</td>\n",
       "      <td>...</td>\n",
       "      <td>pierre-jean-villa-igp-gamine-2018</td>\n",
       "      <td>2020-01-04 16:36:01</td>\n",
       "      <td>2020-01-04 15:36:01</td>\n",
       "      <td>NaN</td>\n",
       "      <td>0.0</td>\n",
       "      <td>https://www.bottle-neck.fr/?post_type=product&amp;...</td>\n",
       "      <td>0.0</td>\n",
       "      <td>product</td>\n",
       "      <td>NaN</td>\n",
       "      <td>0.0</td>\n",
       "    </tr>\n",
       "  </tbody>\n",
       "</table>\n",
       "<p>5 rows × 28 columns</p>\n",
       "</div>"
      ],
      "text/plain": [
       "                   sku  virtual  downloadable  rating_count  average_rating  \\\n",
       "0  bon-cadeau-25-euros        0             0             0             0.0   \n",
       "1                15298        0             0             0             0.0   \n",
       "2                15296        0             0             0             0.0   \n",
       "3                15300        0             0             0             0.0   \n",
       "4                19814        0             0             0             0.0   \n",
       "\n",
       "   total_sales tax_status  tax_class  post_author           post_date  ...  \\\n",
       "0         10.0    taxable        NaN          1.0 2018-06-01 13:53:46  ...   \n",
       "1          6.0    taxable        NaN          2.0 2018-02-08 12:58:52  ...   \n",
       "2          0.0    taxable        NaN          2.0 2018-02-08 13:49:41  ...   \n",
       "3          0.0    taxable        NaN          2.0 2018-02-08 14:08:36  ...   \n",
       "4          3.0    taxable        NaN          2.0 2018-02-09 14:01:05  ...   \n",
       "\n",
       "                                           post_name       post_modified  \\\n",
       "0                             bon-cadeau-de-25-euros 2018-06-01 14:13:57   \n",
       "1        pierre-jean-villa-saint-joseph-preface-2018 2019-12-30 09:30:29   \n",
       "2          pierre-jean-villa-saint-joseph-tilde-2017 2019-12-21 09:00:17   \n",
       "3  pierre-jean-villa-croze-hermitage-accroche-coe... 2020-06-26 18:15:03   \n",
       "4                  pierre-jean-villa-igp-gamine-2018 2020-01-04 16:36:01   \n",
       "\n",
       "    post_modified_gmt post_content_filtered post_parent  \\\n",
       "0 2018-06-01 12:13:57                   NaN         0.0   \n",
       "1 2019-12-30 08:30:29                   NaN         0.0   \n",
       "2 2019-12-21 08:00:17                   NaN         0.0   \n",
       "3 2020-06-26 16:15:03                   NaN         0.0   \n",
       "4 2020-01-04 15:36:01                   NaN         0.0   \n",
       "\n",
       "                                                guid menu_order  post_type  \\\n",
       "0  https://www.bottle-neck.fr/?post_type=product&...        0.0    product   \n",
       "1  https://www.bottle-neck.fr/?post_type=product&...        0.0    product   \n",
       "2  https://www.bottle-neck.fr/?post_type=product&...        0.0    product   \n",
       "3  https://www.bottle-neck.fr/?post_type=product&...        0.0    product   \n",
       "4  https://www.bottle-neck.fr/?post_type=product&...        0.0    product   \n",
       "\n",
       "  post_mime_type comment_count  \n",
       "0            NaN           0.0  \n",
       "1            NaN           0.0  \n",
       "2            NaN           0.0  \n",
       "3            NaN           0.0  \n",
       "4            NaN           0.0  \n",
       "\n",
       "[5 rows x 28 columns]"
      ]
     },
     "execution_count": 11,
     "metadata": {},
     "output_type": "execute_result"
    }
   ],
   "source": [
    "#5 first rows\n",
    "df_web.head(5)"
   ]
  },
  {
   "cell_type": "code",
   "execution_count": 12,
   "id": "450517c0",
   "metadata": {},
   "outputs": [
    {
     "data": {
      "text/plain": [
       "(1513, 28)"
      ]
     },
     "execution_count": 12,
     "metadata": {},
     "output_type": "execute_result"
    }
   ],
   "source": [
    "#Shape of the df\n",
    "df_web.shape"
   ]
  },
  {
   "cell_type": "code",
   "execution_count": 13,
   "id": "580d9aca",
   "metadata": {},
   "outputs": [],
   "source": [
    "#Keeping useful columns\n",
    "df_web_tri = df_web[['sku', 'total_sales', 'post_name']]"
   ]
  },
  {
   "cell_type": "code",
   "execution_count": 14,
   "id": "a860ff11",
   "metadata": {},
   "outputs": [
    {
     "data": {
      "text/plain": [
       "sku             object\n",
       "total_sales    float64\n",
       "post_name       object\n",
       "dtype: object"
      ]
     },
     "execution_count": 14,
     "metadata": {},
     "output_type": "execute_result"
    }
   ],
   "source": [
    "#Analysis of the data types of columns\n",
    "df_web_tri.dtypes"
   ]
  },
  {
   "cell_type": "code",
   "execution_count": 15,
   "id": "5c55336e",
   "metadata": {
    "scrolled": true
   },
   "outputs": [
    {
     "data": {
      "text/html": [
       "<div>\n",
       "<style scoped>\n",
       "    .dataframe tbody tr th:only-of-type {\n",
       "        vertical-align: middle;\n",
       "    }\n",
       "\n",
       "    .dataframe tbody tr th {\n",
       "        vertical-align: top;\n",
       "    }\n",
       "\n",
       "    .dataframe thead th {\n",
       "        text-align: right;\n",
       "    }\n",
       "</style>\n",
       "<table border=\"1\" class=\"dataframe\">\n",
       "  <thead>\n",
       "    <tr style=\"text-align: right;\">\n",
       "      <th></th>\n",
       "      <th>sku</th>\n",
       "      <th>total_sales</th>\n",
       "      <th>post_name</th>\n",
       "    </tr>\n",
       "  </thead>\n",
       "  <tbody>\n",
       "    <tr>\n",
       "      <th>count</th>\n",
       "      <td>1428</td>\n",
       "      <td>1430.000000</td>\n",
       "      <td>1430</td>\n",
       "    </tr>\n",
       "    <tr>\n",
       "      <th>unique</th>\n",
       "      <td>714</td>\n",
       "      <td>NaN</td>\n",
       "      <td>716</td>\n",
       "    </tr>\n",
       "    <tr>\n",
       "      <th>top</th>\n",
       "      <td>bon-cadeau-25-euros</td>\n",
       "      <td>NaN</td>\n",
       "      <td>bon-cadeau-de-25-euros</td>\n",
       "    </tr>\n",
       "    <tr>\n",
       "      <th>freq</th>\n",
       "      <td>2</td>\n",
       "      <td>NaN</td>\n",
       "      <td>2</td>\n",
       "    </tr>\n",
       "    <tr>\n",
       "      <th>mean</th>\n",
       "      <td>NaN</td>\n",
       "      <td>4.006993</td>\n",
       "      <td>NaN</td>\n",
       "    </tr>\n",
       "    <tr>\n",
       "      <th>std</th>\n",
       "      <td>NaN</td>\n",
       "      <td>8.510559</td>\n",
       "      <td>NaN</td>\n",
       "    </tr>\n",
       "    <tr>\n",
       "      <th>min</th>\n",
       "      <td>NaN</td>\n",
       "      <td>0.000000</td>\n",
       "      <td>NaN</td>\n",
       "    </tr>\n",
       "    <tr>\n",
       "      <th>25%</th>\n",
       "      <td>NaN</td>\n",
       "      <td>0.000000</td>\n",
       "      <td>NaN</td>\n",
       "    </tr>\n",
       "    <tr>\n",
       "      <th>50%</th>\n",
       "      <td>NaN</td>\n",
       "      <td>1.000000</td>\n",
       "      <td>NaN</td>\n",
       "    </tr>\n",
       "    <tr>\n",
       "      <th>75%</th>\n",
       "      <td>NaN</td>\n",
       "      <td>4.000000</td>\n",
       "      <td>NaN</td>\n",
       "    </tr>\n",
       "    <tr>\n",
       "      <th>max</th>\n",
       "      <td>NaN</td>\n",
       "      <td>96.000000</td>\n",
       "      <td>NaN</td>\n",
       "    </tr>\n",
       "  </tbody>\n",
       "</table>\n",
       "</div>"
      ],
      "text/plain": [
       "                        sku  total_sales               post_name\n",
       "count                  1428  1430.000000                    1430\n",
       "unique                  714          NaN                     716\n",
       "top     bon-cadeau-25-euros          NaN  bon-cadeau-de-25-euros\n",
       "freq                      2          NaN                       2\n",
       "mean                    NaN     4.006993                     NaN\n",
       "std                     NaN     8.510559                     NaN\n",
       "min                     NaN     0.000000                     NaN\n",
       "25%                     NaN     0.000000                     NaN\n",
       "50%                     NaN     1.000000                     NaN\n",
       "75%                     NaN     4.000000                     NaN\n",
       "max                     NaN    96.000000                     NaN"
      ]
     },
     "execution_count": 15,
     "metadata": {},
     "output_type": "execute_result"
    }
   ],
   "source": [
    "df_web_tri.describe(include='all')\n",
    "#There are 714 unique sku values for 1428 rows, unicity not validated, duplicates check required"
   ]
  },
  {
   "cell_type": "code",
   "execution_count": 16,
   "id": "463a31a6",
   "metadata": {},
   "outputs": [
    {
     "name": "stdout",
     "output_type": "stream",
     "text": [
      "df initial size: (1513, 3)\n",
      "There are 798 duplicates, eliminating duplicates\n",
      "there are 83 NaN values, eliminating NaN\n",
      "New size df : (714, 3)\n"
     ]
    },
    {
     "name": "stderr",
     "output_type": "stream",
     "text": [
      "/var/folders/ys/x9zrppb9483b7ncwjcb1t25m0000gn/T/ipykernel_91205/529529188.py:16: SettingWithCopyWarning: \n",
      "A value is trying to be set on a copy of a slice from a DataFrame\n",
      "\n",
      "See the caveats in the documentation: https://pandas.pydata.org/pandas-docs/stable/user_guide/indexing.html#returning-a-view-versus-a-copy\n",
      "  df.drop_duplicates(inplace=True, ignore_index=True)\n",
      "/var/folders/ys/x9zrppb9483b7ncwjcb1t25m0000gn/T/ipykernel_91205/529529188.py:19: SettingWithCopyWarning: \n",
      "A value is trying to be set on a copy of a slice from a DataFrame\n",
      "\n",
      "See the caveats in the documentation: https://pandas.pydata.org/pandas-docs/stable/user_guide/indexing.html#returning-a-view-versus-a-copy\n",
      "  df.dropna(inplace=True)\n"
     ]
    }
   ],
   "source": [
    "#Cleaning of the df with function\n",
    "nettoyage_df(df_web_tri,'sku', 'total_sales')"
   ]
  },
  {
   "cell_type": "code",
   "execution_count": 17,
   "id": "c377f9b1",
   "metadata": {},
   "outputs": [
    {
     "data": {
      "text/html": [
       "<div>\n",
       "<style scoped>\n",
       "    .dataframe tbody tr th:only-of-type {\n",
       "        vertical-align: middle;\n",
       "    }\n",
       "\n",
       "    .dataframe tbody tr th {\n",
       "        vertical-align: top;\n",
       "    }\n",
       "\n",
       "    .dataframe thead th {\n",
       "        text-align: right;\n",
       "    }\n",
       "</style>\n",
       "<table border=\"1\" class=\"dataframe\">\n",
       "  <thead>\n",
       "    <tr style=\"text-align: right;\">\n",
       "      <th></th>\n",
       "      <th>sku</th>\n",
       "      <th>total_sales</th>\n",
       "      <th>post_name</th>\n",
       "    </tr>\n",
       "  </thead>\n",
       "  <tbody>\n",
       "    <tr>\n",
       "      <th>count</th>\n",
       "      <td>714</td>\n",
       "      <td>714.000000</td>\n",
       "      <td>714</td>\n",
       "    </tr>\n",
       "    <tr>\n",
       "      <th>unique</th>\n",
       "      <td>714</td>\n",
       "      <td>NaN</td>\n",
       "      <td>714</td>\n",
       "    </tr>\n",
       "    <tr>\n",
       "      <th>top</th>\n",
       "      <td>bon-cadeau-25-euros</td>\n",
       "      <td>NaN</td>\n",
       "      <td>bon-cadeau-de-25-euros</td>\n",
       "    </tr>\n",
       "    <tr>\n",
       "      <th>freq</th>\n",
       "      <td>1</td>\n",
       "      <td>NaN</td>\n",
       "      <td>1</td>\n",
       "    </tr>\n",
       "    <tr>\n",
       "      <th>mean</th>\n",
       "      <td>NaN</td>\n",
       "      <td>4.012605</td>\n",
       "      <td>NaN</td>\n",
       "    </tr>\n",
       "    <tr>\n",
       "      <th>std</th>\n",
       "      <td>NaN</td>\n",
       "      <td>8.518183</td>\n",
       "      <td>NaN</td>\n",
       "    </tr>\n",
       "    <tr>\n",
       "      <th>min</th>\n",
       "      <td>NaN</td>\n",
       "      <td>0.000000</td>\n",
       "      <td>NaN</td>\n",
       "    </tr>\n",
       "    <tr>\n",
       "      <th>25%</th>\n",
       "      <td>NaN</td>\n",
       "      <td>0.000000</td>\n",
       "      <td>NaN</td>\n",
       "    </tr>\n",
       "    <tr>\n",
       "      <th>50%</th>\n",
       "      <td>NaN</td>\n",
       "      <td>1.000000</td>\n",
       "      <td>NaN</td>\n",
       "    </tr>\n",
       "    <tr>\n",
       "      <th>75%</th>\n",
       "      <td>NaN</td>\n",
       "      <td>4.000000</td>\n",
       "      <td>NaN</td>\n",
       "    </tr>\n",
       "    <tr>\n",
       "      <th>max</th>\n",
       "      <td>NaN</td>\n",
       "      <td>96.000000</td>\n",
       "      <td>NaN</td>\n",
       "    </tr>\n",
       "  </tbody>\n",
       "</table>\n",
       "</div>"
      ],
      "text/plain": [
       "                        sku  total_sales               post_name\n",
       "count                   714   714.000000                     714\n",
       "unique                  714          NaN                     714\n",
       "top     bon-cadeau-25-euros          NaN  bon-cadeau-de-25-euros\n",
       "freq                      1          NaN                       1\n",
       "mean                    NaN     4.012605                     NaN\n",
       "std                     NaN     8.518183                     NaN\n",
       "min                     NaN     0.000000                     NaN\n",
       "25%                     NaN     0.000000                     NaN\n",
       "50%                     NaN     1.000000                     NaN\n",
       "75%                     NaN     4.000000                     NaN\n",
       "max                     NaN    96.000000                     NaN"
      ]
     },
     "execution_count": 17,
     "metadata": {},
     "output_type": "execute_result"
    }
   ],
   "source": [
    "#Recheck values unicity\n",
    "df_web_tri.describe(include='all')\n",
    "\n",
    "#There are 714 rows and 714 unique sku values (unicity of key validated)"
   ]
  },
  {
   "cell_type": "markdown",
   "id": "d5d21a65",
   "metadata": {},
   "source": [
    "<a name=\"C7\">\n",
    "<div style=\"border: 1px solid RGB(155,34,66);\" >\n",
    "<h3 style=\"margin: auto; padding: 20px; color: RGB(155,34,66); \">2.3- Exploratory analysis file LIAISON</h3>\n",
    "</div>"
   ]
  },
  {
   "cell_type": "code",
   "execution_count": 18,
   "id": "151661b8",
   "metadata": {},
   "outputs": [
    {
     "data": {
      "text/html": [
       "<div>\n",
       "<style scoped>\n",
       "    .dataframe tbody tr th:only-of-type {\n",
       "        vertical-align: middle;\n",
       "    }\n",
       "\n",
       "    .dataframe tbody tr th {\n",
       "        vertical-align: top;\n",
       "    }\n",
       "\n",
       "    .dataframe thead th {\n",
       "        text-align: right;\n",
       "    }\n",
       "</style>\n",
       "<table border=\"1\" class=\"dataframe\">\n",
       "  <thead>\n",
       "    <tr style=\"text-align: right;\">\n",
       "      <th></th>\n",
       "      <th>product_id</th>\n",
       "      <th>id_web</th>\n",
       "    </tr>\n",
       "  </thead>\n",
       "  <tbody>\n",
       "    <tr>\n",
       "      <th>0</th>\n",
       "      <td>3847</td>\n",
       "      <td>15298</td>\n",
       "    </tr>\n",
       "    <tr>\n",
       "      <th>1</th>\n",
       "      <td>3849</td>\n",
       "      <td>15296</td>\n",
       "    </tr>\n",
       "    <tr>\n",
       "      <th>2</th>\n",
       "      <td>3850</td>\n",
       "      <td>15300</td>\n",
       "    </tr>\n",
       "    <tr>\n",
       "      <th>3</th>\n",
       "      <td>4032</td>\n",
       "      <td>19814</td>\n",
       "    </tr>\n",
       "    <tr>\n",
       "      <th>4</th>\n",
       "      <td>4039</td>\n",
       "      <td>19815</td>\n",
       "    </tr>\n",
       "  </tbody>\n",
       "</table>\n",
       "</div>"
      ],
      "text/plain": [
       "   product_id id_web\n",
       "0        3847  15298\n",
       "1        3849  15296\n",
       "2        3850  15300\n",
       "3        4032  19814\n",
       "4        4039  19815"
      ]
     },
     "execution_count": 18,
     "metadata": {},
     "output_type": "execute_result"
    }
   ],
   "source": [
    "#5 first rows\n",
    "df_liaison.head(5)"
   ]
  },
  {
   "cell_type": "code",
   "execution_count": 19,
   "id": "2a15ccdb",
   "metadata": {
    "scrolled": true
   },
   "outputs": [
    {
     "data": {
      "text/plain": [
       "product_id     int64\n",
       "id_web        object\n",
       "dtype: object"
      ]
     },
     "execution_count": 19,
     "metadata": {},
     "output_type": "execute_result"
    }
   ],
   "source": [
    "#Columns data type\n",
    "df_liaison.dtypes"
   ]
  },
  {
   "cell_type": "code",
   "execution_count": 20,
   "id": "df47b2af",
   "metadata": {},
   "outputs": [
    {
     "data": {
      "text/plain": [
       "product_id    object\n",
       "id_web        object\n",
       "dtype: object"
      ]
     },
     "execution_count": 20,
     "metadata": {},
     "output_type": "execute_result"
    }
   ],
   "source": [
    "#Change column product_id data type in object\n",
    "df_liaison['product_id'] = df_liaison['product_id'].astype(str)\n",
    "df_liaison.dtypes"
   ]
  },
  {
   "cell_type": "code",
   "execution_count": 21,
   "id": "aa1d5b97",
   "metadata": {},
   "outputs": [],
   "source": [
    "#Column id_web corresponding to sku, renaming\n",
    "df_liaison.rename(columns={'id_web':'sku'}, inplace=True)"
   ]
  },
  {
   "cell_type": "code",
   "execution_count": 22,
   "id": "27017cc6",
   "metadata": {},
   "outputs": [
    {
     "name": "stdout",
     "output_type": "stream",
     "text": [
      "df initial size: (825, 2)\n",
      "No duplicates\n",
      "there are 91 NaN values, eliminating NaN\n",
      "New size df : (734, 2)\n"
     ]
    }
   ],
   "source": [
    "#Cleaning function on df\n",
    "nettoyage_df(df_liaison,'product_id', 'sku')"
   ]
  },
  {
   "cell_type": "code",
   "execution_count": 23,
   "id": "cf487f25",
   "metadata": {},
   "outputs": [
    {
     "data": {
      "text/html": [
       "<div>\n",
       "<style scoped>\n",
       "    .dataframe tbody tr th:only-of-type {\n",
       "        vertical-align: middle;\n",
       "    }\n",
       "\n",
       "    .dataframe tbody tr th {\n",
       "        vertical-align: top;\n",
       "    }\n",
       "\n",
       "    .dataframe thead th {\n",
       "        text-align: right;\n",
       "    }\n",
       "</style>\n",
       "<table border=\"1\" class=\"dataframe\">\n",
       "  <thead>\n",
       "    <tr style=\"text-align: right;\">\n",
       "      <th></th>\n",
       "      <th>product_id</th>\n",
       "      <th>sku</th>\n",
       "    </tr>\n",
       "  </thead>\n",
       "  <tbody>\n",
       "    <tr>\n",
       "      <th>count</th>\n",
       "      <td>734</td>\n",
       "      <td>734</td>\n",
       "    </tr>\n",
       "    <tr>\n",
       "      <th>unique</th>\n",
       "      <td>734</td>\n",
       "      <td>734</td>\n",
       "    </tr>\n",
       "    <tr>\n",
       "      <th>top</th>\n",
       "      <td>3847</td>\n",
       "      <td>15298</td>\n",
       "    </tr>\n",
       "    <tr>\n",
       "      <th>freq</th>\n",
       "      <td>1</td>\n",
       "      <td>1</td>\n",
       "    </tr>\n",
       "  </tbody>\n",
       "</table>\n",
       "</div>"
      ],
      "text/plain": [
       "       product_id    sku\n",
       "count         734    734\n",
       "unique        734    734\n",
       "top          3847  15298\n",
       "freq            1      1"
      ]
     },
     "execution_count": 23,
     "metadata": {},
     "output_type": "execute_result"
    }
   ],
   "source": [
    "df_liaison.describe(include='all')\n",
    "#The number of rows correspond to unique values product_id et sku, the unicity of keys are validated."
   ]
  },
  {
   "cell_type": "markdown",
   "id": "dac6b0cc",
   "metadata": {},
   "source": [
    "<a name=\"C8\">\n",
    "<div style=\"background-color: RGB(155,34,66);\" >\n",
    "<h2 style=\"margin: auto; padding: 20px; color:#fff; \">Step 3 - Merging dataframes</h2>\n",
    "</div>"
   ]
  },
  {
   "cell_type": "code",
   "execution_count": 24,
   "id": "1f0c1598",
   "metadata": {},
   "outputs": [
    {
     "data": {
      "text/plain": [
       "714"
      ]
     },
     "execution_count": 24,
     "metadata": {},
     "output_type": "execute_result"
    }
   ],
   "source": [
    "#Verification correspondence sku keys between liaison and web file \n",
    "#Number values sku = 714\n",
    "df_web_tri['sku'].isin(df_liaison['sku']).sum()\n",
    "#All sku values are in file liaison"
   ]
  },
  {
   "cell_type": "code",
   "execution_count": 25,
   "id": "13087f66",
   "metadata": {},
   "outputs": [
    {
     "data": {
      "text/plain": [
       "734"
      ]
     },
     "execution_count": 25,
     "metadata": {},
     "output_type": "execute_result"
    }
   ],
   "source": [
    "#Verification correspondence product_id keys between liaison and erp file \n",
    "#Number values product_id = 825\n",
    "df_erp_tri['product_id'].isin(df_liaison['product_id']).sum()\n",
    "#There are 825-734 = 91 values that are not in the file liaison"
   ]
  },
  {
   "cell_type": "code",
   "execution_count": 26,
   "id": "33e796c6",
   "metadata": {},
   "outputs": [
    {
     "data": {
      "text/html": [
       "<div>\n",
       "<style scoped>\n",
       "    .dataframe tbody tr th:only-of-type {\n",
       "        vertical-align: middle;\n",
       "    }\n",
       "\n",
       "    .dataframe tbody tr th {\n",
       "        vertical-align: top;\n",
       "    }\n",
       "\n",
       "    .dataframe thead th {\n",
       "        text-align: right;\n",
       "    }\n",
       "</style>\n",
       "<table border=\"1\" class=\"dataframe\">\n",
       "  <thead>\n",
       "    <tr style=\"text-align: right;\">\n",
       "      <th></th>\n",
       "      <th>product_id</th>\n",
       "      <th>price</th>\n",
       "    </tr>\n",
       "  </thead>\n",
       "  <tbody>\n",
       "    <tr>\n",
       "      <th>19</th>\n",
       "      <td>4055</td>\n",
       "      <td>86.1</td>\n",
       "    </tr>\n",
       "    <tr>\n",
       "      <th>49</th>\n",
       "      <td>4090</td>\n",
       "      <td>73.0</td>\n",
       "    </tr>\n",
       "    <tr>\n",
       "      <th>50</th>\n",
       "      <td>4092</td>\n",
       "      <td>47.0</td>\n",
       "    </tr>\n",
       "    <tr>\n",
       "      <th>119</th>\n",
       "      <td>4195</td>\n",
       "      <td>14.1</td>\n",
       "    </tr>\n",
       "    <tr>\n",
       "      <th>131</th>\n",
       "      <td>4209</td>\n",
       "      <td>73.5</td>\n",
       "    </tr>\n",
       "    <tr>\n",
       "      <th>...</th>\n",
       "      <td>...</td>\n",
       "      <td>...</td>\n",
       "    </tr>\n",
       "    <tr>\n",
       "      <th>817</th>\n",
       "      <td>7196</td>\n",
       "      <td>31.0</td>\n",
       "    </tr>\n",
       "    <tr>\n",
       "      <th>818</th>\n",
       "      <td>7200</td>\n",
       "      <td>31.0</td>\n",
       "    </tr>\n",
       "    <tr>\n",
       "      <th>819</th>\n",
       "      <td>7201</td>\n",
       "      <td>31.0</td>\n",
       "    </tr>\n",
       "    <tr>\n",
       "      <th>820</th>\n",
       "      <td>7203</td>\n",
       "      <td>45.0</td>\n",
       "    </tr>\n",
       "    <tr>\n",
       "      <th>821</th>\n",
       "      <td>7204</td>\n",
       "      <td>45.0</td>\n",
       "    </tr>\n",
       "  </tbody>\n",
       "</table>\n",
       "<p>91 rows × 2 columns</p>\n",
       "</div>"
      ],
      "text/plain": [
       "    product_id  price\n",
       "19        4055   86.1\n",
       "49        4090   73.0\n",
       "50        4092   47.0\n",
       "119       4195   14.1\n",
       "131       4209   73.5\n",
       "..         ...    ...\n",
       "817       7196   31.0\n",
       "818       7200   31.0\n",
       "819       7201   31.0\n",
       "820       7203   45.0\n",
       "821       7204   45.0\n",
       "\n",
       "[91 rows x 2 columns]"
      ]
     },
     "execution_count": 26,
     "metadata": {},
     "output_type": "execute_result"
    }
   ],
   "source": [
    "#Display product_id not present in file liaison\n",
    "df_erp_tri.loc[df_erp_tri['product_id'].isin(df_liaison['product_id'])==False]\n",
    "#All keys product_id do not have correspondence in file liaison, merge type chosen consequently = outer "
   ]
  },
  {
   "cell_type": "code",
   "execution_count": 27,
   "id": "06059166",
   "metadata": {
    "scrolled": true
   },
   "outputs": [
    {
     "data": {
      "text/html": [
       "<div>\n",
       "<style scoped>\n",
       "    .dataframe tbody tr th:only-of-type {\n",
       "        vertical-align: middle;\n",
       "    }\n",
       "\n",
       "    .dataframe tbody tr th {\n",
       "        vertical-align: top;\n",
       "    }\n",
       "\n",
       "    .dataframe thead th {\n",
       "        text-align: right;\n",
       "    }\n",
       "</style>\n",
       "<table border=\"1\" class=\"dataframe\">\n",
       "  <thead>\n",
       "    <tr style=\"text-align: right;\">\n",
       "      <th></th>\n",
       "      <th>product_id</th>\n",
       "      <th>price</th>\n",
       "      <th>sku</th>\n",
       "      <th>total_sales</th>\n",
       "      <th>post_name</th>\n",
       "    </tr>\n",
       "  </thead>\n",
       "  <tbody>\n",
       "    <tr>\n",
       "      <th>0</th>\n",
       "      <td>3847</td>\n",
       "      <td>24.2</td>\n",
       "      <td>15298</td>\n",
       "      <td>6.0</td>\n",
       "      <td>pierre-jean-villa-saint-joseph-preface-2018</td>\n",
       "    </tr>\n",
       "    <tr>\n",
       "      <th>1</th>\n",
       "      <td>3849</td>\n",
       "      <td>34.3</td>\n",
       "      <td>15296</td>\n",
       "      <td>0.0</td>\n",
       "      <td>pierre-jean-villa-saint-joseph-tilde-2017</td>\n",
       "    </tr>\n",
       "    <tr>\n",
       "      <th>2</th>\n",
       "      <td>3850</td>\n",
       "      <td>20.8</td>\n",
       "      <td>15300</td>\n",
       "      <td>0.0</td>\n",
       "      <td>pierre-jean-villa-croze-hermitage-accroche-coe...</td>\n",
       "    </tr>\n",
       "    <tr>\n",
       "      <th>3</th>\n",
       "      <td>4032</td>\n",
       "      <td>14.1</td>\n",
       "      <td>19814</td>\n",
       "      <td>3.0</td>\n",
       "      <td>pierre-jean-villa-igp-gamine-2018</td>\n",
       "    </tr>\n",
       "    <tr>\n",
       "      <th>4</th>\n",
       "      <td>4039</td>\n",
       "      <td>46.0</td>\n",
       "      <td>19815</td>\n",
       "      <td>0.0</td>\n",
       "      <td>pierre-jean-villa-cote-rotie-carmina-2017</td>\n",
       "    </tr>\n",
       "  </tbody>\n",
       "</table>\n",
       "</div>"
      ],
      "text/plain": [
       "  product_id  price    sku  total_sales  \\\n",
       "0       3847   24.2  15298          6.0   \n",
       "1       3849   34.3  15296          0.0   \n",
       "2       3850   20.8  15300          0.0   \n",
       "3       4032   14.1  19814          3.0   \n",
       "4       4039   46.0  19815          0.0   \n",
       "\n",
       "                                           post_name  \n",
       "0        pierre-jean-villa-saint-joseph-preface-2018  \n",
       "1          pierre-jean-villa-saint-joseph-tilde-2017  \n",
       "2  pierre-jean-villa-croze-hermitage-accroche-coe...  \n",
       "3                  pierre-jean-villa-igp-gamine-2018  \n",
       "4          pierre-jean-villa-cote-rotie-carmina-2017  "
      ]
     },
     "execution_count": 27,
     "metadata": {},
     "output_type": "execute_result"
    }
   ],
   "source": [
    "#Merging dataframes\n",
    "df_erp_liaison = pd.merge(df_erp_tri, df_liaison, on='product_id', how='outer')\n",
    "df_final = pd.merge(df_erp_liaison, df_web_tri, on='sku', how='outer')\n",
    "df_final.head(5)"
   ]
  },
  {
   "cell_type": "code",
   "execution_count": 28,
   "id": "d8ef04fd",
   "metadata": {},
   "outputs": [
    {
     "data": {
      "text/plain": [
       "(825, 5)"
      ]
     },
     "execution_count": 28,
     "metadata": {},
     "output_type": "execute_result"
    }
   ],
   "source": [
    "#Shape df \n",
    "df_final.shape"
   ]
  },
  {
   "cell_type": "code",
   "execution_count": 29,
   "id": "442d6cb2",
   "metadata": {},
   "outputs": [
    {
     "data": {
      "text/plain": [
       "product_id       0\n",
       "price            0\n",
       "sku             91\n",
       "total_sales    111\n",
       "post_name      111\n",
       "dtype: int64"
      ]
     },
     "execution_count": 29,
     "metadata": {},
     "output_type": "execute_result"
    }
   ],
   "source": [
    "#Null values check\n",
    "df_final.isnull().sum()"
   ]
  },
  {
   "cell_type": "code",
   "execution_count": 30,
   "id": "46963784",
   "metadata": {
    "scrolled": true
   },
   "outputs": [
    {
     "name": "stdout",
     "output_type": "stream",
     "text": [
      "    product_id  price  sku  total_sales post_name\n",
      "19        4055   86.1  NaN          NaN       NaN\n",
      "20        4090   73.0  NaN          NaN       NaN\n",
      "21        4092   47.0  NaN          NaN       NaN\n",
      "22        4195   14.1  NaN          NaN       NaN\n",
      "23        4209   73.5  NaN          NaN       NaN\n",
      "24        4233   20.0  NaN          NaN       NaN\n",
      "25        4278   21.5  NaN          NaN       NaN\n",
      "26        4279   10.8  NaN          NaN       NaN\n",
      "27        4565   30.5  NaN          NaN       NaN\n",
      "28        4577   49.0  NaN          NaN       NaN\n",
      "29        4578   40.0  NaN          NaN       NaN\n",
      "30        4594  144.0  NaN          NaN       NaN\n",
      "31        4599   36.9  NaN          NaN       NaN\n",
      "32        4659   23.6  NaN          NaN       NaN\n",
      "33        4692   12.0  NaN          NaN       NaN\n",
      "34        4693   18.5  NaN          NaN       NaN\n",
      "35        4697   34.5  NaN          NaN       NaN\n",
      "36        4698   20.5  NaN          NaN       NaN\n",
      "37        4702   23.8  NaN          NaN       NaN\n",
      "38        4721   20.2  NaN          NaN       NaN\n",
      "39        4738   13.5  NaN          NaN       NaN\n",
      "40        4744   13.8  NaN          NaN       NaN\n",
      "41        4798   12.7  NaN          NaN       NaN\n",
      "42        4874   14.6  NaN          NaN       NaN\n",
      "43        4911   23.0  NaN          NaN       NaN\n",
      "44        4973   10.0  NaN          NaN       NaN\n",
      "45        5017    8.0  NaN          NaN       NaN\n",
      "46        5020   10.0  NaN          NaN       NaN\n",
      "47        5070   84.7  NaN          NaN       NaN\n",
      "48        5075   43.3  NaN          NaN       NaN\n",
      "49        5560   47.0  NaN          NaN       NaN\n",
      "50        5569   19.9  NaN          NaN       NaN\n",
      "51        5805   29.2  NaN          NaN       NaN\n",
      "52        5808   34.2  NaN          NaN       NaN\n",
      "53        5952   42.5  NaN          NaN       NaN\n",
      "54        6125   14.2  NaN          NaN       NaN\n",
      "55        6324   92.0  NaN          NaN       NaN\n",
      "56        6327   28.5  NaN          NaN       NaN\n",
      "57        6594    9.1  NaN          NaN       NaN\n",
      "58        6821   28.0  NaN          NaN       NaN\n",
      "59        6824   28.0  NaN          NaN       NaN\n",
      "60        6825   24.0  NaN          NaN       NaN\n",
      "61        6826   18.0  NaN          NaN       NaN\n",
      "62        6864   40.0  NaN          NaN       NaN\n",
      "63        6866   40.0  NaN          NaN       NaN\n",
      "64        6869   40.0  NaN          NaN       NaN\n",
      "65        6875   40.0  NaN          NaN       NaN\n",
      "66        6898   30.0  NaN          NaN       NaN\n",
      "67        6899   26.0  NaN          NaN       NaN\n",
      "68        6900   30.0  NaN          NaN       NaN\n",
      "69        6901   20.0  NaN          NaN       NaN\n",
      "70        6902   31.0  NaN          NaN       NaN\n",
      "71        6903   27.0  NaN          NaN       NaN\n",
      "72        6904   31.0  NaN          NaN       NaN\n",
      "73        6905   21.0  NaN          NaN       NaN\n",
      "74        6906   31.0  NaN          NaN       NaN\n",
      "75        6907   27.0  NaN          NaN       NaN\n",
      "76        6908   31.0  NaN          NaN       NaN\n",
      "77        6909   21.0  NaN          NaN       NaN\n",
      "78        7008   40.0  NaN          NaN       NaN\n",
      "79        7009   40.0  NaN          NaN       NaN\n",
      "80        7010   47.0  NaN          NaN       NaN\n",
      "81        7015   45.0  NaN          NaN       NaN\n",
      "82        7081   45.0  NaN          NaN       NaN\n",
      "83        7084   45.0  NaN          NaN       NaN\n",
      "84        7085   30.0  NaN          NaN       NaN\n",
      "85        7086   26.0  NaN          NaN       NaN\n",
      "86        7087   30.0  NaN          NaN       NaN\n",
      "87        7088   20.0  NaN          NaN       NaN\n",
      "88        7131   45.0  NaN          NaN       NaN\n",
      "89        7132   45.0  NaN          NaN       NaN\n",
      "90        7133   45.0  NaN          NaN       NaN\n",
      "91        7136   45.0  NaN          NaN       NaN\n",
      "92        7137   45.0  NaN          NaN       NaN\n",
      "93        7159   31.0  NaN          NaN       NaN\n",
      "94        7161   21.0  NaN          NaN       NaN\n",
      "95        7162   27.0  NaN          NaN       NaN\n",
      "96        7163   31.0  NaN          NaN       NaN\n",
      "97        7164   31.0  NaN          NaN       NaN\n",
      "98        7168   45.0  NaN          NaN       NaN\n",
      "99        7169   45.0  NaN          NaN       NaN\n",
      "100       7170   45.0  NaN          NaN       NaN\n",
      "101       7192   31.0  NaN          NaN       NaN\n",
      "102       7193   27.0  NaN          NaN       NaN\n",
      "103       7194   31.0  NaN          NaN       NaN\n",
      "104       7195   21.0  NaN          NaN       NaN\n",
      "105       7196   31.0  NaN          NaN       NaN\n",
      "106       7200   31.0  NaN          NaN       NaN\n",
      "107       7201   31.0  NaN          NaN       NaN\n",
      "108       7203   45.0  NaN          NaN       NaN\n",
      "109       7204   45.0  NaN          NaN       NaN\n"
     ]
    }
   ],
   "source": [
    "#Sku null values analysis\n",
    "valeur_manquante_sku = df_final.loc[df_final['sku'].isnull(),:]\n",
    "print(valeur_manquante_sku.to_string())"
   ]
  },
  {
   "cell_type": "code",
   "execution_count": 31,
   "id": "f1884520",
   "metadata": {},
   "outputs": [
    {
     "name": "stdout",
     "output_type": "stream",
     "text": [
      "    product_id  price      sku  total_sales post_name\n",
      "19        4055   86.1      NaN          NaN       NaN\n",
      "20        4090   73.0      NaN          NaN       NaN\n",
      "21        4092   47.0      NaN          NaN       NaN\n",
      "22        4195   14.1      NaN          NaN       NaN\n",
      "23        4209   73.5      NaN          NaN       NaN\n",
      "24        4233   20.0      NaN          NaN       NaN\n",
      "25        4278   21.5      NaN          NaN       NaN\n",
      "26        4279   10.8      NaN          NaN       NaN\n",
      "27        4565   30.5      NaN          NaN       NaN\n",
      "28        4577   49.0      NaN          NaN       NaN\n",
      "29        4578   40.0      NaN          NaN       NaN\n",
      "30        4594  144.0      NaN          NaN       NaN\n",
      "31        4599   36.9      NaN          NaN       NaN\n",
      "32        4659   23.6      NaN          NaN       NaN\n",
      "33        4692   12.0      NaN          NaN       NaN\n",
      "34        4693   18.5      NaN          NaN       NaN\n",
      "35        4697   34.5      NaN          NaN       NaN\n",
      "36        4698   20.5      NaN          NaN       NaN\n",
      "37        4702   23.8      NaN          NaN       NaN\n",
      "38        4721   20.2      NaN          NaN       NaN\n",
      "39        4738   13.5      NaN          NaN       NaN\n",
      "40        4744   13.8      NaN          NaN       NaN\n",
      "41        4798   12.7      NaN          NaN       NaN\n",
      "42        4874   14.6      NaN          NaN       NaN\n",
      "43        4911   23.0      NaN          NaN       NaN\n",
      "44        4973   10.0      NaN          NaN       NaN\n",
      "45        5017    8.0      NaN          NaN       NaN\n",
      "46        5020   10.0      NaN          NaN       NaN\n",
      "47        5070   84.7      NaN          NaN       NaN\n",
      "48        5075   43.3      NaN          NaN       NaN\n",
      "49        5560   47.0      NaN          NaN       NaN\n",
      "50        5569   19.9      NaN          NaN       NaN\n",
      "51        5805   29.2      NaN          NaN       NaN\n",
      "52        5808   34.2      NaN          NaN       NaN\n",
      "53        5952   42.5      NaN          NaN       NaN\n",
      "54        6125   14.2      NaN          NaN       NaN\n",
      "55        6324   92.0      NaN          NaN       NaN\n",
      "56        6327   28.5      NaN          NaN       NaN\n",
      "57        6594    9.1      NaN          NaN       NaN\n",
      "58        6821   28.0      NaN          NaN       NaN\n",
      "59        6824   28.0      NaN          NaN       NaN\n",
      "60        6825   24.0      NaN          NaN       NaN\n",
      "61        6826   18.0      NaN          NaN       NaN\n",
      "62        6864   40.0      NaN          NaN       NaN\n",
      "63        6866   40.0      NaN          NaN       NaN\n",
      "64        6869   40.0      NaN          NaN       NaN\n",
      "65        6875   40.0      NaN          NaN       NaN\n",
      "66        6898   30.0      NaN          NaN       NaN\n",
      "67        6899   26.0      NaN          NaN       NaN\n",
      "68        6900   30.0      NaN          NaN       NaN\n",
      "69        6901   20.0      NaN          NaN       NaN\n",
      "70        6902   31.0      NaN          NaN       NaN\n",
      "71        6903   27.0      NaN          NaN       NaN\n",
      "72        6904   31.0      NaN          NaN       NaN\n",
      "73        6905   21.0      NaN          NaN       NaN\n",
      "74        6906   31.0      NaN          NaN       NaN\n",
      "75        6907   27.0      NaN          NaN       NaN\n",
      "76        6908   31.0      NaN          NaN       NaN\n",
      "77        6909   21.0      NaN          NaN       NaN\n",
      "78        7008   40.0      NaN          NaN       NaN\n",
      "79        7009   40.0      NaN          NaN       NaN\n",
      "80        7010   47.0      NaN          NaN       NaN\n",
      "81        7015   45.0      NaN          NaN       NaN\n",
      "82        7081   45.0      NaN          NaN       NaN\n",
      "83        7084   45.0      NaN          NaN       NaN\n",
      "84        7085   30.0      NaN          NaN       NaN\n",
      "85        7086   26.0      NaN          NaN       NaN\n",
      "86        7087   30.0      NaN          NaN       NaN\n",
      "87        7088   20.0      NaN          NaN       NaN\n",
      "88        7131   45.0      NaN          NaN       NaN\n",
      "89        7132   45.0      NaN          NaN       NaN\n",
      "90        7133   45.0      NaN          NaN       NaN\n",
      "91        7136   45.0      NaN          NaN       NaN\n",
      "92        7137   45.0      NaN          NaN       NaN\n",
      "93        7159   31.0      NaN          NaN       NaN\n",
      "94        7161   21.0      NaN          NaN       NaN\n",
      "95        7162   27.0      NaN          NaN       NaN\n",
      "96        7163   31.0      NaN          NaN       NaN\n",
      "97        7164   31.0      NaN          NaN       NaN\n",
      "98        7168   45.0      NaN          NaN       NaN\n",
      "99        7169   45.0      NaN          NaN       NaN\n",
      "100       7170   45.0      NaN          NaN       NaN\n",
      "101       7192   31.0      NaN          NaN       NaN\n",
      "102       7193   27.0      NaN          NaN       NaN\n",
      "103       7194   31.0      NaN          NaN       NaN\n",
      "104       7195   21.0      NaN          NaN       NaN\n",
      "105       7196   31.0      NaN          NaN       NaN\n",
      "106       7200   31.0      NaN          NaN       NaN\n",
      "107       7201   31.0      NaN          NaN       NaN\n",
      "108       7203   45.0      NaN          NaN       NaN\n",
      "109       7204   45.0      NaN          NaN       NaN\n",
      "276       4289   22.8    13771          NaN       NaN\n",
      "318       4568   21.5    15065          NaN       NaN\n",
      "321       4584   32.3    14785          NaN       NaN\n",
      "425       4741   12.4    12601          NaN       NaN\n",
      "459       4864    8.3    15154          NaN       NaN\n",
      "462       4869   17.2    14360          NaN       NaN\n",
      "490       4921   13.8    15608          NaN       NaN\n",
      "491       4922   21.5    15586          NaN       NaN\n",
      "534       5018   15.4    15272          NaN       NaN\n",
      "536       5021   17.1    15630          NaN       NaN\n",
      "584       5505   10.1    14648          NaN       NaN\n",
      "601       5559   27.9    14715          NaN       NaN\n",
      "607       5570   22.5    14730          NaN       NaN\n",
      "672       5800   32.3    14689          NaN       NaN\n",
      "716       5953   47.5    14379          NaN       NaN\n",
      "717       5954   18.8    15609          NaN       NaN\n",
      "718       5955   27.3    14377          NaN       NaN\n",
      "720       5957   39.0    13577          NaN       NaN\n",
      "743       6100   12.9    15529          NaN       NaN\n",
      "823       7329   26.5  14680-1          NaN       NaN\n"
     ]
    }
   ],
   "source": [
    "#total_sales null values analysis\n",
    "valeur_manquante_total_sales = df_final.loc[df_final['total_sales'].isnull(),:]\n",
    "print(valeur_manquante_total_sales.to_string())"
   ]
  },
  {
   "cell_type": "code",
   "execution_count": 32,
   "id": "e3e59f4d",
   "metadata": {},
   "outputs": [
    {
     "data": {
      "text/html": [
       "<div>\n",
       "<style scoped>\n",
       "    .dataframe tbody tr th:only-of-type {\n",
       "        vertical-align: middle;\n",
       "    }\n",
       "\n",
       "    .dataframe tbody tr th {\n",
       "        vertical-align: top;\n",
       "    }\n",
       "\n",
       "    .dataframe thead th {\n",
       "        text-align: right;\n",
       "    }\n",
       "</style>\n",
       "<table border=\"1\" class=\"dataframe\">\n",
       "  <thead>\n",
       "    <tr style=\"text-align: right;\">\n",
       "      <th></th>\n",
       "      <th>product_id</th>\n",
       "      <th>price</th>\n",
       "      <th>sku</th>\n",
       "      <th>total_sales</th>\n",
       "      <th>post_name</th>\n",
       "    </tr>\n",
       "  </thead>\n",
       "  <tbody>\n",
       "    <tr>\n",
       "      <th>19</th>\n",
       "      <td>False</td>\n",
       "      <td>False</td>\n",
       "      <td>False</td>\n",
       "      <td>False</td>\n",
       "      <td>False</td>\n",
       "    </tr>\n",
       "    <tr>\n",
       "      <th>20</th>\n",
       "      <td>False</td>\n",
       "      <td>False</td>\n",
       "      <td>False</td>\n",
       "      <td>False</td>\n",
       "      <td>False</td>\n",
       "    </tr>\n",
       "    <tr>\n",
       "      <th>21</th>\n",
       "      <td>False</td>\n",
       "      <td>False</td>\n",
       "      <td>False</td>\n",
       "      <td>False</td>\n",
       "      <td>False</td>\n",
       "    </tr>\n",
       "    <tr>\n",
       "      <th>22</th>\n",
       "      <td>False</td>\n",
       "      <td>False</td>\n",
       "      <td>False</td>\n",
       "      <td>False</td>\n",
       "      <td>False</td>\n",
       "    </tr>\n",
       "    <tr>\n",
       "      <th>23</th>\n",
       "      <td>False</td>\n",
       "      <td>False</td>\n",
       "      <td>False</td>\n",
       "      <td>False</td>\n",
       "      <td>False</td>\n",
       "    </tr>\n",
       "    <tr>\n",
       "      <th>...</th>\n",
       "      <td>...</td>\n",
       "      <td>...</td>\n",
       "      <td>...</td>\n",
       "      <td>...</td>\n",
       "      <td>...</td>\n",
       "    </tr>\n",
       "    <tr>\n",
       "      <th>105</th>\n",
       "      <td>False</td>\n",
       "      <td>False</td>\n",
       "      <td>False</td>\n",
       "      <td>False</td>\n",
       "      <td>False</td>\n",
       "    </tr>\n",
       "    <tr>\n",
       "      <th>106</th>\n",
       "      <td>False</td>\n",
       "      <td>False</td>\n",
       "      <td>False</td>\n",
       "      <td>False</td>\n",
       "      <td>False</td>\n",
       "    </tr>\n",
       "    <tr>\n",
       "      <th>107</th>\n",
       "      <td>False</td>\n",
       "      <td>False</td>\n",
       "      <td>False</td>\n",
       "      <td>False</td>\n",
       "      <td>False</td>\n",
       "    </tr>\n",
       "    <tr>\n",
       "      <th>108</th>\n",
       "      <td>False</td>\n",
       "      <td>False</td>\n",
       "      <td>False</td>\n",
       "      <td>False</td>\n",
       "      <td>False</td>\n",
       "    </tr>\n",
       "    <tr>\n",
       "      <th>109</th>\n",
       "      <td>False</td>\n",
       "      <td>False</td>\n",
       "      <td>False</td>\n",
       "      <td>False</td>\n",
       "      <td>False</td>\n",
       "    </tr>\n",
       "  </tbody>\n",
       "</table>\n",
       "<p>91 rows × 5 columns</p>\n",
       "</div>"
      ],
      "text/plain": [
       "     product_id  price    sku  total_sales  post_name\n",
       "19        False  False  False        False      False\n",
       "20        False  False  False        False      False\n",
       "21        False  False  False        False      False\n",
       "22        False  False  False        False      False\n",
       "23        False  False  False        False      False\n",
       "..          ...    ...    ...          ...        ...\n",
       "105       False  False  False        False      False\n",
       "106       False  False  False        False      False\n",
       "107       False  False  False        False      False\n",
       "108       False  False  False        False      False\n",
       "109       False  False  False        False      False\n",
       "\n",
       "[91 rows x 5 columns]"
      ]
     },
     "execution_count": 32,
     "metadata": {},
     "output_type": "execute_result"
    }
   ],
   "source": [
    "#Verification if null values are common between 2 columns\n",
    "valeur_manquante_sku.isin(valeur_manquante_total_sales['sku'])\n",
    "#This shows that in the 111 NaN of total_sales there are the 91 NaN of sku"
   ]
  },
  {
   "cell_type": "code",
   "execution_count": 33,
   "id": "ece9464d",
   "metadata": {
    "scrolled": true
   },
   "outputs": [
    {
     "data": {
      "text/plain": [
       "product_id     0\n",
       "price          0\n",
       "sku            0\n",
       "total_sales    0\n",
       "post_name      0\n",
       "dtype: int64"
      ]
     },
     "execution_count": 33,
     "metadata": {},
     "output_type": "execute_result"
    }
   ],
   "source": [
    "#Droping NaN, because the information of total_sales are unknown, not useful\n",
    "df_final.dropna(inplace=True)\n",
    "df_final.isnull().sum()"
   ]
  },
  {
   "cell_type": "code",
   "execution_count": 34,
   "id": "e33aced1",
   "metadata": {},
   "outputs": [
    {
     "data": {
      "text/plain": [
       "(714, 5)"
      ]
     },
     "execution_count": 34,
     "metadata": {},
     "output_type": "execute_result"
    }
   ],
   "source": [
    "#Shape of final dataframe\n",
    "df_final.shape"
   ]
  },
  {
   "cell_type": "markdown",
   "id": "e973a16c",
   "metadata": {},
   "source": [
    "<a name=\"C9\">\n",
    "<div style=\"background-color: RGB(155,34,66);\" >\n",
    "<h2 style=\"margin: auto; padding: 20px; color:#fff; \">Step 4 - Calculating revenues by product</h2>\n",
    "</div>"
   ]
  },
  {
   "cell_type": "code",
   "execution_count": 35,
   "id": "afa71e75",
   "metadata": {},
   "outputs": [
    {
     "data": {
      "text/html": [
       "<div>\n",
       "<style scoped>\n",
       "    .dataframe tbody tr th:only-of-type {\n",
       "        vertical-align: middle;\n",
       "    }\n",
       "\n",
       "    .dataframe tbody tr th {\n",
       "        vertical-align: top;\n",
       "    }\n",
       "\n",
       "    .dataframe thead th {\n",
       "        text-align: right;\n",
       "    }\n",
       "</style>\n",
       "<table border=\"1\" class=\"dataframe\">\n",
       "  <thead>\n",
       "    <tr style=\"text-align: right;\">\n",
       "      <th></th>\n",
       "      <th>product_id</th>\n",
       "      <th>price</th>\n",
       "      <th>sku</th>\n",
       "      <th>total_sales</th>\n",
       "      <th>post_name</th>\n",
       "      <th>revenue</th>\n",
       "    </tr>\n",
       "  </thead>\n",
       "  <tbody>\n",
       "    <tr>\n",
       "      <th>286</th>\n",
       "      <td>4334</td>\n",
       "      <td>49.0</td>\n",
       "      <td>7818</td>\n",
       "      <td>96.0</td>\n",
       "      <td>champagne-gosset-grand-blanc-de-blanc</td>\n",
       "      <td>4704.0</td>\n",
       "    </tr>\n",
       "    <tr>\n",
       "      <th>162</th>\n",
       "      <td>4144</td>\n",
       "      <td>49.0</td>\n",
       "      <td>1662</td>\n",
       "      <td>87.0</td>\n",
       "      <td>champagne-gosset-grand-rose</td>\n",
       "      <td>4263.0</td>\n",
       "    </tr>\n",
       "    <tr>\n",
       "      <th>310</th>\n",
       "      <td>4402</td>\n",
       "      <td>176.0</td>\n",
       "      <td>3510</td>\n",
       "      <td>13.0</td>\n",
       "      <td>cognac-frapin-vip-xo</td>\n",
       "      <td>2288.0</td>\n",
       "    </tr>\n",
       "    <tr>\n",
       "      <th>161</th>\n",
       "      <td>4142</td>\n",
       "      <td>53.0</td>\n",
       "      <td>11641</td>\n",
       "      <td>30.0</td>\n",
       "      <td>champagne-gosset-grand-millesime-2006</td>\n",
       "      <td>1590.0</td>\n",
       "    </tr>\n",
       "    <tr>\n",
       "      <th>160</th>\n",
       "      <td>4141</td>\n",
       "      <td>39.0</td>\n",
       "      <td>304</td>\n",
       "      <td>40.0</td>\n",
       "      <td>gosset-champagne-grande-reserve</td>\n",
       "      <td>1560.0</td>\n",
       "    </tr>\n",
       "    <tr>\n",
       "      <th>...</th>\n",
       "      <td>...</td>\n",
       "      <td>...</td>\n",
       "      <td>...</td>\n",
       "      <td>...</td>\n",
       "      <td>...</td>\n",
       "      <td>...</td>\n",
       "    </tr>\n",
       "    <tr>\n",
       "      <th>447</th>\n",
       "      <td>4791</td>\n",
       "      <td>13.6</td>\n",
       "      <td>14599</td>\n",
       "      <td>0.0</td>\n",
       "      <td>maurice-schoech-pinot-noir-piece-de-chene-2016</td>\n",
       "      <td>0.0</td>\n",
       "    </tr>\n",
       "    <tr>\n",
       "      <th>446</th>\n",
       "      <td>4790</td>\n",
       "      <td>11.1</td>\n",
       "      <td>15732</td>\n",
       "      <td>0.0</td>\n",
       "      <td>maurice-schoech-riesling-2018</td>\n",
       "      <td>0.0</td>\n",
       "    </tr>\n",
       "    <tr>\n",
       "      <th>443</th>\n",
       "      <td>4786</td>\n",
       "      <td>12.1</td>\n",
       "      <td>15881</td>\n",
       "      <td>0.0</td>\n",
       "      <td>maurice-schoech-gewurztraminer-2018</td>\n",
       "      <td>0.0</td>\n",
       "    </tr>\n",
       "    <tr>\n",
       "      <th>441</th>\n",
       "      <td>4784</td>\n",
       "      <td>28.5</td>\n",
       "      <td>15734</td>\n",
       "      <td>0.0</td>\n",
       "      <td>maurice-schoech-riesling-vendanges-tardives-2017</td>\n",
       "      <td>0.0</td>\n",
       "    </tr>\n",
       "    <tr>\n",
       "      <th>824</th>\n",
       "      <td>7338</td>\n",
       "      <td>16.3</td>\n",
       "      <td>16230</td>\n",
       "      <td>0.0</td>\n",
       "      <td>domaine-saint-nicolas-fiefs-vendeens-blanc-les...</td>\n",
       "      <td>0.0</td>\n",
       "    </tr>\n",
       "  </tbody>\n",
       "</table>\n",
       "<p>714 rows × 6 columns</p>\n",
       "</div>"
      ],
      "text/plain": [
       "    product_id  price    sku  total_sales  \\\n",
       "286       4334   49.0   7818         96.0   \n",
       "162       4144   49.0   1662         87.0   \n",
       "310       4402  176.0   3510         13.0   \n",
       "161       4142   53.0  11641         30.0   \n",
       "160       4141   39.0    304         40.0   \n",
       "..         ...    ...    ...          ...   \n",
       "447       4791   13.6  14599          0.0   \n",
       "446       4790   11.1  15732          0.0   \n",
       "443       4786   12.1  15881          0.0   \n",
       "441       4784   28.5  15734          0.0   \n",
       "824       7338   16.3  16230          0.0   \n",
       "\n",
       "                                             post_name  revenue  \n",
       "286              champagne-gosset-grand-blanc-de-blanc   4704.0  \n",
       "162                        champagne-gosset-grand-rose   4263.0  \n",
       "310                               cognac-frapin-vip-xo   2288.0  \n",
       "161              champagne-gosset-grand-millesime-2006   1590.0  \n",
       "160                    gosset-champagne-grande-reserve   1560.0  \n",
       "..                                                 ...      ...  \n",
       "447     maurice-schoech-pinot-noir-piece-de-chene-2016      0.0  \n",
       "446                      maurice-schoech-riesling-2018      0.0  \n",
       "443                maurice-schoech-gewurztraminer-2018      0.0  \n",
       "441   maurice-schoech-riesling-vendanges-tardives-2017      0.0  \n",
       "824  domaine-saint-nicolas-fiefs-vendeens-blanc-les...      0.0  \n",
       "\n",
       "[714 rows x 6 columns]"
      ]
     },
     "execution_count": 35,
     "metadata": {},
     "output_type": "execute_result"
    }
   ],
   "source": [
    "#Revenues by product\n",
    "df_final['revenue'] = df_final['price']*df_final['total_sales']\n",
    "df_final.sort_values(by=['revenue'], ascending=False)"
   ]
  },
  {
   "cell_type": "code",
   "execution_count": 36,
   "id": "7c4cd8dd",
   "metadata": {},
   "outputs": [
    {
     "name": "stdout",
     "output_type": "stream",
     "text": [
      "The global revenue is  70568.6 €\n"
     ]
    }
   ],
   "source": [
    "#Global revenue\n",
    "print(\"The global revenue is \", df_final['revenue'].sum(),\"€\")"
   ]
  },
  {
   "cell_type": "code",
   "execution_count": 37,
   "id": "6ab5b7db",
   "metadata": {},
   "outputs": [
    {
     "data": {
      "text/plain": [
       "<function matplotlib.pyplot.show(close=None, block=None)>"
      ]
     },
     "execution_count": 37,
     "metadata": {},
     "output_type": "execute_result"
    },
    {
     "data": {
      "image/png": "[encoded data removed]",
      "text/plain": [
       "<Figure size 640x480 with 1 Axes>"
      ]
     },
     "metadata": {},
     "output_type": "display_data"
    }
   ],
   "source": [
    "#Display 5 products with highest revenue\n",
    "df_final['revenue'] = df_final['price']*df_final['total_sales']\n",
    "revenue = df_final.sort_values(by=['revenue'], ascending=False).head(5)\n",
    "\n",
    "sns.barplot(data=revenue, x='product_id', y='revenue')\n",
    "plt.grid(color='gray', linestyle='-', linewidth=0.5)\n",
    "plt.title(\"5 products with the highest sales\", fontsize = 15, fontweight='bold')\n",
    "         \n",
    "plt.show"
   ]
  },
  {
   "cell_type": "markdown",
   "id": "c56b40e8",
   "metadata": {},
   "source": [
    "<a name=\"C10\">\n",
    "<div style=\"background-color: RGB(155,34,66);\" >\n",
    "<h2 style=\"margin: auto; padding: 20px; color:#fff; \">Step 5 - Analysis of variables</h2>\n",
    "</div>"
   ]
  },
  {
   "cell_type": "markdown",
   "id": "c1a62890",
   "metadata": {},
   "source": [
    "<a name=\"C11\">\n",
    "<div style=\"border: 1px solid RGB(155,34,66);\" >\n",
    "<h3 style=\"margin: auto; padding: 20px; color: RGB(155,34,66); \">5.1 - Mode, Average and Median</h3>\n",
    "</div>"
   ]
  },
  {
   "cell_type": "code",
   "execution_count": 38,
   "id": "f6d6c2a2",
   "metadata": {},
   "outputs": [
    {
     "name": "stdout",
     "output_type": "stream",
     "text": [
      "The most common price is 0    19.0\n",
      "Name: price, dtype: float64\n",
      "The average price of the products is 32.49 €\n",
      "The median price is 23.55 €\n"
     ]
    }
   ],
   "source": [
    "#Most frequent price\n",
    "print('The most common price is', round(df_final['price'].mode(),2))\n",
    "#Average price, excluding outliers\n",
    "print('The average price of the products is', round(df_final['price'].mean(),2),'€')\n",
    "#Price median, excluding outliers\n",
    "print('The median price is', round(df_final['price'].median(),2),'€')"
   ]
  },
  {
   "cell_type": "markdown",
   "id": "f9a72b29",
   "metadata": {},
   "source": [
    "<a name=\"C12\">\n",
    "<div style=\"border: 1px solid RGB(155,34,66);\" >\n",
    "<h3 style=\"margin: auto; padding: 20px; color: RGB(155,34,66); \">5.2 - Variance, standard deviation, interquartile range</h3>\n",
    "</div>"
   ]
  },
  {
   "cell_type": "code",
   "execution_count": 39,
   "id": "087f7d02",
   "metadata": {},
   "outputs": [
    {
     "name": "stdout",
     "output_type": "stream",
     "text": [
      "The variance is 773.43\n",
      "The standard deviation is 27.81 €\n",
      "The coefficient of variation is 85.59 %\n",
      "Based on these results, we can conclude that there is a wide disparity in prices.\n"
     ]
    }
   ],
   "source": [
    "#Variance calculation (since this is a population and not a sample, empirical calculation)\n",
    "print('The variance is', round(df_final['price'].var(),2))\n",
    "#Calculation of standard deviation (as this is a population and not a sample, empirical calculation)\n",
    "print(\"The standard deviation is\", round(df_final['price'].std(),2), \"€\")\n",
    "#Calculating the coefficient of variation\n",
    "print(\"The coefficient of variation is\", round(df_final['price'].std()/df_final['price'].mean()*100,2),\"%\")\n",
    "\n",
    "print(\"Based on these results, we can conclude that there is a wide disparity in prices.\")"
   ]
  },
  {
   "cell_type": "code",
   "execution_count": 40,
   "id": "2f7b78a4",
   "metadata": {
    "scrolled": true
   },
   "outputs": [
    {
     "data": {
      "image/png": "[encoded data removed]",
      "text/plain": [
       "<Figure size 640x480 with 1 Axes>"
      ]
     },
     "metadata": {},
     "output_type": "display_data"
    }
   ],
   "source": [
    "#Interquartile range\n",
    "df_final.boxplot(column=\"price\", vert=False)\n",
    "plt.title(\"Interquartile range of prices\", fontsize = 15, fontweight='bold')\n",
    "plt.show()"
   ]
  },
  {
   "cell_type": "markdown",
   "id": "a33b374f",
   "metadata": {},
   "source": [
    "<a name=\"C13\">\n",
    "<div style=\"border: 1px solid RGB(155,34,66);\" >\n",
    "<h3 style=\"margin: auto; padding: 20px; color: RGB(155,34,66); \">5.3 - Skewness</h3>\n",
    "</div>"
   ]
  },
  {
   "cell_type": "code",
   "execution_count": 41,
   "id": "3d231e05",
   "metadata": {},
   "outputs": [
    {
     "data": {
      "text/plain": [
       "<function matplotlib.pyplot.show(close=None, block=None)>"
      ]
     },
     "execution_count": 41,
     "metadata": {},
     "output_type": "execute_result"
    },
    {
     "data": {
      "image/png": "[encoded data removed]",
      "text/plain": [
       "<Figure size 640x480 with 1 Axes>"
      ]
     },
     "metadata": {},
     "output_type": "display_data"
    }
   ],
   "source": [
    "#I display a histogram to see price variations\n",
    "df_final['price'].hist()\n",
    "plt.title(\"Price variation histogram\", fontsize = 15, fontweight='bold')\n",
    "plt.show"
   ]
  },
  {
   "cell_type": "code",
   "execution_count": 42,
   "id": "19972174",
   "metadata": {
    "scrolled": true
   },
   "outputs": [
    {
     "name": "stdout",
     "output_type": "stream",
     "text": [
      "The skewness is 2.58 , the latter being >0, the distribution is spread to the right\n"
     ]
    }
   ],
   "source": [
    "#Skewness calculation\n",
    "print(\"The skewness is\", round((df_final['price'].skew()),2), \", the latter being >0, the distribution is spread to the right\")"
   ]
  },
  {
   "cell_type": "markdown",
   "id": "a516cc0b",
   "metadata": {},
   "source": [
    "<a name=\"C14\">\n",
    "<div style=\"border: 1px solid RGB(155,34,66);\" >\n",
    "<h3 style=\"margin: auto; padding: 20px; color: RGB(155,34,66); \">5.4 - Lorenz curve and Gini index </h3>\n",
    "</div>"
   ]
  },
  {
   "cell_type": "code",
   "execution_count": 43,
   "id": "428753c4",
   "metadata": {},
   "outputs": [
    {
     "data": {
      "text/plain": [
       "<function matplotlib.pyplot.show(close=None, block=None)>"
      ]
     },
     "execution_count": 43,
     "metadata": {},
     "output_type": "execute_result"
    },
    {
     "data": {
      "image/png": "[encoded data removed]",
      "text/plain": [
       "<Figure size 640x480 with 1 Axes>"
      ]
     },
     "metadata": {},
     "output_type": "display_data"
    }
   ],
   "source": [
    "price = df_final['price']\n",
    "n = len(price)\n",
    "lorenz = np.cumsum(np.sort(price))/price.sum()\n",
    "lorenz = np.append([0],lorenz)\n",
    "\n",
    "xaxis = np.linspace(0-1/n,1+1/n,n+1)\n",
    "plt.plot(xaxis,lorenz,drawstyle='steps-post')\n",
    "plt.plot([0,1], [0,1]) #bisséctrice\n",
    "plt.grid(color='gray', linestyle='-', linewidth=0.5)\n",
    "plt.title(\"Lorenz curve\", fontsize = 15, fontweight='bold')\n",
    "plt.show"
   ]
  },
  {
   "cell_type": "code",
   "execution_count": 52,
   "id": "938a83b1",
   "metadata": {},
   "outputs": [
    {
     "name": "stdout",
     "output_type": "stream",
     "text": [
      "the Gini index is 0.41\n",
      "the Gini index shows us that bottle prices are globally concentrated\n"
     ]
    }
   ],
   "source": [
    "#Gini index\n",
    "AUC = (lorenz.sum() -lorenz[-1]/2 -lorenz[0]/2)/n\n",
    "\n",
    "S = 0.5 - AUC\n",
    "gini = 2*S\n",
    "print(\"the Gini index is\",round(gini,2))\n",
    "print(\"the Gini index shows us that bottle prices are globally concentrated\")"
   ]
  },
  {
   "cell_type": "markdown",
   "id": "b19f998a",
   "metadata": {},
   "source": [
    "<a name=\"C15\">\n",
    "<div style=\"border: 1px solid RGB(155,34,66);\" >\n",
    "<h3 style=\"margin: auto; padding: 20px; color: RGB(155,34,66); \">5.5 - Z-score</h3>\n",
    "</div>"
   ]
  },
  {
   "cell_type": "code",
   "execution_count": 45,
   "id": "fc6052a2",
   "metadata": {},
   "outputs": [
    {
     "data": {
      "text/html": [
       "<div>\n",
       "<style scoped>\n",
       "    .dataframe tbody tr th:only-of-type {\n",
       "        vertical-align: middle;\n",
       "    }\n",
       "\n",
       "    .dataframe tbody tr th {\n",
       "        vertical-align: top;\n",
       "    }\n",
       "\n",
       "    .dataframe thead th {\n",
       "        text-align: right;\n",
       "    }\n",
       "</style>\n",
       "<table border=\"1\" class=\"dataframe\">\n",
       "  <thead>\n",
       "    <tr style=\"text-align: right;\">\n",
       "      <th></th>\n",
       "      <th>product_id</th>\n",
       "      <th>price</th>\n",
       "      <th>sku</th>\n",
       "      <th>total_sales</th>\n",
       "      <th>post_name</th>\n",
       "      <th>revenue</th>\n",
       "      <th>zscore</th>\n",
       "    </tr>\n",
       "  </thead>\n",
       "  <tbody>\n",
       "    <tr>\n",
       "      <th>0</th>\n",
       "      <td>3847</td>\n",
       "      <td>24.2</td>\n",
       "      <td>15298</td>\n",
       "      <td>6.0</td>\n",
       "      <td>pierre-jean-villa-saint-joseph-preface-2018</td>\n",
       "      <td>145.2</td>\n",
       "      <td>-0.298410</td>\n",
       "    </tr>\n",
       "    <tr>\n",
       "      <th>1</th>\n",
       "      <td>3849</td>\n",
       "      <td>34.3</td>\n",
       "      <td>15296</td>\n",
       "      <td>0.0</td>\n",
       "      <td>pierre-jean-villa-saint-joseph-tilde-2017</td>\n",
       "      <td>0.0</td>\n",
       "      <td>0.065016</td>\n",
       "    </tr>\n",
       "    <tr>\n",
       "      <th>2</th>\n",
       "      <td>3850</td>\n",
       "      <td>20.8</td>\n",
       "      <td>15300</td>\n",
       "      <td>0.0</td>\n",
       "      <td>pierre-jean-villa-croze-hermitage-accroche-coe...</td>\n",
       "      <td>0.0</td>\n",
       "      <td>-0.420752</td>\n",
       "    </tr>\n",
       "    <tr>\n",
       "      <th>3</th>\n",
       "      <td>4032</td>\n",
       "      <td>14.1</td>\n",
       "      <td>19814</td>\n",
       "      <td>3.0</td>\n",
       "      <td>pierre-jean-villa-igp-gamine-2018</td>\n",
       "      <td>42.3</td>\n",
       "      <td>-0.661837</td>\n",
       "    </tr>\n",
       "    <tr>\n",
       "      <th>4</th>\n",
       "      <td>4039</td>\n",
       "      <td>46.0</td>\n",
       "      <td>19815</td>\n",
       "      <td>0.0</td>\n",
       "      <td>pierre-jean-villa-cote-rotie-carmina-2017</td>\n",
       "      <td>0.0</td>\n",
       "      <td>0.486015</td>\n",
       "    </tr>\n",
       "  </tbody>\n",
       "</table>\n",
       "</div>"
      ],
      "text/plain": [
       "  product_id  price    sku  total_sales  \\\n",
       "0       3847   24.2  15298          6.0   \n",
       "1       3849   34.3  15296          0.0   \n",
       "2       3850   20.8  15300          0.0   \n",
       "3       4032   14.1  19814          3.0   \n",
       "4       4039   46.0  19815          0.0   \n",
       "\n",
       "                                           post_name  revenue    zscore  \n",
       "0        pierre-jean-villa-saint-joseph-preface-2018    145.2 -0.298410  \n",
       "1          pierre-jean-villa-saint-joseph-tilde-2017      0.0  0.065016  \n",
       "2  pierre-jean-villa-croze-hermitage-accroche-coe...      0.0 -0.420752  \n",
       "3                  pierre-jean-villa-igp-gamine-2018     42.3 -0.661837  \n",
       "4          pierre-jean-villa-cote-rotie-carmina-2017      0.0  0.486015  "
      ]
     },
     "execution_count": 45,
     "metadata": {},
     "output_type": "execute_result"
    }
   ],
   "source": [
    "#I calculate the Zscore to allow us to sort outliers\n",
    "df_final['zscore'] = st.zscore(df_final['price'])\n",
    "df_final.head(5)"
   ]
  },
  {
   "cell_type": "code",
   "execution_count": 46,
   "id": "32bd43f0",
   "metadata": {},
   "outputs": [
    {
     "data": {
      "text/html": [
       "<div>\n",
       "<style scoped>\n",
       "    .dataframe tbody tr th:only-of-type {\n",
       "        vertical-align: middle;\n",
       "    }\n",
       "\n",
       "    .dataframe tbody tr th {\n",
       "        vertical-align: top;\n",
       "    }\n",
       "\n",
       "    .dataframe thead th {\n",
       "        text-align: right;\n",
       "    }\n",
       "</style>\n",
       "<table border=\"1\" class=\"dataframe\">\n",
       "  <thead>\n",
       "    <tr style=\"text-align: right;\">\n",
       "      <th></th>\n",
       "      <th>product_id</th>\n",
       "      <th>price</th>\n",
       "      <th>sku</th>\n",
       "      <th>total_sales</th>\n",
       "      <th>post_name</th>\n",
       "      <th>revenue</th>\n",
       "      <th>zscore</th>\n",
       "    </tr>\n",
       "  </thead>\n",
       "  <tbody>\n",
       "    <tr>\n",
       "      <th>291</th>\n",
       "      <td>4352</td>\n",
       "      <td>225.0</td>\n",
       "      <td>15940</td>\n",
       "      <td>5.0</td>\n",
       "      <td>champagne-egly-ouriet-grand-cru-millesime-2008</td>\n",
       "      <td>1125.0</td>\n",
       "      <td>6.926939</td>\n",
       "    </tr>\n",
       "    <tr>\n",
       "      <th>525</th>\n",
       "      <td>5001</td>\n",
       "      <td>217.5</td>\n",
       "      <td>14581</td>\n",
       "      <td>0.0</td>\n",
       "      <td>david-duband-charmes-chambertin-grand-cru-2014</td>\n",
       "      <td>0.0</td>\n",
       "      <td>6.657068</td>\n",
       "    </tr>\n",
       "    <tr>\n",
       "      <th>692</th>\n",
       "      <td>5892</td>\n",
       "      <td>191.3</td>\n",
       "      <td>14983</td>\n",
       "      <td>3.0</td>\n",
       "      <td>coteaux-champenois-egly-ouriet-ambonnay-rouge-...</td>\n",
       "      <td>573.9</td>\n",
       "      <td>5.714318</td>\n",
       "    </tr>\n",
       "    <tr>\n",
       "      <th>310</th>\n",
       "      <td>4402</td>\n",
       "      <td>176.0</td>\n",
       "      <td>3510</td>\n",
       "      <td>13.0</td>\n",
       "      <td>cognac-frapin-vip-xo</td>\n",
       "      <td>2288.0</td>\n",
       "      <td>5.163781</td>\n",
       "    </tr>\n",
       "    <tr>\n",
       "      <th>657</th>\n",
       "      <td>5767</td>\n",
       "      <td>175.0</td>\n",
       "      <td>15185</td>\n",
       "      <td>0.0</td>\n",
       "      <td>camille-giroud-clos-de-vougeot-2016</td>\n",
       "      <td>0.0</td>\n",
       "      <td>5.127798</td>\n",
       "    </tr>\n",
       "    <tr>\n",
       "      <th>313</th>\n",
       "      <td>4406</td>\n",
       "      <td>157.0</td>\n",
       "      <td>7819</td>\n",
       "      <td>0.0</td>\n",
       "      <td>cognac-frapin-chateau-de-fontpinot-1989-20-ans</td>\n",
       "      <td>0.0</td>\n",
       "      <td>4.480108</td>\n",
       "    </tr>\n",
       "    <tr>\n",
       "      <th>478</th>\n",
       "      <td>4904</td>\n",
       "      <td>137.0</td>\n",
       "      <td>14220</td>\n",
       "      <td>5.0</td>\n",
       "      <td>domaine-des-croix-corton-charlemagne-grand-cru...</td>\n",
       "      <td>685.0</td>\n",
       "      <td>3.760451</td>\n",
       "    </tr>\n",
       "    <tr>\n",
       "      <th>752</th>\n",
       "      <td>6126</td>\n",
       "      <td>135.0</td>\n",
       "      <td>14923</td>\n",
       "      <td>2.0</td>\n",
       "      <td>champagne-gosset-celebris-vintage-2007</td>\n",
       "      <td>270.0</td>\n",
       "      <td>3.688486</td>\n",
       "    </tr>\n",
       "    <tr>\n",
       "      <th>293</th>\n",
       "      <td>4355</td>\n",
       "      <td>126.5</td>\n",
       "      <td>12589</td>\n",
       "      <td>11.0</td>\n",
       "      <td>champagne-egly-ouriet-grand-cru-brut-blanc-de-...</td>\n",
       "      <td>1391.5</td>\n",
       "      <td>3.382632</td>\n",
       "    </tr>\n",
       "    <tr>\n",
       "      <th>615</th>\n",
       "      <td>5612</td>\n",
       "      <td>124.8</td>\n",
       "      <td>14915</td>\n",
       "      <td>0.0</td>\n",
       "      <td>domaine-weinbach-gewurztraminer-gc-furstentum-...</td>\n",
       "      <td>0.0</td>\n",
       "      <td>3.321461</td>\n",
       "    </tr>\n",
       "    <tr>\n",
       "      <th>708</th>\n",
       "      <td>5917</td>\n",
       "      <td>122.0</td>\n",
       "      <td>14775</td>\n",
       "      <td>0.0</td>\n",
       "      <td>wemyss-malts-single-cask-scotch-whisky-choc-n-...</td>\n",
       "      <td>0.0</td>\n",
       "      <td>3.220709</td>\n",
       "    </tr>\n",
       "    <tr>\n",
       "      <th>767</th>\n",
       "      <td>6216</td>\n",
       "      <td>121.0</td>\n",
       "      <td>15070</td>\n",
       "      <td>0.0</td>\n",
       "      <td>domaine-des-comtes-lafon-volnay-1er-cru-champa...</td>\n",
       "      <td>0.0</td>\n",
       "      <td>3.184726</td>\n",
       "    </tr>\n",
       "    <tr>\n",
       "      <th>764</th>\n",
       "      <td>6213</td>\n",
       "      <td>121.0</td>\n",
       "      <td>15072</td>\n",
       "      <td>0.0</td>\n",
       "      <td>domaine-des-comtes-lafon-volnay-1er-cru-santen...</td>\n",
       "      <td>0.0</td>\n",
       "      <td>3.184726</td>\n",
       "    </tr>\n",
       "    <tr>\n",
       "      <th>758</th>\n",
       "      <td>6202</td>\n",
       "      <td>116.4</td>\n",
       "      <td>15126</td>\n",
       "      <td>0.0</td>\n",
       "      <td>domaine-clerget-echezeaux-en-orveaux-2015</td>\n",
       "      <td>0.0</td>\n",
       "      <td>3.019205</td>\n",
       "    </tr>\n",
       "    <tr>\n",
       "      <th>766</th>\n",
       "      <td>6215</td>\n",
       "      <td>115.0</td>\n",
       "      <td>12790</td>\n",
       "      <td>0.0</td>\n",
       "      <td>domaine-des-comtes-lafon-volnay-1er-cru-champa...</td>\n",
       "      <td>0.0</td>\n",
       "      <td>2.968829</td>\n",
       "    </tr>\n",
       "    <tr>\n",
       "      <th>763</th>\n",
       "      <td>6212</td>\n",
       "      <td>115.0</td>\n",
       "      <td>13996</td>\n",
       "      <td>2.0</td>\n",
       "      <td>domaine-des-comtes-lafon-volnay-1er-cru-santen...</td>\n",
       "      <td>230.0</td>\n",
       "      <td>2.968829</td>\n",
       "    </tr>\n",
       "    <tr>\n",
       "      <th>709</th>\n",
       "      <td>5918</td>\n",
       "      <td>114.0</td>\n",
       "      <td>14773</td>\n",
       "      <td>0.0</td>\n",
       "      <td>wemyss-malts-single-cask-scotch-whisky-chai-ca...</td>\n",
       "      <td>0.0</td>\n",
       "      <td>2.932846</td>\n",
       "    </tr>\n",
       "    <tr>\n",
       "      <th>538</th>\n",
       "      <td>5025</td>\n",
       "      <td>112.0</td>\n",
       "      <td>13914</td>\n",
       "      <td>0.0</td>\n",
       "      <td>champagne-agrapart-fils-lavizoise-grand-cru-20...</td>\n",
       "      <td>0.0</td>\n",
       "      <td>2.860881</td>\n",
       "    </tr>\n",
       "    <tr>\n",
       "      <th>320</th>\n",
       "      <td>4582</td>\n",
       "      <td>109.6</td>\n",
       "      <td>12857</td>\n",
       "      <td>0.0</td>\n",
       "      <td>chateau-de-puligny-montrachet-1cru-champ-canet...</td>\n",
       "      <td>0.0</td>\n",
       "      <td>2.774522</td>\n",
       "    </tr>\n",
       "    <tr>\n",
       "      <th>311</th>\n",
       "      <td>4404</td>\n",
       "      <td>108.5</td>\n",
       "      <td>3507</td>\n",
       "      <td>2.0</td>\n",
       "      <td>cognac-frapin-fontpinot-xo</td>\n",
       "      <td>217.0</td>\n",
       "      <td>2.734941</td>\n",
       "    </tr>\n",
       "    <tr>\n",
       "      <th>757</th>\n",
       "      <td>6201</td>\n",
       "      <td>105.6</td>\n",
       "      <td>14596</td>\n",
       "      <td>0.0</td>\n",
       "      <td>david-duband-chambolle-musigny-1er-cru-les-sen...</td>\n",
       "      <td>0.0</td>\n",
       "      <td>2.630591</td>\n",
       "    </tr>\n",
       "    <tr>\n",
       "      <th>531</th>\n",
       "      <td>5008</td>\n",
       "      <td>105.0</td>\n",
       "      <td>11602</td>\n",
       "      <td>0.0</td>\n",
       "      <td>domaine-des-comtes-lafon-volnay-1er-cru-santen...</td>\n",
       "      <td>0.0</td>\n",
       "      <td>2.609001</td>\n",
       "    </tr>\n",
       "    <tr>\n",
       "      <th>530</th>\n",
       "      <td>5007</td>\n",
       "      <td>105.0</td>\n",
       "      <td>12791</td>\n",
       "      <td>0.0</td>\n",
       "      <td>domaine-des-comtes-lafon-volnay-1er-cru-santen...</td>\n",
       "      <td>0.0</td>\n",
       "      <td>2.609001</td>\n",
       "    </tr>\n",
       "    <tr>\n",
       "      <th>314</th>\n",
       "      <td>4407</td>\n",
       "      <td>104.0</td>\n",
       "      <td>3509</td>\n",
       "      <td>1.0</td>\n",
       "      <td>cognac-frapin-cigar-blend</td>\n",
       "      <td>104.0</td>\n",
       "      <td>2.573018</td>\n",
       "    </tr>\n",
       "    <tr>\n",
       "      <th>477</th>\n",
       "      <td>4903</td>\n",
       "      <td>102.3</td>\n",
       "      <td>14805</td>\n",
       "      <td>0.0</td>\n",
       "      <td>domaine-des-croix-corton-grand-cru-les-greves-...</td>\n",
       "      <td>0.0</td>\n",
       "      <td>2.511848</td>\n",
       "    </tr>\n",
       "    <tr>\n",
       "      <th>154</th>\n",
       "      <td>4115</td>\n",
       "      <td>100.0</td>\n",
       "      <td>15382</td>\n",
       "      <td>0.0</td>\n",
       "      <td>zind-humbrecht-riesling-gc-rangen-thann-clos-s...</td>\n",
       "      <td>0.0</td>\n",
       "      <td>2.429087</td>\n",
       "    </tr>\n",
       "    <tr>\n",
       "      <th>765</th>\n",
       "      <td>6214</td>\n",
       "      <td>99.0</td>\n",
       "      <td>11601</td>\n",
       "      <td>0.0</td>\n",
       "      <td>domaine-des-comtes-lafon-volnay-1er-cru-champa...</td>\n",
       "      <td>0.0</td>\n",
       "      <td>2.393104</td>\n",
       "    </tr>\n",
       "    <tr>\n",
       "      <th>707</th>\n",
       "      <td>5916</td>\n",
       "      <td>93.0</td>\n",
       "      <td>14774</td>\n",
       "      <td>0.0</td>\n",
       "      <td>wemyss-malts-single-cask-chocolate-moka-cake</td>\n",
       "      <td>0.0</td>\n",
       "      <td>2.177207</td>\n",
       "    </tr>\n",
       "    <tr>\n",
       "      <th>605</th>\n",
       "      <td>5565</td>\n",
       "      <td>92.0</td>\n",
       "      <td>19822</td>\n",
       "      <td>0.0</td>\n",
       "      <td>tempier-bandol-cabassaou-2017</td>\n",
       "      <td>0.0</td>\n",
       "      <td>2.141225</td>\n",
       "    </tr>\n",
       "    <tr>\n",
       "      <th>156</th>\n",
       "      <td>4132</td>\n",
       "      <td>88.4</td>\n",
       "      <td>11668</td>\n",
       "      <td>0.0</td>\n",
       "      <td>zind-humbrecht-pinot-gris-grand-cru-rangen-de-...</td>\n",
       "      <td>0.0</td>\n",
       "      <td>2.011686</td>\n",
       "    </tr>\n",
       "  </tbody>\n",
       "</table>\n",
       "</div>"
      ],
      "text/plain": [
       "    product_id  price    sku  total_sales  \\\n",
       "291       4352  225.0  15940          5.0   \n",
       "525       5001  217.5  14581          0.0   \n",
       "692       5892  191.3  14983          3.0   \n",
       "310       4402  176.0   3510         13.0   \n",
       "657       5767  175.0  15185          0.0   \n",
       "313       4406  157.0   7819          0.0   \n",
       "478       4904  137.0  14220          5.0   \n",
       "752       6126  135.0  14923          2.0   \n",
       "293       4355  126.5  12589         11.0   \n",
       "615       5612  124.8  14915          0.0   \n",
       "708       5917  122.0  14775          0.0   \n",
       "767       6216  121.0  15070          0.0   \n",
       "764       6213  121.0  15072          0.0   \n",
       "758       6202  116.4  15126          0.0   \n",
       "766       6215  115.0  12790          0.0   \n",
       "763       6212  115.0  13996          2.0   \n",
       "709       5918  114.0  14773          0.0   \n",
       "538       5025  112.0  13914          0.0   \n",
       "320       4582  109.6  12857          0.0   \n",
       "311       4404  108.5   3507          2.0   \n",
       "757       6201  105.6  14596          0.0   \n",
       "531       5008  105.0  11602          0.0   \n",
       "530       5007  105.0  12791          0.0   \n",
       "314       4407  104.0   3509          1.0   \n",
       "477       4903  102.3  14805          0.0   \n",
       "154       4115  100.0  15382          0.0   \n",
       "765       6214   99.0  11601          0.0   \n",
       "707       5916   93.0  14774          0.0   \n",
       "605       5565   92.0  19822          0.0   \n",
       "156       4132   88.4  11668          0.0   \n",
       "\n",
       "                                             post_name  revenue    zscore  \n",
       "291     champagne-egly-ouriet-grand-cru-millesime-2008   1125.0  6.926939  \n",
       "525     david-duband-charmes-chambertin-grand-cru-2014      0.0  6.657068  \n",
       "692  coteaux-champenois-egly-ouriet-ambonnay-rouge-...    573.9  5.714318  \n",
       "310                               cognac-frapin-vip-xo   2288.0  5.163781  \n",
       "657                camille-giroud-clos-de-vougeot-2016      0.0  5.127798  \n",
       "313     cognac-frapin-chateau-de-fontpinot-1989-20-ans      0.0  4.480108  \n",
       "478  domaine-des-croix-corton-charlemagne-grand-cru...    685.0  3.760451  \n",
       "752             champagne-gosset-celebris-vintage-2007    270.0  3.688486  \n",
       "293  champagne-egly-ouriet-grand-cru-brut-blanc-de-...   1391.5  3.382632  \n",
       "615  domaine-weinbach-gewurztraminer-gc-furstentum-...      0.0  3.321461  \n",
       "708  wemyss-malts-single-cask-scotch-whisky-choc-n-...      0.0  3.220709  \n",
       "767  domaine-des-comtes-lafon-volnay-1er-cru-champa...      0.0  3.184726  \n",
       "764  domaine-des-comtes-lafon-volnay-1er-cru-santen...      0.0  3.184726  \n",
       "758          domaine-clerget-echezeaux-en-orveaux-2015      0.0  3.019205  \n",
       "766  domaine-des-comtes-lafon-volnay-1er-cru-champa...      0.0  2.968829  \n",
       "763  domaine-des-comtes-lafon-volnay-1er-cru-santen...    230.0  2.968829  \n",
       "709  wemyss-malts-single-cask-scotch-whisky-chai-ca...      0.0  2.932846  \n",
       "538  champagne-agrapart-fils-lavizoise-grand-cru-20...      0.0  2.860881  \n",
       "320  chateau-de-puligny-montrachet-1cru-champ-canet...      0.0  2.774522  \n",
       "311                         cognac-frapin-fontpinot-xo    217.0  2.734941  \n",
       "757  david-duband-chambolle-musigny-1er-cru-les-sen...      0.0  2.630591  \n",
       "531  domaine-des-comtes-lafon-volnay-1er-cru-santen...      0.0  2.609001  \n",
       "530  domaine-des-comtes-lafon-volnay-1er-cru-santen...      0.0  2.609001  \n",
       "314                          cognac-frapin-cigar-blend    104.0  2.573018  \n",
       "477  domaine-des-croix-corton-grand-cru-les-greves-...      0.0  2.511848  \n",
       "154  zind-humbrecht-riesling-gc-rangen-thann-clos-s...      0.0  2.429087  \n",
       "765  domaine-des-comtes-lafon-volnay-1er-cru-champa...      0.0  2.393104  \n",
       "707       wemyss-malts-single-cask-chocolate-moka-cake      0.0  2.177207  \n",
       "605                      tempier-bandol-cabassaou-2017      0.0  2.141225  \n",
       "156  zind-humbrecht-pinot-gris-grand-cru-rangen-de-...      0.0  2.011686  "
      ]
     },
     "execution_count": 46,
     "metadata": {},
     "output_type": "execute_result"
    }
   ],
   "source": [
    "#I filter values with a Zscore >=2\n",
    "df_final.loc[df_final['zscore']>=2].sort_values(by=['zscore'], ascending=False)"
   ]
  },
  {
   "cell_type": "code",
   "execution_count": 47,
   "id": "79044b99",
   "metadata": {},
   "outputs": [
    {
     "data": {
      "text/html": [
       "<div>\n",
       "<style scoped>\n",
       "    .dataframe tbody tr th:only-of-type {\n",
       "        vertical-align: middle;\n",
       "    }\n",
       "\n",
       "    .dataframe tbody tr th {\n",
       "        vertical-align: top;\n",
       "    }\n",
       "\n",
       "    .dataframe thead th {\n",
       "        text-align: right;\n",
       "    }\n",
       "</style>\n",
       "<table border=\"1\" class=\"dataframe\">\n",
       "  <thead>\n",
       "    <tr style=\"text-align: right;\">\n",
       "      <th></th>\n",
       "      <th>product_id</th>\n",
       "      <th>price</th>\n",
       "      <th>sku</th>\n",
       "      <th>total_sales</th>\n",
       "      <th>post_name</th>\n",
       "      <th>revenue</th>\n",
       "      <th>zscore</th>\n",
       "    </tr>\n",
       "  </thead>\n",
       "  <tbody>\n",
       "  </tbody>\n",
       "</table>\n",
       "</div>"
      ],
      "text/plain": [
       "Empty DataFrame\n",
       "Columns: [product_id, price, sku, total_sales, post_name, revenue, zscore]\n",
       "Index: []"
      ]
     },
     "execution_count": 47,
     "metadata": {},
     "output_type": "execute_result"
    }
   ],
   "source": [
    "#Filter out values with a zscore >-2\n",
    "df_final.loc[df_final['zscore']<-2].sort_values(by=['zscore'])"
   ]
  },
  {
   "cell_type": "code",
   "execution_count": 48,
   "id": "11e1eead",
   "metadata": {},
   "outputs": [
    {
     "name": "stdout",
     "output_type": "stream",
     "text": [
      "The number of outliers is 30\n"
     ]
    }
   ],
   "source": [
    "#Number of outliers\n",
    "print(\"The number of outliers is\", len(df_final.loc[df_final['zscore']>=2].sort_values(by=['zscore'], ascending=False)))"
   ]
  },
  {
   "cell_type": "markdown",
   "id": "16874dc8",
   "metadata": {},
   "source": [
    "<a name=\"C16\">\n",
    "<div style=\"border: 1px solid RGB(155,34,66);\" >\n",
    "<h3 style=\"margin: auto; padding: 20px; color: RGB(155,34,66); \">5.6 - Sort by price category</h3>\n",
    "</div>"
   ]
  },
  {
   "cell_type": "code",
   "execution_count": 53,
   "id": "7df90307",
   "metadata": {},
   "outputs": [
    {
     "data": {
      "image/png": "[encoded data removed]",
      "text/plain": [
       "<Figure size 640x480 with 1 Axes>"
      ]
     },
     "metadata": {},
     "output_type": "display_data"
    }
   ],
   "source": [
    "#Prices being different, classificatiton by price category\n",
    "df_final['categories_prix'] = 0\n",
    "df_final.loc[df_final['price'] <= 20, 'categories_prix'] = '20€'\n",
    "df_final.loc[(df_final['price'] > 20) & (df_final['price'] <= 40), 'categories_prix'] = '20-40€'\n",
    "df_final.loc[(df_final['price'] > 40) & (df_final['price'] <= 60), 'categories_prix'] = '40-60€'\n",
    "df_final.loc[(df_final['price'] > 60) & (df_final['price'] <= 88), 'categories_prix'] = '60-88€'\n",
    "df_final.loc[df_final['price'] > 88, 'categories_prix'] = 'outliers'\n",
    "\n",
    "sns.boxplot(y='price', x='categories_prix', data=df_final.sort_values(by=['price'], ascending=True), orient='v')\n",
    "plt.title(\"Boxplot par catégories\", fontsize = 15, fontweight='bold')\n",
    "plt.show()"
   ]
  },
  {
   "cell_type": "markdown",
   "id": "cf7bb823",
   "metadata": {},
   "source": [
    "<a name=\"C17\">\n",
    "<div style=\"background-color: RGB(155,34,66);\" >\n",
    "<h2 style=\"margin: auto; padding: 20px; color:#fff; \">Step 6 - Correlation between two quantitative variables</h2>\n",
    "</div>"
   ]
  },
  {
   "cell_type": "markdown",
   "id": "ff71abce",
   "metadata": {},
   "source": [
    "<a name=\"C18\">\n",
    "<div style=\"border: 1px solid RGB(155,34,66);\" >\n",
    "<h3 style=\"margin: auto; padding: 20px; color: RGB(155,34,66); \">6.1 - Dispersion diagramme</h3>\n",
    "</div>"
   ]
  },
  {
   "cell_type": "code",
   "execution_count": 54,
   "id": "b69dd172",
   "metadata": {
    "scrolled": true
   },
   "outputs": [
    {
     "data": {
      "text/plain": [
       "<function matplotlib.pyplot.show(close=None, block=None)>"
      ]
     },
     "execution_count": 54,
     "metadata": {},
     "output_type": "execute_result"
    },
    {
     "data": {
      "image/png": "[encoded data removed]",
      "text/plain": [
       "<Figure size 640x480 with 1 Axes>"
      ]
     },
     "metadata": {},
     "output_type": "display_data"
    }
   ],
   "source": [
    "#Scatter plot to check if there is a relationship between the price and the number of sales.\n",
    "diagramme = df_final.loc[df_final['total_sales']>1,:]\n",
    "sns.scatterplot(data=diagramme, x='price', y='total_sales')\n",
    "plt.grid(color='gray', linestyle='-', linewidth=0.5)\n",
    "plt.title(\"Scatterplot sales dispersion\", fontsize = 15, fontweight='bold')\n",
    "plt.show"
   ]
  }
 ],
 "metadata": {
  "kernelspec": {
   "display_name": "Python 3 (ipykernel)",
   "language": "python",
   "name": "python3"
  },
  "language_info": {
   "codemirror_mode": {
    "name": "ipython",
    "version": 3
   },
   "file_extension": ".py",
   "mimetype": "text/x-python",
   "name": "python",
   "nbconvert_exporter": "python",
   "pygments_lexer": "ipython3",
   "version": "3.8.18"
  }
 },
 "nbformat": 4,
 "nbformat_minor": 5
}
